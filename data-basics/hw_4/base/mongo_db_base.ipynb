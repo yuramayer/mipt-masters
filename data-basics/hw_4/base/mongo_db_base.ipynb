{
  "cells": [
    {
      "cell_type": "markdown",
      "metadata": {
        "id": "LbOZ0b-MLYMG"
      },
      "source": [
        "# Выборка и агрегация данных в MongoDB\n",
        "\n",
        "### Цель домашней работы\n",
        "\n",
        "Закрепить на практике основные приемы работы с СУБД MongoDB, включая выборку, сортировку, объединение, агрегацию данных и передачу результатов выборки в программу на Python в целях аналитики и дальнейшей обработки."
      ]
    },
    {
      "cell_type": "markdown",
      "metadata": {
        "id": "VGMYMmFvEAQY"
      },
      "source": [
        "### Формулировка задания\n",
        "\n",
        "В этом задании вам предстоит выполнить несколько запросов к базе данных для получения выборок по условиям, а также воспользоваться фреймворком агрегации MongoDB для построения конвейера обработки данных.\n",
        "\n",
        "Максимальное количество баллов за выполнение домашней работы: 10."
      ]
    },
    {
      "cell_type": "markdown",
      "metadata": {
        "id": "3S2xr8EESZ8A"
      },
      "source": [
        "##Что нужно использовать в работе над заданием\n",
        "\n",
        "I. MongoDB:\n",
        "\n",
        "1. Зарегистрируйтесь в сервисе MongoDB Atlas: https://www.mongodb.com/atlas/database.\n",
        "1. Создайте кластер уровня M0 (это бесплатно).\n",
        "1. Добавьте в кластер тестовую базу данных `sample_mflix`, используя опцию Load Sample Dataset.\n",
        "\n",
        "В качестве альтернативы вы можете установить MongoDB на свой локальный компьютер и импортировать необходимые датасеты в свою СУБД, загрузив их по ссылке: https://github.com/neelabalan/mongodb-sample-dataset/tree/main/sample_mflix. Для этого подключитесь к своему серверу через Compass, создайте новую БД, создайте для каждого датасета коллекцию и щелкните «Add data» → «Import JSON or CSV file».\n",
        "\n",
        "II. MongoDB Compass — в качестве вспомогательного инструмента для конструирования запросов и агрегаций.\n",
        "\n",
        "III. Python и библиотека pymongo. Работа ведется в Jupyter Notebook или Google Colaboratory. Рекомендуется использовать версию Python 3.12."
      ]
    },
    {
      "cell_type": "markdown",
      "metadata": {
        "id": "xyG0RIatRiaQ"
      },
      "source": [
        "##Ожидаемые результаты\n",
        "\n",
        "Результаты работы необходимо оформить в виде ноутбука Jupyter. Можно загрузить файл в LMS либо поделиться ссылкой на Google Colaboratory."
      ]
    },
    {
      "cell_type": "markdown",
      "metadata": {
        "id": "O9MAw9odS5LD"
      },
      "source": [
        "##Место где нужно выполнить задание\n",
        "\n"
      ]
    },
    {
      "cell_type": "code",
      "execution_count": null,
      "metadata": {
        "id": "ktBuEf5lTBnx"
      },
      "outputs": [],
      "source": [
        "#Начать выполнение задания тут"
      ]
    },
    {
      "cell_type": "code",
      "execution_count": null,
      "metadata": {
        "colab": {
          "base_uri": "https://localhost:8080/"
        },
        "id": "hUzn3aDI2stL",
        "outputId": "ec83cccf-e339-4f3c-aefc-29d13c2d612c"
      },
      "outputs": [
        {
          "name": "stdout",
          "output_type": "stream",
          "text": [
            "Collecting pymongo\n",
            "  Downloading pymongo-4.6.1-cp310-cp310-manylinux_2_17_x86_64.manylinux2014_x86_64.whl (677 kB)\n",
            "\u001b[2K     \u001b[90m━━━━━━━━━━━━━━━━━━━━━━━━━━━━━━━━━━━━━━━━\u001b[0m \u001b[32m677.1/677.1 kB\u001b[0m \u001b[31m8.4 MB/s\u001b[0m eta \u001b[36m0:00:00\u001b[0m\n",
            "\u001b[?25hCollecting dnspython<3.0.0,>=1.16.0 (from pymongo)\n",
            "  Downloading dnspython-2.5.0-py3-none-any.whl (305 kB)\n",
            "\u001b[2K     \u001b[90m━━━━━━━━━━━━━━━━━━━━━━━━━━━━━━━━━━━━━━━━\u001b[0m \u001b[32m305.4/305.4 kB\u001b[0m \u001b[31m14.8 MB/s\u001b[0m eta \u001b[36m0:00:00\u001b[0m\n",
            "\u001b[?25hInstalling collected packages: dnspython, pymongo\n",
            "Successfully installed dnspython-2.5.0 pymongo-4.6.1\n",
            "['agg_pipeline', 'my_database', 'sample_airbnb', 'sample_analytics', 'sample_geospatial', 'sample_guides', 'sample_mflix', 'sample_restaurants', 'sample_supplies', 'sample_training', 'sample_weatherdata', 'admin', 'local']\n"
          ]
        }
      ],
      "source": [
        "!pip install pymongo\n",
        "\n",
        "import pymongo\n",
        "\n",
        "client = pymongo.MongoClient(\"mongodb+srv://<ПОЛЬЗОВАТЕЛЬ>:<ПАРОЛЬ>@<АДРЕС КЛАСТЕРА>\")\n",
        "print(client.list_database_names())  # Вывести список БД для проверки подключения"
      ]
    },
    {
      "cell_type": "markdown",
      "metadata": {
        "id": "3hkkb3IAiJyx"
      },
      "source": [
        "### Упражнение 1. Запросы на выборку"
      ]
    },
    {
      "cell_type": "markdown",
      "metadata": {
        "id": "2t6Z-LgtiSwL"
      },
      "source": [
        "Цель этого упражнения — закрепить навык выполнения запросов на выборку. Все запросы выполняются на базе `sample_mflix` с данными о кинофильмах."
      ]
    },
    {
      "cell_type": "markdown",
      "metadata": {
        "id": "SZnDnHNo0sPv"
      },
      "source": [
        "#### Задача 1.1 — **1 балл**"
      ]
    },
    {
      "cell_type": "markdown",
      "metadata": {
        "id": "A_Y7zbHe0u1T"
      },
      "source": [
        "Выведите из коллекции `theaters` документы о кинотеатрах в городе Florence, штат KY.\n",
        "\n",
        "Для справки:\n",
        "\n",
        "* Обратите внимание на то, что информация об адресе кинотеатров хранится во вложенных документах. Для доступа к полям вложенных документов следует использовать точку: `родительский_документ.вложенный_документ.поле`.\n",
        "* В случае затруднений с написанием логического условия обращайтесь к сопоставлению синтаксиса SQL и Mongo: https://www.mongodb.com/docs/manual/reference/sql-comparison/.\n",
        "* Если вы предпочитаете сперва выполнять запросы в Compass, из этого приложения можно выгружать код готового запроса на Python (кнопка с символом `</>`)."
      ]
    },
    {
      "cell_type": "code",
      "execution_count": null,
      "metadata": {
        "id": "_z2iic5S0zCk"
      },
      "outputs": [],
      "source": [
        "# Ваш код здесь\n"
      ]
    },
    {
      "cell_type": "markdown",
      "metadata": {
        "id": "ZddwIpmPITB4"
      },
      "source": [
        "#### Задача 1.2 — **1 балл**"
      ]
    },
    {
      "cell_type": "markdown",
      "metadata": {
        "id": "n6hLPu2iODjH"
      },
      "source": [
        "Сделав запрос к коллекции `comments`, выведите _один_ комментарий (значение поля `text`) пользователя по имени Doreah."
      ]
    },
    {
      "cell_type": "code",
      "execution_count": null,
      "metadata": {
        "id": "GXOz_fZCPFg_"
      },
      "outputs": [],
      "source": [
        "# Ваш код здесь\n"
      ]
    },
    {
      "cell_type": "markdown",
      "metadata": {
        "id": "tZEJx_DoXuDL"
      },
      "source": [
        "#### Задача 1.3 — **1 балл**"
      ]
    },
    {
      "cell_type": "markdown",
      "metadata": {
        "id": "h8k13yBRX0Uf"
      },
      "source": [
        "Сделав запрос к коллекции `movies`, выведите количество документов, в которых в качестве первого жанра фильма (поле `genres`) указано значение «Horror».\n",
        "\n",
        "Для справки:\n",
        "\n",
        "1. Обратите внимание, что поле `genres` представляет собой массив (индексация массивов начинается с нуля).\n",
        "1. При работе в MongoDB Shell для подсчета количества документов в курсоре можно использовать метод `count()`, однако он был удален в последних версиях библиотеки pymongo. В случае затруднений с использованием функций Mongo можно использовать для подсчета документов средства Python."
      ]
    },
    {
      "cell_type": "code",
      "execution_count": null,
      "metadata": {
        "id": "3T6W4GVUX154"
      },
      "outputs": [],
      "source": [
        "# Ваш код здесь\n"
      ]
    },
    {
      "cell_type": "markdown",
      "metadata": {
        "id": "kTue_nh7TFUx"
      },
      "source": [
        "#### Задача 1.4 — **2 балла**"
      ]
    },
    {
      "cell_type": "markdown",
      "metadata": {
        "id": "kuIndgkLT9Tm"
      },
      "source": [
        "Выведите из коллекции `movies` документы о фильмах, которые в качестве первого жанра определены как «Film-Noir» либо «Horror» и были выпущены в период с 1940 по 1949 гг. (включительно)."
      ]
    },
    {
      "cell_type": "code",
      "execution_count": null,
      "metadata": {
        "id": "hQwJj-fyTtQ1"
      },
      "outputs": [],
      "source": [
        "# Ваш код здесь\n"
      ]
    },
    {
      "cell_type": "markdown",
      "metadata": {
        "id": "B56JNDs88fnh"
      },
      "source": [
        "#### Задача 1.5 — **1 балл**"
      ]
    },
    {
      "cell_type": "markdown",
      "metadata": {
        "id": "VvFx2iL98mTQ"
      },
      "source": [
        "Модифицируйте запрос из задачи 1.4 таким образом, чтобы осуществить _проекцию_: результатом выборки должен стать список словарей, каждый из которых содержит только два поля: `title` и `year`.\n",
        "\n",
        "Для справки о проекции см. документацию по методу `find()` в pymongo:\n",
        "https://pymongo.readthedocs.io/en/stable/api/pymongo/collection.html#pymongo.collection.Collection.find"
      ]
    },
    {
      "cell_type": "code",
      "execution_count": null,
      "metadata": {
        "id": "tnkwb6HXY014"
      },
      "outputs": [],
      "source": [
        "# Ваш код здесь\n"
      ]
    },
    {
      "cell_type": "markdown",
      "metadata": {
        "id": "tzx1nDQ08ojw"
      },
      "source": [
        "### Упражнение 2. Конвейер агрегации"
      ]
    },
    {
      "cell_type": "markdown",
      "metadata": {
        "id": "nx6axWfJbBbc"
      },
      "source": [
        "#### Задача 2.1 — **3 балла**"
      ]
    },
    {
      "cell_type": "markdown",
      "metadata": {
        "id": "oj1sBQtGbLNQ"
      },
      "source": [
        "В рамках этой задачи требуется узнать, какие фильмы получили наибольшее число комментариев. Составьте для этого конвейер агрегации с перечисленными ниже этапами. Для удобства рекомендуется воспользоваться приложением Compass.\n",
        "\n",
        "1. Сгруппировать документы коллекции `comments` по полю `movie_id` и подсчитать количество комментариев для каждого фильма, записав его в поле `count`.\n",
        "1. Отсортировать получившийся набор данных по убыванию количества комментариев (так чтобы первый документ в этом наборе указывал на фильм с наибольшим количеством комментариев).\n",
        "1. Используя оператор `$lookup`, присоединить коллекцию `movies` (по полю `movie_id`).\n",
        "1. Выполнить проекцию, оставив в наборе данных только три поля: название фильма (`title`), год выпуска (`year`) и количество комментариев (поле `count`, добавленное на первом этапе). Для этого воспользуйтесь оператором `$project`: https://www.mongodb.com/docs/manual/reference/operator/aggregation/project/. Обратите внимание, что данные из коллекции `movies` (`title` и `year`) на этом этапе окажутся внутри массива.\n",
        "1. Применить оператор `$unwind`, чтобы деконструировать этот массив. См. https://www.mongodb.com/docs/manual/reference/operator/aggregation/unwind/. В результате массив должен превратиться в одиночный объект.\n",
        "1. Применить оператор `$addFields`, чтобы добавить поля `title` и `year` на вернхий уровень структуры документа. См. https://www.mongodb.com/docs/manual/reference/operator/aggregation/addFields/.\n",
        "1. Еще раз выполнить проекцию, чтобы удалить поле с массивом.\n",
        "\n",
        "Ваш алгоритм решения может отличаться от приведенного здесь. Главное — достичь цели: получить плоский набор данных с тремя полями (`count` — количество комментариев, `year` — год выпуска, `title` — название фильма).\n",
        "\n",
        "Скопируйте полученный конвейер в этот документ в виде кода на Python и выведите его на экран в виде списка словарей."
      ]
    },
    {
      "cell_type": "code",
      "execution_count": null,
      "metadata": {
        "id": "MSI2ITxZjMk2"
      },
      "outputs": [],
      "source": [
        "# Ваш код здесь\n"
      ]
    },
    {
      "cell_type": "markdown",
      "metadata": {
        "id": "AFZpD6MVqVff"
      },
      "source": [
        "#### Задача 2.2 — **1 балл**"
      ]
    },
    {
      "cell_type": "markdown",
      "metadata": {
        "id": "fqF1_fs1qWvj"
      },
      "source": [
        "Используя данные, полученные в задаче 2.1, выведите на экран столбчатую диаграмму, показывающую топ-20 наиболее комментируемых фильмов. По оси ординат выведите названия этих фильмов (подписи разместите слева диаграммы), по оси абсцисс — количество комментариев.\n",
        "\n",
        "Для решения задачи можно использовать любую библиотеку, например Seaborn или Matplotlib."
      ]
    },
    {
      "cell_type": "code",
      "execution_count": null,
      "metadata": {
        "id": "J17JdNLymo5k"
      },
      "outputs": [],
      "source": [
        "# Ваш код здесь\n"
      ]
    }
  ],
  "metadata": {
    "colab": {
      "provenance": []
    },
    "kernelspec": {
      "display_name": "Python 3",
      "name": "python3"
    },
    "language_info": {
      "name": "python"
    }
  },
  "nbformat": 4,
  "nbformat_minor": 0
}
