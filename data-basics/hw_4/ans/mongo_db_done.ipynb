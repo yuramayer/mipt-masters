{
  "cells": [
    {
      "cell_type": "markdown",
      "metadata": {
        "id": "LbOZ0b-MLYMG"
      },
      "source": [
        "# Выборка и агрегация данных в MongoDB\n",
        "\n",
        "### Цель домашней работы\n",
        "\n",
        "Закрепить на практике основные приемы работы с СУБД MongoDB, включая выборку, сортировку, объединение, агрегацию данных и передачу результатов выборки в программу на Python в целях аналитики и дальнейшей обработки."
      ]
    },
    {
      "cell_type": "markdown",
      "metadata": {
        "id": "VGMYMmFvEAQY"
      },
      "source": [
        "### Формулировка задания\n",
        "\n",
        "В этом задании вам предстоит выполнить несколько запросов к базе данных для получения выборок по условиям, а также воспользоваться фреймворком агрегации MongoDB для построения конвейера обработки данных.\n",
        "\n",
        "Максимальное количество баллов за выполнение домашней работы: 10."
      ]
    },
    {
      "cell_type": "markdown",
      "metadata": {
        "id": "3S2xr8EESZ8A"
      },
      "source": [
        "## Что нужно использовать в работе над заданием\n",
        "\n",
        "I. MongoDB:\n",
        "\n",
        "1. Зарегистрируйтесь в сервисе MongoDB Atlas: https://www.mongodb.com/atlas/database.\n",
        "1. Создайте кластер уровня M0 (это бесплатно).\n",
        "1. Добавьте в кластер тестовую базу данных `sample_mflix`, используя опцию Load Sample Dataset.\n",
        "\n",
        "В качестве альтернативы вы можете установить MongoDB на свой локальный компьютер и импортировать необходимые датасеты в свою СУБД, загрузив их по ссылке: https://github.com/neelabalan/mongodb-sample-dataset/tree/main/sample_mflix. Для этого подключитесь к своему серверу через Compass, создайте новую БД, создайте для каждого датасета коллекцию и щелкните «Add data» → «Import JSON or CSV file».\n",
        "\n",
        "II. MongoDB Compass — в качестве вспомогательного инструмента для конструирования запросов и агрегаций.\n",
        "\n",
        "III. Python и библиотека pymongo. Работа ведется в Jupyter Notebook или Google Colaboratory. Рекомендуется использовать версию Python 3.12."
      ]
    },
    {
      "cell_type": "markdown",
      "metadata": {
        "id": "xyG0RIatRiaQ"
      },
      "source": [
        "## Ожидаемые результаты\n",
        "\n",
        "Результаты работы необходимо оформить в виде ноутбука Jupyter. Можно загрузить файл в LMS либо поделиться ссылкой на Google Colaboratory."
      ]
    },
    {
      "cell_type": "markdown",
      "metadata": {
        "id": "O9MAw9odS5LD"
      },
      "source": [
        "## Место где нужно выполнить задание\n",
        "\n"
      ]
    },
    {
      "cell_type": "code",
      "execution_count": 34,
      "metadata": {
        "id": "ktBuEf5lTBnx"
      },
      "outputs": [],
      "source": [
        "#Начать выполнение задания тут"
      ]
    },
    {
      "cell_type": "code",
      "execution_count": 2,
      "metadata": {},
      "outputs": [
        {
          "data": {
            "text/plain": [
              "True"
            ]
          },
          "execution_count": 2,
          "metadata": {},
          "output_type": "execute_result"
        }
      ],
      "source": [
        "from dotenv import load_dotenv\n",
        "import os\n",
        "\n",
        "load_dotenv()"
      ]
    },
    {
      "cell_type": "code",
      "execution_count": 3,
      "metadata": {},
      "outputs": [],
      "source": [
        "USER = os.getenv('USER')\n",
        "PASS = os.getenv('PASS')\n",
        "CLUS = os.getenv('CLUS')"
      ]
    },
    {
      "cell_type": "code",
      "execution_count": 4,
      "metadata": {},
      "outputs": [
        {
          "data": {
            "text/plain": [
              "'d:\\\\anaconda\\\\python.exe'"
            ]
          },
          "execution_count": 4,
          "metadata": {},
          "output_type": "execute_result"
        }
      ],
      "source": [
        "import sys \n",
        "sys.executable"
      ]
    },
    {
      "cell_type": "code",
      "execution_count": 5,
      "metadata": {
        "colab": {
          "base_uri": "https://localhost:8080/"
        },
        "id": "hUzn3aDI2stL",
        "outputId": "ec83cccf-e339-4f3c-aefc-29d13c2d612c"
      },
      "outputs": [
        {
          "name": "stdout",
          "output_type": "stream",
          "text": [
            "['library_db', 'sample_mflix', 'admin', 'local']\n"
          ]
        }
      ],
      "source": [
        "import pymongo\n",
        "\n",
        "client = pymongo.MongoClient(f\"mongodb+srv://{USER}:{PASS}@{CLUS}\")\n",
        "print(client.list_database_names())  # Вывести список БД для проверки подключения"
      ]
    },
    {
      "cell_type": "markdown",
      "metadata": {
        "id": "3hkkb3IAiJyx"
      },
      "source": [
        "### Упражнение 1. Запросы на выборку"
      ]
    },
    {
      "cell_type": "markdown",
      "metadata": {
        "id": "2t6Z-LgtiSwL"
      },
      "source": [
        "Цель этого упражнения — закрепить навык выполнения запросов на выборку. Все запросы выполняются на базе `sample_mflix` с данными о кинофильмах."
      ]
    },
    {
      "cell_type": "code",
      "execution_count": 6,
      "metadata": {},
      "outputs": [],
      "source": [
        "db = client['sample_mflix']"
      ]
    },
    {
      "cell_type": "markdown",
      "metadata": {
        "id": "SZnDnHNo0sPv"
      },
      "source": [
        "#### Задача 1.1 — **1 балл**"
      ]
    },
    {
      "cell_type": "markdown",
      "metadata": {
        "id": "A_Y7zbHe0u1T"
      },
      "source": [
        "Выведите из коллекции `theaters` документы о кинотеатрах в городе Florence, штат KY.\n",
        "\n",
        "Для справки:\n",
        "\n",
        "* Обратите внимание на то, что информация об адресе кинотеатров хранится во вложенных документах. Для доступа к полям вложенных документов следует использовать точку: `родительский_документ.вложенный_документ.поле`.\n",
        "* В случае затруднений с написанием логического условия обращайтесь к сопоставлению синтаксиса SQL и Mongo: https://www.mongodb.com/docs/manual/reference/sql-comparison/.\n",
        "* Если вы предпочитаете сперва выполнять запросы в Compass, из этого приложения можно выгружать код готового запроса на Python (кнопка с символом `</>`)."
      ]
    },
    {
      "cell_type": "code",
      "execution_count": 7,
      "metadata": {
        "id": "_z2iic5S0zCk"
      },
      "outputs": [],
      "source": [
        "theaters = db['theaters']"
      ]
    },
    {
      "cell_type": "code",
      "execution_count": 8,
      "metadata": {},
      "outputs": [
        {
          "name": "stdout",
          "output_type": "stream",
          "text": [
            "{'_id': ObjectId('59a47287cfa9a3a73e51e893'), 'theaterId': 161, 'location': {'address': {'street1': '100 Meijer Dr.', 'city': 'Florence', 'state': 'KY', 'zipcode': '41042'}, 'geo': {'type': 'Point', 'coordinates': [-84.636383, 39.014843]}}}\n",
            "{'_id': ObjectId('59a47287cfa9a3a73e51ea02'), 'theaterId': 2823, 'location': {'address': {'street1': '2823 Florence Mall', 'street2': '#2148', 'city': 'Florence', 'state': 'KY', 'zipcode': '41042'}, 'geo': {'type': 'Point', 'coordinates': [-84.6499595, 38.9967246]}}}\n"
          ]
        }
      ],
      "source": [
        "for el in theaters.find({'location.address.city': 'Florence',\n",
        "                         'location.address.state': 'KY'}):\n",
        "    print(el)"
      ]
    },
    {
      "cell_type": "markdown",
      "metadata": {
        "id": "ZddwIpmPITB4"
      },
      "source": [
        "#### Задача 1.2 — **1 балл**"
      ]
    },
    {
      "cell_type": "markdown",
      "metadata": {
        "id": "n6hLPu2iODjH"
      },
      "source": [
        "Сделав запрос к коллекции `comments`, выведите _один_ комментарий (значение поля `text`) пользователя по имени Doreah."
      ]
    },
    {
      "cell_type": "code",
      "execution_count": 9,
      "metadata": {
        "id": "GXOz_fZCPFg_"
      },
      "outputs": [],
      "source": [
        "comments = db['comments']"
      ]
    },
    {
      "cell_type": "code",
      "execution_count": 10,
      "metadata": {},
      "outputs": [
        {
          "data": {
            "text/plain": [
              "{'_id': ObjectId('5a9427648b0beebeb6957b18'),\n",
              " 'name': 'Doreah',\n",
              " 'email': 'roxanne_mckee@gameofthron.es',\n",
              " 'movie_id': ObjectId('573a1391f29313caabcd7915'),\n",
              " 'text': 'Porro explicabo cumque vitae sint quia quis. Consequuntur voluptatibus optio maxime ratione temporibus incidunt minus architecto.',\n",
              " 'date': datetime.datetime(1983, 9, 13, 3, 38, 23)}"
            ]
          },
          "execution_count": 10,
          "metadata": {},
          "output_type": "execute_result"
        }
      ],
      "source": [
        "comments.find_one({'name': 'Doreah'})"
      ]
    },
    {
      "cell_type": "markdown",
      "metadata": {
        "id": "tZEJx_DoXuDL"
      },
      "source": [
        "#### Задача 1.3 — **1 балл**"
      ]
    },
    {
      "cell_type": "markdown",
      "metadata": {
        "id": "h8k13yBRX0Uf"
      },
      "source": [
        "Сделав запрос к коллекции `movies`, выведите количество документов, в которых в качестве первого жанра фильма (поле `genres`) указано значение «Horror».\n",
        "\n",
        "Для справки:\n",
        "\n",
        "1. Обратите внимание, что поле `genres` представляет собой массив (индексация массивов начинается с нуля).\n",
        "1. При работе в MongoDB Shell для подсчета количества документов в курсоре можно использовать метод `count()`, однако он был удален в последних версиях библиотеки pymongo. В случае затруднений с использованием функций Mongo можно использовать для подсчета документов средства Python."
      ]
    },
    {
      "cell_type": "code",
      "execution_count": 11,
      "metadata": {
        "id": "3T6W4GVUX154"
      },
      "outputs": [],
      "source": [
        "# Ваш код здесь\n",
        "movies = db['movies']"
      ]
    },
    {
      "cell_type": "code",
      "execution_count": 12,
      "metadata": {},
      "outputs": [
        {
          "data": {
            "text/plain": [
              "700"
            ]
          },
          "execution_count": 12,
          "metadata": {},
          "output_type": "execute_result"
        }
      ],
      "source": [
        "# Ваш код здесь\n",
        "movies.count_documents({'genres.0': 'Horror'})"
      ]
    },
    {
      "cell_type": "markdown",
      "metadata": {
        "id": "kTue_nh7TFUx"
      },
      "source": [
        "#### Задача 1.4 — **2 балла**"
      ]
    },
    {
      "cell_type": "markdown",
      "metadata": {
        "id": "kuIndgkLT9Tm"
      },
      "source": [
        "Выведите из коллекции `movies` документы о фильмах, которые в качестве первого жанра определены как «Film-Noir» либо «Horror» и были выпущены в период с 1940 по 1949 гг. (включительно)."
      ]
    },
    {
      "cell_type": "code",
      "execution_count": 13,
      "metadata": {
        "id": "hQwJj-fyTtQ1"
      },
      "outputs": [
        {
          "name": "stdout",
          "output_type": "stream",
          "text": [
            "{'_id': ObjectId('573a1393f29313caabcdc814'), 'plot': \"An American man marries a Serbian immigrant who fears that she will turn into the cat person of her homeland's fables if they are intimate together.\", 'genres': ['Horror', 'Thriller'], 'runtime': 73, 'rated': 'APPROVED', 'cast': ['Simone Simon', 'Kent Smith', 'Tom Conway', 'Jane Randolph'], 'poster': 'https://m.media-amazon.com/images/M/MV5BNzI4YWY0NWQtNWI5YS00MGE4LWE4YTgtMzBmOWIwMzdiYTRiL2ltYWdlL2ltYWdlXkEyXkFqcGdeQXVyNjc1NTYyMjg@._V1_SY1000_SX677_AL_.jpg', 'title': 'Cat People', 'fullplot': 'Irena Dubrovna, a beautiful and mysterious Serbian-born fashion artist living in New York City, falls in love with and marries average-Joe American Oliver Reed. Their marriage suffers though, as Irena believes that she suffers from an ancient curse- whenever emotionally aroused, she will turn into a panther and kill. Oliver thinks that is absurd and childish, so he sends her to psychiatrist Dr. Judd to cure her. Easier said than done...', 'languages': ['English', 'Czech', 'Serbian'], 'released': datetime.datetime(1942, 12, 25, 0, 0), 'directors': ['Jacques Tourneur'], 'writers': ['DeWitt Bodeen'], 'awards': {'wins': 1, 'nominations': 2, 'text': '1 win & 2 nominations.'}, 'lastupdated': '2015-08-21 00:53:54.453000000', 'year': 1942, 'imdb': {'rating': 7.4, 'votes': 11589, 'id': 34587}, 'countries': ['USA'], 'type': 'movie', 'tomatoes': {'viewer': {'rating': 3.6, 'numReviews': 7115}, 'critic': {'rating': 8.3, 'numReviews': 40, 'meter': 93}, 'lastUpdated': datetime.datetime(2015, 9, 15, 17, 3, 25), 'consensus': 'Influential noir director Jacques Tourneau infused this sexy, moody horror film with some sly commentary about the psychology and the taboos of desire.', 'rotten': 3, 'production': 'RKO Pictures', 'fresh': 37}, 'num_mflix_comments': 0}\n",
            "{'_id': ObjectId('573a1393f29313caabcdcd9d'), 'plot': 'A young Canadian nurse (Betsy) comes to the West Indies to care for Jessica, the wife of a plantation manager (Paul Holland). Jessica seems to be suffering from a kind of mental paralysis ...', 'genres': ['Horror'], 'runtime': 69, 'rated': 'APPROVED', 'cast': ['James Ellison', 'Frances Dee', 'Tom Conway', 'Edith Barrett'], 'num_mflix_comments': 1, 'poster': 'https://m.media-amazon.com/images/M/MV5BZjQzMzliN2YtYTVhNC00Zjc4LThjMmYtMTE0ZGUzMWNmYzJlXkEyXkFqcGdeQXVyMTYxNjkxOQ@@._V1_SY1000_SX677_AL_.jpg', 'title': 'I Walked with a Zombie', 'fullplot': 'A young Canadian nurse (Betsy) comes to the West Indies to care for Jessica, the wife of a plantation manager (Paul Holland). Jessica seems to be suffering from a kind of mental paralysis as a result of fever. When she falls in love with Paul, Betsy determines to cure Jessica even if she needs to use a voodoo ceremony, to give Paul what she thinks he wants.', 'languages': ['English'], 'released': datetime.datetime(1943, 4, 30, 0, 0), 'directors': ['Jacques Tourneur'], 'writers': ['Curt Siodmak (screenplay)', 'Ardel Wray (screenplay)', 'Inez Wallace (original story)'], 'awards': {'wins': 0, 'nominations': 2, 'text': '2 nominations.'}, 'lastupdated': '2015-08-16 00:16:16.823000000', 'year': 1943, 'imdb': {'rating': 7.3, 'votes': 6893, 'id': 36027}, 'countries': ['USA'], 'type': 'movie', 'tomatoes': {'viewer': {'rating': 3.6, 'numReviews': 4884, 'meter': 75}, 'dvd': datetime.datetime(2005, 10, 4, 0, 0), 'critic': {'rating': 8.1, 'numReviews': 26, 'meter': 92}, 'lastUpdated': datetime.datetime(2015, 8, 26, 18, 16, 16), 'consensus': \"Evocative direction by Jacques Tourneur collides with the low-rent production values of exploitateer Val Lewton in I Walked with a Zombie, a sultry sleeper that's simultaneously smarmy, eloquent and fascinating.\", 'rotten': 2, 'production': 'Warner Home Video', 'fresh': 24}}\n",
            "{'_id': ObjectId('573a1393f29313caabcdcdf5'), 'plot': 'A seemingly tame leopard used for a publicity stunt escapes and kills a young girl, spreading panic throughout a sleepy new Mexico town.', 'genres': ['Horror', 'Thriller'], 'runtime': 66, 'rated': 'APPROVED', 'cast': [\"Dennis O'Keefe\", 'Margo', 'Jean Brooks', 'Isabel Jewell'], 'num_mflix_comments': 0, 'poster': 'https://m.media-amazon.com/images/M/MV5BYmU4ZDI5NGMtYzM1OC00YTQ3LWI1NTEtNGM0Mzc0ZDA5NzI4XkEyXkFqcGdeQXVyMTQxNzMzNDI@._V1_SY1000_SX677_AL_.jpg', 'title': 'The Leopard Man', 'fullplot': 'At the encouragement of her manager, a nightclub performer in New Mexico (Kiki Walker) takes a leashed leopard into the club as a publicity gimmick. But her rival, angered by the attempt to upstage, scares the animal and it bolts. In the days that follow, people are mauled and the countryside is combed for the loose creature. But Kiki and her manager begin to wonder if maybe the leopard is not responsible for the killings.', 'languages': ['English', 'Spanish'], 'released': datetime.datetime(1943, 5, 8, 0, 0), 'directors': ['Jacques Tourneur'], 'writers': ['Ardel Wray (screenplay)', 'Edward Dein (additional dialogue)', 'Cornell Woolrich (novel)'], 'awards': {'wins': 0, 'nominations': 2, 'text': '2 nominations.'}, 'lastupdated': '2015-08-05 00:17:53.897000000', 'year': 1943, 'imdb': {'rating': 6.9, 'votes': 2889, 'id': 36104}, 'countries': ['USA'], 'type': 'movie', 'tomatoes': {'viewer': {'rating': 3.5, 'numReviews': 1375, 'meter': 67}, 'fresh': 15, 'critic': {'rating': 7.4, 'numReviews': 17, 'meter': 88}, 'rotten': 2, 'lastUpdated': datetime.datetime(2015, 8, 27, 18, 6, 2)}}\n",
            "{'_id': ObjectId('573a1393f29313caabcdd38c'), 'plot': 'A ruthless doctor and his young prize student find themselves continually harassed by their murderous supplier of illegal cadavers.', 'genres': ['Horror', 'Thriller'], 'runtime': 77, 'rated': 'APPROVED', 'title': 'The Body Snatcher', 'num_mflix_comments': 0, 'poster': 'https://m.media-amazon.com/images/M/MV5BNzNmOTE0YTktZGZmYS00N2RhLWI5NTgtYTAyZjZhYWExMmRmXkEyXkFqcGdeQXVyMTQxNzMzNDI@._V1_SY1000_SX677_AL_.jpg', 'countries': ['USA'], 'fullplot': \"In Edinburgh in 1831, Dr. Wolfe MacFarlane runs a medical school where Donald Fettes is a student. Fettes is interested in helping a young girl who has lost the use of her legs. He is certain that MacFarlane's surgical skills could be put to great use but he is reluctant to do so. The good Dr. MacFarlane has a secret that soon becomes all too obvious to young Fettes, who has only recently been promoted as his assistant: he has been paying a local cabbie, John Gray, to supply him with dead bodies for anatomical research. Gray constantly harasses MacFarlane and clearly has a hold over him dating to a famous trial many years before where Gray refused to identify the man for whom he was robbing graves. Fettes isn't aware of any of this but soon realizes exactly how Gray obtains the bodies they use in their anatomy classes.\", 'languages': ['English'], 'cast': ['Boris Karloff', 'Bela Lugosi', 'Henry Daniell', 'Edith Atwater'], 'directors': ['Robert Wise'], 'writers': ['Robert Louis Stevenson (short story)', 'Philip MacDonald (written for the screen by)', 'Val Lewton (written for the screen by)'], 'awards': {'wins': 0, 'nominations': 3, 'text': '3 nominations.'}, 'lastupdated': '2015-08-16 01:24:24.840000000', 'year': 1945, 'imdb': {'rating': 7.4, 'votes': 5509, 'id': 37549}, 'type': 'movie', 'tomatoes': {'viewer': {'rating': 3.5, 'numReviews': 3664, 'meter': 75}, 'critic': {'rating': 6.8, 'numReviews': 16, 'meter': 81}, 'lastUpdated': datetime.datetime(2015, 8, 21, 19, 11, 47), 'rotten': 3, 'production': 'RKO Pictures', 'fresh': 13}}\n",
            "{'_id': ObjectId('573a1393f29313caabcdd3ed'), 'plot': 'An architect senses impending doom as his half-remembered recurring dream turns into reality. The guests at the country house encourage him to stay as they take turns telling supernatural tales.', 'genres': ['Horror'], 'runtime': 77, 'rated': 'APPROVED', 'cast': ['Mervyn Johns', 'Roland Culver', 'Mary Merrall', 'Googie Withers'], 'num_mflix_comments': 0, 'poster': 'https://m.media-amazon.com/images/M/MV5BYTY2OTJjZjgtMzExMy00MWJlLTg2N2ItM2NhMDQxNTNkNjFhXkEyXkFqcGdeQXVyMjI4MjA5MzA@._V1_SY1000_SX677_AL_.jpg', 'title': 'Dead of Night', 'fullplot': \"Architect Walter Craig, seeking the possibility of some work at a country farmhouse, soon finds himself once again stuck in his recurring nightmare. Dreading the end of the dream that he knows is coming, he must first listen to all the assembled guests' own bizarre tales.\", 'languages': ['English', 'French'], 'released': datetime.datetime(1945, 10, 15, 0, 0), 'directors': ['Alberto Cavalcanti', 'Charles Crichton', 'Basil Dearden', 'Robert Hamer'], 'writers': ['H.G. Wells (original story)', 'E.F. Benson (original story)', 'John Baines (original story)', 'Angus MacPhail (original story)', 'John Baines (screenplay)', 'Angus MacPhail (screenplay)', 'T.E.B. Clarke (additional dialogue)'], 'awards': {'wins': 1, 'nominations': 1, 'text': '1 win & 1 nomination.'}, 'lastupdated': '2015-09-15 04:38:12.500000000', 'year': 1945, 'imdb': {'rating': 7.7, 'votes': 7116, 'id': 37635}, 'countries': ['UK'], 'type': 'movie', 'tomatoes': {'viewer': {'rating': 4.0, 'numReviews': 3194, 'meter': 88}, 'dvd': datetime.datetime(2009, 1, 27, 0, 0), 'critic': {'rating': 8.0, 'numReviews': 27, 'meter': 96}, 'lastUpdated': datetime.datetime(2015, 7, 26, 18, 40, 43), 'consensus': 'With four accomplished directors contributing, Dead of Night is a classic horror anthology that remains highly influential.', 'rotten': 1, 'production': 'Universal Pictures', 'fresh': 26}}\n",
            "{'_id': ObjectId('573a1393f29313caabcdd6e7'), 'plot': \"Chuck Scott gets a job as chauffeur to tough guy Eddie Roman; but Chuck's involvement with Eddie's fearful wife becomes a nightmare.\", 'genres': ['Film-Noir'], 'runtime': 86, 'rated': 'APPROVED', 'cast': ['Robert Cummings', 'Michèle Morgan', 'Steve Cochran', 'Lloyd Corrigan'], 'num_mflix_comments': 0, 'poster': 'https://m.media-amazon.com/images/M/MV5BNDI3OTM4NzMtNzQxMC00M2YxLWFmOTctNmUyNDBmMzIwZGI0XkEyXkFqcGdeQXVyMjUxODE0MDY@._V1_SY1000_SX677_AL_.jpg', 'title': 'The Chase', 'fullplot': \"Returning a lost wallet gains unemployed veteran Chuck Scott a job as chauffeur to Eddie Roman, a seeming gangster whose enemies have a way of meeting violent ends. The job proves nerve-wracking, and soon Chuck finds himself pledged to help Eddie's lovely, fearful, prisoner-wife Lorna to escape. The result leaves Chuck caught like a rat in a trap, vainly seeking a way out through dark streets. But the real chase begins when the strange plot virtually starts all over again...\", 'languages': ['English', 'Spanish'], 'released': datetime.datetime(1946, 11, 16, 0, 0), 'directors': ['Arthur Ripley'], 'writers': ['Philip Yordan (written for the screen by)', 'Cornell Woolrich (book)'], 'awards': {'wins': 0, 'nominations': 1, 'text': '1 nomination.'}, 'lastupdated': '2015-08-01 00:47:13.267000000', 'year': 1946, 'imdb': {'rating': 6.7, 'votes': 766, 'id': 38409}, 'countries': ['USA'], 'type': 'movie', 'tomatoes': {'viewer': {'rating': 3.2, 'numReviews': 92, 'meter': 40}, 'dvd': datetime.datetime(2003, 8, 5, 0, 0), 'production': 'VCI', 'lastUpdated': datetime.datetime(2015, 8, 20, 18, 14, 48)}}\n",
            "{'_id': ObjectId('573a1393f29313caabcde460'), 'plot': \"Over-the-hill boxer Bill 'Stoker' Thompson insists he can still win, though his sexy wife Julie pleads with him to quit. But his manager Tiny is so confident he will lose, he takes money ...\", 'genres': ['Film-Noir', 'Sport'], 'runtime': 73, 'rated': 'APPROVED', 'cast': ['Robert Ryan', 'Audrey Totter', 'George Tobias', 'Alan Baxter'], 'num_mflix_comments': 0, 'poster': 'https://m.media-amazon.com/images/M/MV5BMjEwNjU3NzE1Nl5BMl5BanBnXkFtZTgwMjQ0MDgyMTE@._V1_SY1000_SX677_AL_.jpg', 'title': 'The Set-Up', 'fullplot': 'Over-the-hill boxer Bill \\'Stoker\\' Thompson insists he can still win, though his sexy wife Julie pleads with him to quit. But his manager Tiny is so confident he will lose, he takes money for a \"dive\" from tough gambler Little Boy...without bothering to tell Stoker. Tension builds as Stoker hopes to \"take\" Tiger Nelson, unaware of what will happen to him if he does.', 'languages': ['English'], 'released': datetime.datetime(1949, 4, 2, 0, 0), 'directors': ['Robert Wise'], 'writers': ['Art Cohn (screenplay)', 'Joseph Moncure March (from the poem by)'], 'awards': {'wins': 3, 'nominations': 1, 'text': 'Nominated for 1 BAFTA Film Award. Another 2 wins & 1 nomination.'}, 'lastupdated': '2015-08-26 00:13:18.837000000', 'year': 1949, 'imdb': {'rating': 7.8, 'votes': 5309, 'id': 41859}, 'countries': ['USA'], 'type': 'movie', 'tomatoes': {'viewer': {'rating': 4.0, 'numReviews': 1692, 'meter': 88}, 'dvd': datetime.datetime(2004, 7, 6, 0, 0), 'critic': {'rating': 5.9, 'numReviews': 7, 'meter': 86}, 'lastUpdated': datetime.datetime(2015, 7, 26, 18, 33, 52), 'rotten': 1, 'fresh': 6}}\n"
          ]
        }
      ],
      "source": [
        "# Ваш код здесь\n",
        "for movie in movies.find({\n",
        "    '$and': [\n",
        "        {'year': {'$gte': 1940, '$lte': 1949}},\n",
        "        {'$or': [\n",
        "            {'genres.0': 'Film-Noir'},\n",
        "            {'genres.0': 'Horror'}    \n",
        "            ]\n",
        "        }\n",
        "    ]\n",
        "}):\n",
        "    print(movie)"
      ]
    },
    {
      "cell_type": "markdown",
      "metadata": {
        "id": "B56JNDs88fnh"
      },
      "source": [
        "#### Задача 1.5 — **1 балл**"
      ]
    },
    {
      "cell_type": "markdown",
      "metadata": {
        "id": "VvFx2iL98mTQ"
      },
      "source": [
        "Модифицируйте запрос из задачи 1.4 таким образом, чтобы осуществить _проекцию_: результатом выборки должен стать список словарей, каждый из которых содержит только два поля: `title` и `year`.\n",
        "\n",
        "Для справки о проекции см. документацию по методу `find()` в pymongo:\n",
        "https://pymongo.readthedocs.io/en/stable/api/pymongo/collection.html#pymongo.collection.Collection.find"
      ]
    },
    {
      "cell_type": "code",
      "execution_count": 14,
      "metadata": {
        "id": "tnkwb6HXY014"
      },
      "outputs": [
        {
          "name": "stdout",
          "output_type": "stream",
          "text": [
            "{'_id': ObjectId('573a1393f29313caabcdc814'), 'title': 'Cat People', 'year': 1942}\n",
            "{'_id': ObjectId('573a1393f29313caabcdcd9d'), 'title': 'I Walked with a Zombie', 'year': 1943}\n",
            "{'_id': ObjectId('573a1393f29313caabcdcdf5'), 'title': 'The Leopard Man', 'year': 1943}\n",
            "{'_id': ObjectId('573a1393f29313caabcdd38c'), 'title': 'The Body Snatcher', 'year': 1945}\n",
            "{'_id': ObjectId('573a1393f29313caabcdd3ed'), 'title': 'Dead of Night', 'year': 1945}\n",
            "{'_id': ObjectId('573a1393f29313caabcdd6e7'), 'title': 'The Chase', 'year': 1946}\n",
            "{'_id': ObjectId('573a1393f29313caabcde460'), 'title': 'The Set-Up', 'year': 1949}\n"
          ]
        }
      ],
      "source": [
        "# Ваш код здесь\n",
        "for el in movies.find({\n",
        "    '$and': [\n",
        "        {'year': {'$gte': 1940, '$lte': 1949}},\n",
        "        {'$or': [\n",
        "            {'genres.0': 'Film-Noir'},\n",
        "            {'genres.0': 'Horror'}    \n",
        "            ]\n",
        "        }\n",
        "    ]\n",
        "}, {'title': 1, 'year': 1}):\n",
        "    print(el)"
      ]
    },
    {
      "cell_type": "markdown",
      "metadata": {
        "id": "tzx1nDQ08ojw"
      },
      "source": [
        "### Упражнение 2. Конвейер агрегации"
      ]
    },
    {
      "cell_type": "markdown",
      "metadata": {
        "id": "nx6axWfJbBbc"
      },
      "source": [
        "#### Задача 2.1 — **3 балла**"
      ]
    },
    {
      "cell_type": "markdown",
      "metadata": {
        "id": "oj1sBQtGbLNQ"
      },
      "source": [
        "В рамках этой задачи требуется узнать, какие фильмы получили наибольшее число комментариев. Составьте для этого конвейер агрегации с перечисленными ниже этапами. Для удобства рекомендуется воспользоваться приложением Compass.\n",
        "\n",
        "1. Сгруппировать документы коллекции `comments` по полю `movie_id` и подсчитать количество комментариев для каждого фильма, записав его в поле `count`.\n",
        "1. Отсортировать получившийся набор данных по убыванию количества комментариев (так чтобы первый документ в этом наборе указывал на фильм с наибольшим количеством комментариев).\n",
        "1. Используя оператор `$lookup`, присоединить коллекцию `movies` (по полю `movie_id`).\n",
        "1. Выполнить проекцию, оставив в наборе данных только три поля: название фильма (`title`), год выпуска (`year`) и количество комментариев (поле `count`, добавленное на первом этапе). Для этого воспользуйтесь оператором `$project`: https://www.mongodb.com/docs/manual/reference/operator/aggregation/project/. Обратите внимание, что данные из коллекции `movies` (`title` и `year`) на этом этапе окажутся внутри массива.\n",
        "1. Применить оператор `$unwind`, чтобы деконструировать этот массив. См. https://www.mongodb.com/docs/manual/reference/operator/aggregation/unwind/. В результате массив должен превратиться в одиночный объект.\n",
        "1. Применить оператор `$addFields`, чтобы добавить поля `title` и `year` на вернхий уровень структуры документа. См. https://www.mongodb.com/docs/manual/reference/operator/aggregation/addFields/.\n",
        "1. Еще раз выполнить проекцию, чтобы удалить поле с массивом.\n",
        "\n",
        "Ваш алгоритм решения может отличаться от приведенного здесь. Главное — достичь цели: получить плоский набор данных с тремя полями (`count` — количество комментариев, `year` — год выпуска, `title` — название фильма).\n",
        "\n",
        "Скопируйте полученный конвейер в этот документ в виде кода на Python и выведите его на экран в виде списка словарей."
      ]
    },
    {
      "cell_type": "code",
      "execution_count": 15,
      "metadata": {},
      "outputs": [],
      "source": [
        "comments = db[\"comments\"]"
      ]
    },
    {
      "cell_type": "code",
      "execution_count": 16,
      "metadata": {
        "id": "MSI2ITxZjMk2"
      },
      "outputs": [],
      "source": [
        "pipeline = [\n",
        "    \n",
        "    {\"$group\": {\n",
        "        \"_id\": \"$movie_id\",\n",
        "        \"count\": {\"$sum\": 1}\n",
        "    }},\n",
        "    \n",
        "    {\"$sort\": {\"count\": -1}},\n",
        "    \n",
        "    {\"$lookup\": {\n",
        "        \"from\": \"movies\",\n",
        "        \"localField\": \"_id\",\n",
        "        \"foreignField\": \"_id\",\n",
        "        \"as\": \"movie_info\"\n",
        "    }},\n",
        "    \n",
        "    {\"$project\": {\n",
        "        \"count\": 1,\n",
        "        \"movie_info.title\": 1,\n",
        "        \"movie_info.year\": 1\n",
        "    }},\n",
        "    \n",
        "    {\"$unwind\": \"$movie_info\"},\n",
        "    \n",
        "    {\"$addFields\": {\n",
        "        \"title\": \"$movie_info.title\",\n",
        "        \"year\": \"$movie_info.year\"\n",
        "    }},\n",
        "    \n",
        "    {\"$project\": {\n",
        "        \"_id\": 0,\n",
        "        \"title\": 1,\n",
        "        \"year\": 1,\n",
        "        \"count\": 1\n",
        "    }}\n",
        "]"
      ]
    },
    {
      "cell_type": "code",
      "execution_count": 17,
      "metadata": {},
      "outputs": [],
      "source": [
        "top_movies = list(comments.aggregate(pipeline))"
      ]
    },
    {
      "cell_type": "code",
      "execution_count": 18,
      "metadata": {},
      "outputs": [
        {
          "name": "stdout",
          "output_type": "stream",
          "text": [
            "{'count': 161, 'title': 'The Taking of Pelham 1 2 3', 'year': 2009}\n",
            "{'count': 158, 'title': 'Terminator Salvation', 'year': 2009}\n",
            "{'count': 158, 'title': \"Ocean's Eleven\", 'year': 2001}\n",
            "{'count': 158, 'title': 'About a Boy', 'year': 2002}\n",
            "{'count': 158, 'title': '50 First Dates', 'year': 2004}\n",
            "{'count': 157, 'title': 'Sherlock Holmes', 'year': 2009}\n",
            "{'count': 157, 'title': 'The Mummy', 'year': 1999}\n",
            "{'count': 155, 'title': 'Hellboy II: The Golden Army', 'year': 2008}\n",
            "{'count': 154, 'title': 'The Mummy Returns', 'year': 2001}\n",
            "{'count': 154, 'title': 'Anchorman: The Legend of Ron Burgundy', 'year': 2004}\n",
            "{'count': 153, 'title': 'X-Men', 'year': 2000}\n",
            "{'count': 153, 'title': 'E.T. the Extra-Terrestrial', 'year': 1982}\n",
            "{'count': 153, 'title': 'American Pie', 'year': 1999}\n",
            "{'count': 153, 'title': 'Bruce Almighty', 'year': 2003}\n",
            "{'count': 153, 'title': 'Mission: Impossible', 'year': 1996}\n",
            "{'count': 153, 'title': 'Cinderella', 'year': 1950}\n",
            "{'count': 153, 'title': \"Pirates of the Caribbean: At World's End\", 'year': 2007}\n",
            "{'count': 153, 'title': 'Wanted', 'year': 2008}\n",
            "{'count': 152, 'title': 'The Ring', 'year': 2002}\n",
            "{'count': 152, 'title': 'Gladiator', 'year': 2000}\n"
          ]
        }
      ],
      "source": [
        "for el in top_movies[:20]:\n",
        "    print(el)"
      ]
    },
    {
      "cell_type": "markdown",
      "metadata": {
        "id": "AFZpD6MVqVff"
      },
      "source": [
        "#### Задача 2.2 — **1 балл**"
      ]
    },
    {
      "cell_type": "markdown",
      "metadata": {
        "id": "fqF1_fs1qWvj"
      },
      "source": [
        "Используя данные, полученные в задаче 2.1, выведите на экран столбчатую диаграмму, показывающую топ-20 наиболее комментируемых фильмов. По оси ординат выведите названия этих фильмов (подписи разместите слева диаграммы), по оси абсцисс — количество комментариев.\n",
        "\n",
        "Для решения задачи можно использовать любую библиотеку, например Seaborn или Matplotlib."
      ]
    },
    {
      "cell_type": "code",
      "execution_count": 19,
      "metadata": {
        "id": "J17JdNLymo5k"
      },
      "outputs": [],
      "source": [
        "import matplotlib.pyplot as plt\n",
        "\n",
        "titles = [movie[\"title\"] for movie in top_movies][:20]\n",
        "comment_counts = [movie[\"count\"] for movie in top_movies][:20]"
      ]
    },
    {
      "cell_type": "code",
      "execution_count": 20,
      "metadata": {},
      "outputs": [
        {
          "data": {
            "image/png": "[encoded data removed]",
            "text/plain": [
              "<Figure size 1200x800 with 1 Axes>"
            ]
          },
          "metadata": {},
          "output_type": "display_data"
        }
      ],
      "source": [
        "plt.figure(figsize=(12, 8))\n",
        "plt.barh(titles, comment_counts, color=\"skyblue\")\n",
        "plt.xlabel(\"Кол-во комментариев\")\n",
        "plt.ylabel(\"Фильм\")\n",
        "plt.title(\"Топ-20 фильмов по комментам\")\n",
        "plt.gca().invert_yaxis()\n",
        "plt.show()\n"
      ]
    }
  ],
  "metadata": {
    "colab": {
      "provenance": []
    },
    "kernelspec": {
      "display_name": "base",
      "language": "python",
      "name": "python3"
    },
    "language_info": {
      "codemirror_mode": {
        "name": "ipython",
        "version": 3
      },
      "file_extension": ".py",
      "mimetype": "text/x-python",
      "name": "python",
      "nbconvert_exporter": "python",
      "pygments_lexer": "ipython3",
      "version": "3.11.4"
    }
  },
  "nbformat": 4,
  "nbformat_minor": 0
}
