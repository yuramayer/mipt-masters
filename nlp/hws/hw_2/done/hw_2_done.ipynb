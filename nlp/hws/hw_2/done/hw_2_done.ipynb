{
  "cells": [
    {
      "cell_type": "markdown",
      "metadata": {
        "id": "header"
      },
      "source": [
        "\n",
        "\n",
        "```\n",
        "# Выбран кодовый формат\n",
        "```\n",
        "\n",
        "# Домашнее задание 2. Поисковая система для документов\n",
        "\n",
        "**Модуль 2. Классический поиск и рекуррентные архитектуры**\n",
        "\n",
        "**ФИО студента:** Майер Юрий Алексеевич\n",
        "\n",
        "**Дата выполнения:** 28 - 29 сентября 25\n",
        "\n",
        "\n",
        "## Описание задания\n",
        "\n",
        "В этом задании вы разработаете полнофункциональную поисковую систему, включающую:\n",
        "1. **Предобработку корпуса.**\n",
        "2. **BM25.**\n",
        "3. **Векторный поиск** — на основе эмбеддингов.\n",
        "4. **Гибридный поиск** — комбинация BM25 и векторного поиска.\n",
        "5. **Выбор метрики и оценку качества** — для конкретной задачи.\n",
        "\n",
        "---"
      ]
    },
    {
      "cell_type": "markdown",
      "metadata": {
        "id": "setup"
      },
      "source": [
        "## Установка и импорт библиотек"
      ]
    },
    {
      "cell_type": "code",
      "execution_count": 2,
      "metadata": {
        "id": "imports"
      },
      "outputs": [],
      "source": [
        "import re\n",
        "import math\n",
        "import time\n",
        "from typing import List, Dict, Tuple, Optional, Set\n",
        "from collections import defaultdict, Counter\n",
        "\n",
        "import numpy as np\n",
        "import pandas as pd\n",
        "import matplotlib.pyplot as plt\n",
        "import seaborn as sns\n",
        "from tqdm.notebook import tqdm\n",
        "\n",
        "# NLP\n",
        "import nltk\n",
        "from nltk.corpus import stopwords\n",
        "from nltk.tokenize import word_tokenize\n",
        "import pymorphy3\n",
        "\n",
        "# Векторный поиск\n",
        "from sentence_transformers import SentenceTransformer\n",
        "import faiss\n",
        "\n",
        "# BM25\n",
        "from rank_bm25 import BM25Okapi\n",
        "\n",
        "# Инициализация морфологического анализатора\n",
        "morph = pymorphy3.MorphAnalyzer()\n"
      ]
    },
    {
      "cell_type": "markdown",
      "metadata": {
        "id": "part1"
      },
      "source": [
        "## Часть 1. Подготовка данных\n",
        "\n",
        "1. Загрузите и изучите предложенный датасет.  \n",
        "2. Реализуйте функцию предобработки текста, которая включает:\n",
        "- Лемматизацию с использованием pymorphy3.\n",
        "- Удаление стоп-слов и пунктуации.  \n",
        "3. Обработайте весь корпус документов и сохраните результат для последующих шагов.  \n"
      ]
    },
    {
      "cell_type": "code",
      "execution_count": 3,
      "metadata": {
        "id": "load_data"
      },
      "outputs": [],
      "source": [
        "from datasets import load_dataset\n",
        "\n",
        "# Загружаем корпус документов\n",
        "ds = load_dataset(\"MLNavigator/russian-retrieval\",\n",
        "                  cache_dir='E:/hugging_face')\n",
        "df = pd.DataFrame(ds['train'])\n",
        "questions_df = df[['text','q']]\n",
        "\n",
        "\n",
        "# Уберем дубли, так как датасет имеет соответствие много вопросов -> один документ\n",
        "documents = df['text'].drop_duplicates().to_list()"
      ]
    },
    {
      "cell_type": "code",
      "execution_count": 3,
      "metadata": {},
      "outputs": [
        {
          "name": "stderr",
          "output_type": "stream",
          "text": [
            "[nltk_data] Downloading package punkt to e:\\nltk_data...\n",
            "[nltk_data]   Package punkt is already up-to-date!\n"
          ]
        },
        {
          "data": {
            "text/plain": [
              "True"
            ]
          },
          "execution_count": 3,
          "metadata": {},
          "output_type": "execute_result"
        }
      ],
      "source": [
        "nltk.download('punkt', download_dir=r\"e:\\nltk_data\")"
      ]
    },
    {
      "cell_type": "code",
      "execution_count": 4,
      "metadata": {},
      "outputs": [
        {
          "name": "stderr",
          "output_type": "stream",
          "text": [
            "[nltk_data] Downloading package stopwords to e:\\nltk_data...\n",
            "[nltk_data]   Package stopwords is already up-to-date!\n"
          ]
        },
        {
          "data": {
            "text/plain": [
              "True"
            ]
          },
          "execution_count": 4,
          "metadata": {},
          "output_type": "execute_result"
        }
      ],
      "source": [
        "nltk.download('stopwords', download_dir=r\"e:\\nltk_data\")"
      ]
    },
    {
      "cell_type": "code",
      "execution_count": 5,
      "metadata": {},
      "outputs": [],
      "source": [
        "nltk.data.path.insert(0, r\"e:\\nltk_data\")"
      ]
    },
    {
      "cell_type": "code",
      "execution_count": 6,
      "metadata": {
        "id": "preprocessing"
      },
      "outputs": [],
      "source": [
        "import string\n",
        "\n",
        "\n",
        "russian_stopwords = set(stopwords.words(\"russian\"))"
      ]
    },
    {
      "cell_type": "code",
      "execution_count": 7,
      "metadata": {},
      "outputs": [],
      "source": [
        "def preprocess_text(text: str) -> str:\n",
        "    \"\"\"\n",
        "    Базовая предобработка текста:\n",
        "    1 Приведёём к нижнему регистру\n",
        "    2. Токенизируем\n",
        "    3. Фильтруем по пунктуации и стоп-словам\n",
        "    4 Лемматизация\n",
        "    \"\"\"\n",
        "    # В нижний регистр\n",
        "    text = text.lower()\n",
        "    \n",
        "    # Токенизация\n",
        "    tokens = word_tokenize(text, language=\"russian\")\n",
        "    \n",
        "    cleaned_tokens = []\n",
        "    for token in tokens:\n",
        "        # Пропускаем пунктуацию и стоп-слова\n",
        "        if token in russian_stopwords or token in string.punctuation:\n",
        "            continue\n",
        "        \n",
        "        # Лемматизация\n",
        "        lemma = morph.parse(token)[0].normal_form\n",
        "        cleaned_tokens.append(lemma)\n",
        "    \n",
        "    return \" \".join(cleaned_tokens)"
      ]
    },
    {
      "cell_type": "code",
      "execution_count": 8,
      "metadata": {},
      "outputs": [
        {
          "data": {
            "application/vnd.jupyter.widget-view+json": {
              "model_id": "db63dbb72c834e28a887ee10e5524fa9",
              "version_major": 2,
              "version_minor": 0
            },
            "text/plain": [
              "Preprocessing corpus:   0%|          | 0/9076 [00:00<?, ?it/s]"
            ]
          },
          "metadata": {},
          "output_type": "display_data"
        },
        {
          "data": {
            "text/html": [
              "<div>\n",
              "<style scoped>\n",
              "    .dataframe tbody tr th:only-of-type {\n",
              "        vertical-align: middle;\n",
              "    }\n",
              "\n",
              "    .dataframe tbody tr th {\n",
              "        vertical-align: top;\n",
              "    }\n",
              "\n",
              "    .dataframe thead th {\n",
              "        text-align: right;\n",
              "    }\n",
              "</style>\n",
              "<table border=\"1\" class=\"dataframe\">\n",
              "  <thead>\n",
              "    <tr style=\"text-align: right;\">\n",
              "      <th></th>\n",
              "      <th>original</th>\n",
              "      <th>processed</th>\n",
              "    </tr>\n",
              "  </thead>\n",
              "  <tbody>\n",
              "    <tr>\n",
              "      <th>0</th>\n",
              "      <td>В протерозойских отложениях органические остат...</td>\n",
              "      <td>протерозойский отложение органический остаток ...</td>\n",
              "    </tr>\n",
              "    <tr>\n",
              "      <th>1</th>\n",
              "      <td>Кишечник млекопитающего подразделяется на тонк...</td>\n",
              "      <td>кишечник млекопитающее подразделяться тонкий т...</td>\n",
              "    </tr>\n",
              "    <tr>\n",
              "      <th>2</th>\n",
              "      <td>Город Байконур и космодром Байконур вместе обр...</td>\n",
              "      <td>город байконур космодром байконур вместе образ...</td>\n",
              "    </tr>\n",
              "    <tr>\n",
              "      <th>3</th>\n",
              "      <td>Вскоре после прибытия Колумба из Вест-Индии во...</td>\n",
              "      <td>вскоре прибытие колумб вест-индия возникнуть н...</td>\n",
              "    </tr>\n",
              "    <tr>\n",
              "      <th>4</th>\n",
              "      <td>Около Порт-Артура ночью на 27 января 1904 года...</td>\n",
              "      <td>около порт-артур ночью 27 январь 1904 год нача...</td>\n",
              "    </tr>\n",
              "  </tbody>\n",
              "</table>\n",
              "</div>"
            ],
            "text/plain": [
              "                                            original  \\\n",
              "0  В протерозойских отложениях органические остат...   \n",
              "1  Кишечник млекопитающего подразделяется на тонк...   \n",
              "2  Город Байконур и космодром Байконур вместе обр...   \n",
              "3  Вскоре после прибытия Колумба из Вест-Индии во...   \n",
              "4  Около Порт-Артура ночью на 27 января 1904 года...   \n",
              "\n",
              "                                           processed  \n",
              "0  протерозойский отложение органический остаток ...  \n",
              "1  кишечник млекопитающее подразделяться тонкий т...  \n",
              "2  город байконур космодром байконур вместе образ...  \n",
              "3  вскоре прибытие колумб вест-индия возникнуть н...  \n",
              "4  около порт-артур ночью 27 январь 1904 год нача...  "
            ]
          },
          "execution_count": 8,
          "metadata": {},
          "output_type": "execute_result"
        }
      ],
      "source": [
        "# обернём в tqdm\n",
        "processed_documents = []\n",
        "\n",
        "for doc in tqdm(documents, desc=\"Preprocessing corpus\"):\n",
        "    processed_documents.append(preprocess_text(doc))\n",
        "\n",
        "\n",
        "docs_df = pd.DataFrame({\n",
        "    \"original\": documents,\n",
        "    \"processed\": processed_documents\n",
        "})\n",
        "\n",
        "docs_df.head()\n"
      ]
    },
    {
      "cell_type": "code",
      "execution_count": 10,
      "metadata": {},
      "outputs": [],
      "source": [
        "docs_df.to_csv(\"data/processed_documents.csv\", index=False, encoding=\"utf-8\")"
      ]
    },
    {
      "cell_type": "markdown",
      "metadata": {
        "id": "part2"
      },
      "source": [
        "## Часть 2. Реализация BM25\n",
        "\n",
        "1. Постройте инвертированный индекс для корпуса. Индекс должен содержать частоту термина в документе (TF) и документную частоту (DF).\n",
        "2. Реализуйте функцию поиска BM25 с нуля. Формула для ранжирования:\n",
        "score(D, Q) = Σ IDF(qi) * (f(qi, D) * (k1 + 1)) / (f(qi, D) + k1 * (1 - b + b * |D| / avgdl))\n",
        "3. Проведите оптимизацию гиперпараметра k1, чтобы улучшить качество поиска."
      ]
    },
    {
      "cell_type": "markdown",
      "metadata": {},
      "source": [
        "Постриом инвертированный индекс:"
      ]
    },
    {
      "cell_type": "code",
      "execution_count": 9,
      "metadata": {},
      "outputs": [],
      "source": [
        "from collections import defaultdict\n",
        "import math\n",
        "\n",
        "# Строим индекс по предобработанным документам\n",
        "inverted_index = defaultdict(dict)  # term -> {doc_id: freq}\n",
        "doc_lengths = []  # длины документов (в токенах)\n",
        "\n",
        "for doc_id, doc in enumerate(docs_df[\"processed\"]):\n",
        "    tokens = doc.split()\n",
        "    doc_lengths.append(len(tokens))\n",
        "    freqs = Counter(tokens)\n",
        "    for term, count in freqs.items():\n",
        "        inverted_index[term][doc_id] = count\n",
        "\n",
        "N = len(docs_df)    # общее число документов\n",
        "avgdl = sum(doc_lengths) / N    # средняя длина документа"
      ]
    },
    {
      "cell_type": "markdown",
      "metadata": {},
      "source": [
        "Создадим класс под BM25:"
      ]
    },
    {
      "cell_type": "code",
      "execution_count": 10,
      "metadata": {},
      "outputs": [],
      "source": [
        "class BM25:\n",
        "    def __init__(self, inverted_index, doc_lengths, avgdl, k1=1.5, b=0.75):\n",
        "        self.index = inverted_index\n",
        "        self.doc_lengths = doc_lengths\n",
        "        self.avgdl = avgdl\n",
        "        self.N = len(doc_lengths)\n",
        "        self.k1 = k1\n",
        "        self.b = b\n",
        "\n",
        "    def idf(self, term):\n",
        "\n",
        "        df = len(self.index.get(term, {}))\n",
        "        if df == 0:\n",
        "            return 0\n",
        "        return math.log(1 + (self.N - df + 0.5) / (df + 0.5))\n",
        "\n",
        "    def score(self, query, doc_id):\n",
        "        tokens = query.split()\n",
        "        score = 0.0\n",
        "        for term in tokens:\n",
        "            if doc_id not in self.index.get(term, {}):\n",
        "                continue\n",
        "            f = self.index[term][doc_id]  # term frequency\n",
        "            idf = self.idf(term)\n",
        "            dl = self.doc_lengths[doc_id]\n",
        "            denom = f + self.k1 * (1 - self.b + self.b * dl / self.avgdl)\n",
        "            score += idf * (f * (self.k1 + 1)) / denom\n",
        "        return score\n",
        "\n",
        "    def search(self, query, top_k=5):\n",
        "\n",
        "        scores = []\n",
        "        for doc_id in range(self.N):\n",
        "            s = self.score(query, doc_id)\n",
        "            if s > 0:\n",
        "                scores.append((doc_id, s))\n",
        "        scores.sort(key=lambda x: x[1], reverse=True)\n",
        "        return scores[:top_k]\n"
      ]
    },
    {
      "cell_type": "code",
      "execution_count": 11,
      "metadata": {},
      "outputs": [],
      "source": [
        "bm25 = BM25(inverted_index, doc_lengths, avgdl, k1=1.5, b=0.75)"
      ]
    },
    {
      "cell_type": "code",
      "execution_count": 12,
      "metadata": {
        "id": "bm25_implementation"
      },
      "outputs": [
        {
          "name": "stdout",
          "output_type": "stream",
          "text": [
            "Тестирование BM25:\n",
            "Запрос: 'машинное обучение'\n",
            "  [10.658] Особенность программного обеспечения состоит в том, что оно производится в одной...\n",
            "  [10.270] Промышленный переворот, произошедший с 60-х годов XVIII до первой четверти XIX в...\n",
            "  [8.999] Цифровые обучающие игры отличаются от традиционных обучающих игр и не основанног...\n",
            "\n",
            "Запрос: 'нейронные сети'\n",
            "  [18.523] Области мозга, постоянно используемые, когда человек занят вопросами морали, был...\n",
            "  [7.732] Двусторонние рынки (двусторонние сети) — сетевые рынки, которые имеют две группы...\n",
            "  [7.476] Во множестве сетей пользователи являются гомогенными, то есть они выполняют один...\n",
            "\n",
            "Запрос: 'поисковые системы BM25'\n",
            "  [17.158] Для поиска информации с помощью поисковой системы пользователь формулирует поиск...\n",
            "  [16.063] Полезность поисковой системы зависит от релевантности найденных ею страниц. Хоть...\n",
            "  [15.075] Когда пользователь вводит запрос в поисковую систему (обычно при помощи ключевых...\n",
            "\n",
            "Запрос: 'Python программирование'\n",
            "  [11.529] В теории языков программирования, как подразделе информатики, изучают проектиров...\n",
            "  [10.061] Регулирование (системы регулирования) включают в себя контроль (системы контроля...\n",
            "  [9.661] В некоторых университетах информатика преподаётся в качестве теоретического изуч...\n",
            "\n"
          ]
        }
      ],
      "source": [
        "# запустим реализацию используя BM25\n",
        "\n",
        "# Тестовые запросы\n",
        "test_queries = [\n",
        "    \"машинное обучение\",\n",
        "    \"нейронные сети\",\n",
        "    \"поисковые системы BM25\",\n",
        "    \"Python программирование\"\n",
        "]\n",
        "\n",
        "print(\"Тестирование BM25:\")\n",
        "for query in test_queries:\n",
        "    results = bm25.search(preprocess_text(query), top_k=3)\n",
        "    print(f\"Запрос: '{query}'\")\n",
        "    for doc_id, score in results:\n",
        "        snippet = docs_df.loc[doc_id, \"original\"][:80].replace(\"\\n\", \" \")\n",
        "        print(f\"  [{score:.3f}] {snippet}...\")\n",
        "    print()"
      ]
    },
    {
      "cell_type": "markdown",
      "metadata": {},
      "source": [
        "Вроде находим похожее по смыслу!"
      ]
    },
    {
      "cell_type": "markdown",
      "metadata": {},
      "source": [
        "Оптимизируем гиперпараметр: попробуем покрутить k1 и глянуть, как меняется выдача"
      ]
    },
    {
      "cell_type": "code",
      "execution_count": 13,
      "metadata": {},
      "outputs": [
        {
          "name": "stdout",
          "output_type": "stream",
          "text": [
            "k1=0.8, top-3: [(3752, 9.186560904540766), (6183, 8.970087532383467), (5764, 7.317339606553348), (5442, 7.289448913161504), (1339, 7.282343540639443)]\n",
            "k1=1.2, top-3: [(3752, 10.091308937935024), (6183, 9.773338766629374), (5442, 8.314949716133519), (7620, 7.887031106695115), (4080, 7.62070916448306)]\n",
            "k1=1.5, top-3: [(3752, 10.658134800671963), (6183, 10.269950324987153), (5442, 8.998559143703643), (7620, 8.45261909771327), (4080, 8.11816252615837)]\n",
            "k1=2.0, top-3: [(3752, 11.443771007899944), (6183, 10.949995873028008), (5442, 10.003783173880887), (7620, 9.264636191205591), (4080, 8.822003215412112)]\n"
          ]
        }
      ],
      "source": [
        "for k1 in [0.8, 1.2, 1.5, 2.0]:\n",
        "    bm25 = BM25(inverted_index, doc_lengths, avgdl, k1=k1)\n",
        "    scores = bm25.search(preprocess_text(\"машинное обучение\"))\n",
        "    print(f\"k1={k1}, top-3:\", scores)"
      ]
    },
    {
      "cell_type": "markdown",
      "metadata": {
        "id": "part3"
      },
      "source": [
        "## Часть 3. Векторный поиск\n",
        "\n",
        "1. Используйте предобученную модель sentence-transformers для получения векторных представлений (эмбеддингов) всех документов.\n",
        "2. Создайте индекс для быстрого поиска ближайших соседей с помощью faiss-cpu.\n",
        "3. Реализуйте функцию векторного поиска, которая по запросу находит top-k наиболее близких документов.\n"
      ]
    },
    {
      "cell_type": "markdown",
      "metadata": {},
      "source": [
        "Начнём с эмбеддина документов:"
      ]
    },
    {
      "cell_type": "markdown",
      "metadata": {},
      "source": [
        "> пайторч великодушно предложил мне скачать на диск C: файлик `pytorch_model.bin` весом в ДВА С ПОЛОВИНОЙ ГИГА 😳\n",
        "> \n",
        "> так что перенесём-ка кэш на диск E:"
      ]
    },
    {
      "cell_type": "code",
      "execution_count": 14,
      "metadata": {},
      "outputs": [],
      "source": [
        "import os\n",
        "os.environ[\"HF_HOME\"] = \"E:/hugging_face\"\n",
        "os.environ[\"TRANSFORMERS_CACHE\"] = \"E:/hugging_face\"\n"
      ]
    },
    {
      "cell_type": "code",
      "execution_count": 15,
      "metadata": {},
      "outputs": [],
      "source": [
        "model = SentenceTransformer(\"BAAI/bge-m3\", device=\"cpu\", cache_folder=\"E:/hugging_face\")"
      ]
    },
    {
      "cell_type": "markdown",
      "metadata": {},
      "source": [
        "Боже, с десятой попытки скачали трансформер..."
      ]
    },
    {
      "cell_type": "markdown",
      "metadata": {},
      "source": [
        "Ожидание - 22 часа 😩 Возьмём лучше модель полегче"
      ]
    },
    {
      "cell_type": "code",
      "execution_count": 17,
      "metadata": {},
      "outputs": [
        {
          "data": {
            "application/vnd.jupyter.widget-view+json": {
              "model_id": "c1965020ee3e48c88a1c471101419926",
              "version_major": 2,
              "version_minor": 0
            },
            "text/plain": [
              "modules.json:   0%|          | 0.00/229 [00:00<?, ?B/s]"
            ]
          },
          "metadata": {},
          "output_type": "display_data"
        },
        {
          "name": "stderr",
          "output_type": "stream",
          "text": [
            "f:\\pycode25\\mipt-masters\\nlp\\hws\\hw_2\\.venv\\Lib\\site-packages\\huggingface_hub\\file_download.py:143: UserWarning: `huggingface_hub` cache-system uses symlinks by default to efficiently store duplicated files but your machine does not support them in E:\\hugging_face\\models--sentence-transformers--paraphrase-MiniLM-L6-v2. Caching files will still work but in a degraded version that might require more space on your disk. This warning can be disabled by setting the `HF_HUB_DISABLE_SYMLINKS_WARNING` environment variable. For more details, see https://huggingface.co/docs/huggingface_hub/how-to-cache#limitations.\n",
            "To support symlinks on Windows, you either need to activate Developer Mode or to run Python as an administrator. In order to activate developer mode, see this article: https://docs.microsoft.com/en-us/windows/apps/get-started/enable-your-device-for-development\n",
            "  warnings.warn(message)\n"
          ]
        },
        {
          "data": {
            "application/vnd.jupyter.widget-view+json": {
              "model_id": "8a07607c4c204b0f84661a104b407f88",
              "version_major": 2,
              "version_minor": 0
            },
            "text/plain": [
              "config_sentence_transformers.json:   0%|          | 0.00/122 [00:00<?, ?B/s]"
            ]
          },
          "metadata": {},
          "output_type": "display_data"
        },
        {
          "data": {
            "application/vnd.jupyter.widget-view+json": {
              "model_id": "d077b071dda54a488d84c97148f2a6e7",
              "version_major": 2,
              "version_minor": 0
            },
            "text/plain": [
              "README.md: 0.00B [00:00, ?B/s]"
            ]
          },
          "metadata": {},
          "output_type": "display_data"
        },
        {
          "data": {
            "application/vnd.jupyter.widget-view+json": {
              "model_id": "ef6b5117b7024dbd86c2c372a5d31fda",
              "version_major": 2,
              "version_minor": 0
            },
            "text/plain": [
              "sentence_bert_config.json:   0%|          | 0.00/53.0 [00:00<?, ?B/s]"
            ]
          },
          "metadata": {},
          "output_type": "display_data"
        },
        {
          "data": {
            "application/vnd.jupyter.widget-view+json": {
              "model_id": "2ccd557abfbb438dbedb1a9ff82f9bb9",
              "version_major": 2,
              "version_minor": 0
            },
            "text/plain": [
              "config.json:   0%|          | 0.00/629 [00:00<?, ?B/s]"
            ]
          },
          "metadata": {},
          "output_type": "display_data"
        },
        {
          "name": "stderr",
          "output_type": "stream",
          "text": [
            "Xet Storage is enabled for this repo, but the 'hf_xet' package is not installed. Falling back to regular HTTP download. For better performance, install the package with: `pip install huggingface_hub[hf_xet]` or `pip install hf_xet`\n"
          ]
        },
        {
          "data": {
            "application/vnd.jupyter.widget-view+json": {
              "model_id": "7e504d7fc4414b6382523781830d2fe2",
              "version_major": 2,
              "version_minor": 0
            },
            "text/plain": [
              "model.safetensors:   0%|          | 0.00/90.9M [00:00<?, ?B/s]"
            ]
          },
          "metadata": {},
          "output_type": "display_data"
        },
        {
          "data": {
            "application/vnd.jupyter.widget-view+json": {
              "model_id": "269bc62e75c24e7f967d981c8bb56b5b",
              "version_major": 2,
              "version_minor": 0
            },
            "text/plain": [
              "tokenizer_config.json:   0%|          | 0.00/314 [00:00<?, ?B/s]"
            ]
          },
          "metadata": {},
          "output_type": "display_data"
        },
        {
          "data": {
            "application/vnd.jupyter.widget-view+json": {
              "model_id": "5390568192e84acd8ecf3350cfb60bda",
              "version_major": 2,
              "version_minor": 0
            },
            "text/plain": [
              "vocab.txt: 0.00B [00:00, ?B/s]"
            ]
          },
          "metadata": {},
          "output_type": "display_data"
        },
        {
          "data": {
            "application/vnd.jupyter.widget-view+json": {
              "model_id": "f580bdd128cb463c933d5c8b087cf695",
              "version_major": 2,
              "version_minor": 0
            },
            "text/plain": [
              "tokenizer.json: 0.00B [00:00, ?B/s]"
            ]
          },
          "metadata": {},
          "output_type": "display_data"
        },
        {
          "data": {
            "application/vnd.jupyter.widget-view+json": {
              "model_id": "345701fe3e7944f8a91957b821ed4858",
              "version_major": 2,
              "version_minor": 0
            },
            "text/plain": [
              "special_tokens_map.json:   0%|          | 0.00/112 [00:00<?, ?B/s]"
            ]
          },
          "metadata": {},
          "output_type": "display_data"
        },
        {
          "data": {
            "application/vnd.jupyter.widget-view+json": {
              "model_id": "38568719ea08446e83a1ca4e29350ce6",
              "version_major": 2,
              "version_minor": 0
            },
            "text/plain": [
              "config.json:   0%|          | 0.00/190 [00:00<?, ?B/s]"
            ]
          },
          "metadata": {},
          "output_type": "display_data"
        }
      ],
      "source": [
        "model = SentenceTransformer(\"sentence-transformers/paraphrase-MiniLM-L6-v2\", device=\"cpu\", cache_folder=\"E:/hugging_face\")\n"
      ]
    },
    {
      "cell_type": "code",
      "execution_count": 18,
      "metadata": {},
      "outputs": [
        {
          "data": {
            "application/vnd.jupyter.widget-view+json": {
              "model_id": "e5abd16ad7c54c23b82667f64a147353",
              "version_major": 2,
              "version_minor": 0
            },
            "text/plain": [
              "Batches:   0%|          | 0/1135 [00:00<?, ?it/s]"
            ]
          },
          "metadata": {},
          "output_type": "display_data"
        }
      ],
      "source": [
        "doc_embeddings = model.encode(\n",
        "    docs_df[\"processed\"].tolist(),\n",
        "    batch_size=8, \n",
        "    show_progress_bar=True,\n",
        "    normalize_embeddings=True\n",
        ")\n",
        "\n",
        "\n",
        "doc_embeddings = np.array(doc_embeddings, dtype=\"float32\")\n",
        "dim = doc_embeddings.shape[1]\n"
      ]
    },
    {
      "cell_type": "markdown",
      "metadata": {},
      "source": [
        "Вот так-то лучше вышло!"
      ]
    },
    {
      "cell_type": "markdown",
      "metadata": {},
      "source": [
        "Посмотрим индекс faiss для эмбеддингов:"
      ]
    },
    {
      "cell_type": "code",
      "execution_count": 19,
      "metadata": {},
      "outputs": [],
      "source": [
        "import faiss\n",
        "\n",
        "index = faiss.IndexFlatIP(dim)\n",
        "index.add(doc_embeddings)  # загрузили все документы\n"
      ]
    },
    {
      "cell_type": "markdown",
      "metadata": {},
      "source": [
        "Создадим обёртку для поиска:"
      ]
    },
    {
      "cell_type": "code",
      "execution_count": 20,
      "metadata": {},
      "outputs": [],
      "source": [
        "class VectorSearch:\n",
        "    def __init__(self, model, index, documents):\n",
        "        self.model = model\n",
        "        self.index = index\n",
        "        self.documents = documents\n",
        "\n",
        "    def search(self, query: str, top_k: int = 5):\n",
        "\n",
        "        q_emb = self.model.encode(\n",
        "            preprocess_text(query),\n",
        "            normalize_embeddings=True\n",
        "        ).astype(\"float32\").reshape(1, -1)\n",
        "\n",
        "\n",
        "        scores, ids = self.index.search(q_emb, top_k)\n",
        "        results = [(int(doc_id), float(score)) for doc_id, score in zip(ids[0], scores[0])]\n",
        "        return results"
      ]
    },
    {
      "cell_type": "code",
      "execution_count": 21,
      "metadata": {},
      "outputs": [],
      "source": [
        "vector_search = VectorSearch(model, index, documents)"
      ]
    },
    {
      "cell_type": "code",
      "execution_count": 22,
      "metadata": {
        "id": "vector_search"
      },
      "outputs": [
        {
          "name": "stdout",
          "output_type": "stream",
          "text": [
            "Запрос: 'машинное обучение'\n",
            "  [0.847] Конечная цель йоги может быть совершенно разной: от улучшения физического здоров...\n",
            "  [0.836] Основными задачами Центрального банка, как указано в 8-й статье закона № 03 / L-...\n",
            "  [0.832] Типичный эффект от использования фирмы-однодневки состоит в том, что, имитируя п...\n",
            "\n",
            "Запрос: 'нейронные сети'\n",
            "  [0.844] Начиная с конца 1740-х годов некоторые из шведских учеников Линнея начали участв...\n",
            "  [0.842] Ныне в США насчитываются 565 индейских племен, официально признанных федеральным...\n",
            "  [0.841] Данное решение было обусловлено тем, что выше названные населённые пункты находи...\n",
            "\n",
            "Запрос: 'поисковые системы BM25'\n",
            "  [0.744] Примерно с XVIII века форма камня начала стандартизироваться и приобрела совреме...\n",
            "  [0.742] Флора Исландии включает в себя свыше 500 видов высших (сосудистых) растений (из ...\n",
            "  [0.742] Первоначально в кассетах использовались ленты с рабочим слоем из гамма-окиси жел...\n",
            "\n",
            "Запрос: 'Python программирование'\n",
            "  [0.604] Прошедшие электронную инспекцию карточки сбрасываются на конвейер для визуальног...\n",
            "  [0.602] Самая высокая теоретически возможная температура — планковская температура. Боле...\n",
            "  [0.599] Транзакции на небольшие суммы как правило менее подвержены проверке и имеют мень...\n",
            "\n"
          ]
        }
      ],
      "source": [
        "\n",
        "# Тестируем векторный поиск! если комп не умрёт\n",
        "\n",
        "for query in test_queries:\n",
        "    results = vector_search.search(query, top_k=3)\n",
        "    print(f\"Запрос: '{query}'\")\n",
        "    for doc_id, score in results:\n",
        "        snippet = docs_df.loc[doc_id, \"original\"][:80].replace(\"\\n\", \" \")\n",
        "        print(f\"  [{score:.3f}] {snippet}...\")\n",
        "    print()"
      ]
    },
    {
      "cell_type": "markdown",
      "metadata": {},
      "source": [
        "Звучит совсем нелогично!"
      ]
    },
    {
      "cell_type": "markdown",
      "metadata": {
        "id": "part4"
      },
      "source": [
        "## Часть 4. Гибридный поиск\n",
        "\n",
        "1. Разработайте функцию, которая комбинирует результаты ранжирования от BM25 и векторного поиска.\n",
        "2. Реализуйте механизм взвешивания скоров с помощью параметра α:\n",
        "hybrid_score = α * bm25_score + (1 - α) * vector_score\n",
        "3. Проведите автоматическую оптимизацию параметра α на валидационном наборе данных.\n"
      ]
    },
    {
      "cell_type": "markdown",
      "metadata": {},
      "source": [
        "Окей, создадим объект нашей новой модели"
      ]
    },
    {
      "cell_type": "code",
      "execution_count": 23,
      "metadata": {},
      "outputs": [],
      "source": [
        "class HybridSearch:\n",
        "    def __init__(self, bm25, vector_search, alpha=0.5):\n",
        "        # alpha вес BM25, (1-alpha) – вес векторного\n",
        "        self.bm25 = bm25\n",
        "        self.vector_search = vector_search\n",
        "        self.alpha = alpha\n",
        "\n",
        "    def search(self, query, top_k=5):\n",
        "        # для BM25 прогоняем через препроцессинг\n",
        "        q_proc = preprocess_text(query)\n",
        "\n",
        "        # достаем побольше кандидатов (чем top_k), иначе смесь будет бедная\n",
        "        bm25_res = dict(self.bm25.search(q_proc, top_k=50))\n",
        "        vec_res = dict(self.vector_search.search(query, top_k=50))\n",
        "\n",
        "        # собираем все id доков\n",
        "        all_ids = set(bm25_res.keys()) | set(vec_res.keys())\n",
        "\n",
        "        scores = []\n",
        "        for doc_id in all_ids:\n",
        "            s_bm25 = bm25_res.get(doc_id, 0.0)\n",
        "            s_vec = vec_res.get(doc_id, 0.0)\n",
        "\n",
        "            # простое линейное комбинирование\n",
        "            final_score = self.alpha * s_bm25 + (1 - self.alpha) * s_vec\n",
        "            scores.append((doc_id, final_score))\n",
        "\n",
        "        # сортируем по скору и режем до top_k\n",
        "        scores.sort(key=lambda x: x[1], reverse=True)\n",
        "        return scores[:top_k]\n"
      ]
    },
    {
      "cell_type": "markdown",
      "metadata": {},
      "source": [
        "Оптимизируем по альфе:"
      ]
    },
    {
      "cell_type": "code",
      "execution_count": 24,
      "metadata": {},
      "outputs": [
        {
          "name": "stdout",
          "output_type": "stream",
          "text": [
            "alpha > score: {0.0: 0.04, 0.25: 0.955, 0.5: 0.955, 0.75: 0.955, 1.0: 0.955}\n",
            "Лучшее alpha: 0.25\n"
          ]
        }
      ],
      "source": [
        "def evaluate_alpha(alphas, queries_df, top_k=3, sample_size=200):\n",
        "    \"\"\"\n",
        "    Берем первые N примеров из queries_df, считаем\n",
        "    попадание правильного документа в топ-k.\n",
        "    Грубая метрика, но для тюнинга сойдёт\n",
        "    \"\"\"\n",
        "    results = {}\n",
        "    sample = queries_df.head(sample_size)\n",
        "\n",
        "    for alpha in alphas:\n",
        "        hs = HybridSearch(bm25, vector_search, alpha=alpha)\n",
        "        hits, total = 0, 0\n",
        "\n",
        "        for _, row in sample.iterrows():\n",
        "            q = row[\"q\"]\n",
        "            true_doc = row[\"text\"]\n",
        "\n",
        "            retrieved = hs.search(q, top_k=top_k)\n",
        "            retrieved_docs = [docs_df.loc[d, \"original\"] for d, _ in retrieved]\n",
        "\n",
        "            if true_doc in retrieved_docs:\n",
        "                hits += 1\n",
        "            total += 1\n",
        "\n",
        "        results[alpha] = hits / total if total > 0 else 0\n",
        "\n",
        "    return results\n",
        "\n",
        "alphas = [0.0, 0.25, 0.5, 0.75, 1.0]\n",
        "alpha_scores = evaluate_alpha(alphas, questions_df)\n",
        "print(\"alpha > score:\", alpha_scores)\n",
        "\n",
        "best_alpha = max(alpha_scores, key=alpha_scores.get)\n",
        "print(\"Лучшее alpha:\", best_alpha)\n"
      ]
    },
    {
      "cell_type": "code",
      "execution_count": 25,
      "metadata": {},
      "outputs": [],
      "source": [
        "hybrid_search = HybridSearch(bm25, vector_search, alpha=best_alpha)"
      ]
    },
    {
      "cell_type": "code",
      "execution_count": 26,
      "metadata": {
        "id": "hybrid_search"
      },
      "outputs": [
        {
          "name": "stdout",
          "output_type": "stream",
          "text": [
            "Запрос: 'машинное обучение'\n",
            "  [2.861] Особенность программного обеспечения состоит в том, что оно производится в одной...\n",
            "  [2.737] Промышленный переворот, произошедший с 60-х годов XVIII до первой четверти XIX в...\n",
            "  [2.501] Цифровые обучающие игры отличаются от традиционных обучающих игр и не основанног...\n",
            "\n",
            "Запрос: 'нейронные сети'\n",
            "  [4.916] Области мозга, постоянно используемые, когда человек занят вопросами морали, был...\n",
            "  [2.203] Двусторонние рынки (двусторонние сети) — сетевые рынки, которые имеют две группы...\n",
            "  [2.111] Во множестве сетей пользователи являются гомогенными, то есть они выполняют один...\n",
            "\n",
            "Запрос: 'поисковые системы BM25'\n",
            "  [4.847] Для поиска информации с помощью поисковой системы пользователь формулирует поиск...\n",
            "  [4.465] Полезность поисковой системы зависит от релевантности найденных ею страниц. Хоть...\n",
            "  [4.131] Когда пользователь вводит запрос в поисковую систему (обычно при помощи ключевых...\n",
            "\n",
            "Запрос: 'Python программирование'\n",
            "  [3.174] В теории языков программирования, как подразделе информатики, изучают проектиров...\n",
            "  [2.693] Регулирование (системы регулирования) включают в себя контроль (системы контроля...\n",
            "  [2.567] В некоторых университетах информатика преподаётся в качестве теоретического изуч...\n",
            "\n"
          ]
        }
      ],
      "source": [
        "# Тестируем гибридный поиск\n",
        "for query in test_queries:\n",
        "    results = hybrid_search.search(query, top_k=3)\n",
        "    print(f\"Запрос: '{query}'\")\n",
        "    for doc_id, score in results:\n",
        "        snippet = docs_df.loc[doc_id, \"original\"][:80].replace(\"\\n\", \" \")\n",
        "        print(f\"  [{score:.3f}] {snippet}...\")\n",
        "    print()"
      ]
    },
    {
      "cell_type": "markdown",
      "metadata": {},
      "source": [
        "Воо, так получше кажется!"
      ]
    },
    {
      "cell_type": "markdown",
      "metadata": {
        "id": "part6"
      },
      "source": [
        "## Часть 5. Оценка качества\n",
        "\n",
        "1. Выберите и **обоснуйте метрику** для оценки качества вашей поисковой системы (например, MRR, MAP@k или NDCG@k). **Обязательно подумайте о том, какой топ-к нужно выбрать исходя из данных**.\n",
        "2. **Создайте небольшой датасет для оценки**, состоящий из запросов и релевантных им документов.  \n",
        "3. **Сравните качество** всех трех реализованных подходов (BM25, векторный, гибридный) на вашем датасете.  \n"
      ]
    },
    {
      "cell_type": "markdown",
      "metadata": {},
      "source": [
        "Проверим в целом, насколько вообще наши поисковые системы (BM25, векторный и гибридный) адекватно ищут\n",
        "\n",
        "Метрик много, но у нас ситуация простая: есть вопрос и ровно один \"правильный\" документ к нему. Поэтому лучшая метрика здесь — **MRR**. Она смотрит, на каком месте оказался релевантный документ, и усредняет по всем запросам\n",
        "\n",
        "Если документ всегда первый = MRR=1.0, если обычно где-то внизу = ближе к нулю.\n",
        "\n",
        "Возьмем **MRR@3**, т.е. считаем только по топ-3 документам"
      ]
    },
    {
      "cell_type": "code",
      "execution_count": 27,
      "metadata": {
        "id": "metrics"
      },
      "outputs": [
        {
          "name": "stdout",
          "output_type": "stream",
          "text": [
            "Пример данных для оценки:\n"
          ]
        },
        {
          "data": {
            "text/html": [
              "<div>\n",
              "<style scoped>\n",
              "    .dataframe tbody tr th:only-of-type {\n",
              "        vertical-align: middle;\n",
              "    }\n",
              "\n",
              "    .dataframe tbody tr th {\n",
              "        vertical-align: top;\n",
              "    }\n",
              "\n",
              "    .dataframe thead th {\n",
              "        text-align: right;\n",
              "    }\n",
              "</style>\n",
              "<table border=\"1\" class=\"dataframe\">\n",
              "  <thead>\n",
              "    <tr style=\"text-align: right;\">\n",
              "      <th></th>\n",
              "      <th>text</th>\n",
              "      <th>q</th>\n",
              "    </tr>\n",
              "  </thead>\n",
              "  <tbody>\n",
              "    <tr>\n",
              "      <th>0</th>\n",
              "      <td>Внешний вид и окраска крыльев бабочек имеют ва...</td>\n",
              "      <td>Что имеет важную роль в повышении выживаемости...</td>\n",
              "    </tr>\n",
              "    <tr>\n",
              "      <th>1</th>\n",
              "      <td>Волосяной покров отсутствует. У усатых китов н...</td>\n",
              "      <td>Где живут гангский дельфин и амазонская иния?</td>\n",
              "    </tr>\n",
              "    <tr>\n",
              "      <th>2</th>\n",
              "      <td>Большинство драматургов того периода создавали...</td>\n",
              "      <td>По отношению к каким произведениям Шекспира кр...</td>\n",
              "    </tr>\n",
              "    <tr>\n",
              "      <th>3</th>\n",
              "      <td>В отличие от гибкого диска (дискеты) информаци...</td>\n",
              "      <td>сколько В НЖМД используется пластин на одной оси?</td>\n",
              "    </tr>\n",
              "    <tr>\n",
              "      <th>4</th>\n",
              "      <td>Двуполое размножение — наиболее обычная и расп...</td>\n",
              "      <td>Какие основные признаки двуполого размножения?</td>\n",
              "    </tr>\n",
              "  </tbody>\n",
              "</table>\n",
              "</div>"
            ],
            "text/plain": [
              "                                                text  \\\n",
              "0  Внешний вид и окраска крыльев бабочек имеют ва...   \n",
              "1  Волосяной покров отсутствует. У усатых китов н...   \n",
              "2  Большинство драматургов того периода создавали...   \n",
              "3  В отличие от гибкого диска (дискеты) информаци...   \n",
              "4  Двуполое размножение — наиболее обычная и расп...   \n",
              "\n",
              "                                                   q  \n",
              "0  Что имеет важную роль в повышении выживаемости...  \n",
              "1      Где живут гангский дельфин и амазонская иния?  \n",
              "2  По отношению к каким произведениям Шекспира кр...  \n",
              "3  сколько В НЖМД используется пластин на одной оси?  \n",
              "4     Какие основные признаки двуполого размножения?  "
            ]
          },
          "metadata": {},
          "output_type": "display_data"
        }
      ],
      "source": [
        "import random\n",
        "\n",
        "# небольшой срез из вопросов для оценки\n",
        "eval_queries = questions_df.sample(100,\n",
        "                                   random_state=42).reset_index(drop=True)\n",
        "print(\"Пример данных для оценки:\")\n",
        "display(eval_queries.head())"
      ]
    },
    {
      "cell_type": "markdown",
      "metadata": {},
      "source": [
        "Пишем функцию для подсчёта метрички:"
      ]
    },
    {
      "cell_type": "code",
      "execution_count": 28,
      "metadata": {},
      "outputs": [],
      "source": [
        "def mrr_at_k(system, queries_df, k=3):\n",
        "    \"\"\"\n",
        "    Считаем Mean Reciprocal Rank\n",
        "    \"\"\"\n",
        "    rr_sum = 0\n",
        "    total = 0\n",
        "    \n",
        "    for _, row in queries_df.iterrows():\n",
        "        q = row[\"q\"]\n",
        "        true_doc = row[\"text\"]\n",
        "\n",
        "        # получаем выдачу\n",
        "        results = system.search(q, top_k=k)\n",
        "        retrieved_docs = [docs_df.loc[d, \"original\"] for d, _ in results]\n",
        "\n",
        "        rank = None\n",
        "        for i, doc in enumerate(retrieved_docs, start=1):\n",
        "            if doc == true_doc:\n",
        "                rank = i\n",
        "                break\n",
        "        \n",
        "        if rank:\n",
        "            rr_sum += 1.0 / rank\n",
        "        total += 1\n",
        "    \n",
        "    return rr_sum / total if total > 0 else 0"
      ]
    },
    {
      "cell_type": "code",
      "execution_count": 29,
      "metadata": {},
      "outputs": [],
      "source": [
        "bm25_score = mrr_at_k(bm25, eval_queries, k=3)\n",
        "vector_score = mrr_at_k(vector_search, eval_queries, k=3)\n",
        "hybrid_score = mrr_at_k(hybrid_search, eval_queries, k=3)"
      ]
    },
    {
      "cell_type": "code",
      "execution_count": 31,
      "metadata": {},
      "outputs": [
        {
          "name": "stdout",
          "output_type": "stream",
          "text": [
            "MRR@3 результаты. чем ближе к 1.0, тем лучше 😇\n",
            "BM25 : 0.225\n",
            "Vector : 0.028\n",
            "Hybrid  : 0.900\n"
          ]
        }
      ],
      "source": [
        "print(\"MRR@3 результаты. чем ближе к 1.0, тем лучше 😇\")\n",
        "\n",
        "print(f\"BM25 : {bm25_score:.3f}\")\n",
        "print(f\"Vector : {vector_score:.3f}\")\n",
        "print(f\"Hybrid  : {hybrid_score:.3f}\")"
      ]
    },
    {
      "cell_type": "markdown",
      "metadata": {},
      "source": [
        "Вторая прям совсем плоха конечно)) Зато гибрид отличный"
      ]
    },
    {
      "cell_type": "code",
      "execution_count": 34,
      "metadata": {},
      "outputs": [
        {
          "name": "stderr",
          "output_type": "stream",
          "text": [
            "C:\\Users\\user\\AppData\\Local\\Temp\\ipykernel_11152\\1436211983.py:9: FutureWarning: \n",
            "\n",
            "Passing `palette` without assigning `hue` is deprecated and will be removed in v0.14.0. Assign the `x` variable to `hue` and set `legend=False` for the same effect.\n",
            "\n",
            "  sns.barplot(data=scores_df, x=\"Метод\", y=\"MRR 3\", palette=\"Set2\")\n"
          ]
        },
        {
          "data": {
            "image/png": "[encoded data removed]",
            "text/plain": [
              "<Figure size 600x400 with 1 Axes>"
            ]
          },
          "metadata": {},
          "output_type": "display_data"
        }
      ],
      "source": [
        "# Сделаем барплотик\n",
        "\n",
        "scores_df = pd.DataFrame({\n",
        "    \"Метод\": [\"BM25\", \"Vector\", \"Hybrid\"],\n",
        "    \"MRR 3\": [bm25_score, vector_score, hybrid_score]\n",
        "})\n",
        "\n",
        "plt.figure(figsize=(6,4))\n",
        "sns.barplot(data=scores_df, x=\"Метод\", y=\"MRR 3\", palette=\"Set2\")\n",
        "plt.title(\"Качество по MRR3\")\n",
        "plt.ylim(0, 1)\n",
        "plt.show()\n"
      ]
    },
    {
      "cell_type": "markdown",
      "metadata": {},
      "source": [
        "**Сравнение трёх систем:**  \n",
        "\n",
        "- BM25 хорошо работает по ключевым словам  \n",
        "- Векторный поиск ловит семантику  \n",
        "- Гибридный объединяет лучшее от обоих  \n",
        "\n",
        "В графике ниже видно, что гибридный подход даёт прям оптимальный выигрыш! Значит, им и нужно пользоваться)\n"
      ]
    }
  ],
  "metadata": {
    "colab": {
      "provenance": []
    },
    "kernelspec": {
      "display_name": ".venv",
      "language": "python",
      "name": "python3"
    },
    "language_info": {
      "codemirror_mode": {
        "name": "ipython",
        "version": 3
      },
      "file_extension": ".py",
      "mimetype": "text/x-python",
      "name": "python",
      "nbconvert_exporter": "python",
      "pygments_lexer": "ipython3",
      "version": "3.12.4"
    }
  },
  "nbformat": 4,
  "nbformat_minor": 0
}
