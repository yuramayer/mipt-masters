{
  "cells": [
    {
      "cell_type": "markdown",
      "metadata": {
        "id": "z5NpzTfOO-KZ"
      },
      "source": [
        "# Семинар 1 — Классические методы NLP в действии\n",
        "\n",
        "-----\n",
        "\n",
        "### **Цель семинара**\n",
        "\n",
        "На этом семинаре мы пройдём полный цикл работы с текстовыми данными: от **предобработки** и **векторизации** до обучения **классификаторов** для анализа тональности отзывов. Мы сравним два классических подхода: **TF-IDF** (Term Frequency-Inverse Document Frequency) и **Word2Vec**.\n",
        "\n",
        "-----\n",
        "\n",
        "### **0. Установка и импорт библиотек**\n",
        "\n",
        "В этой ячейке мы устанавливаем все необходимые библиотеки и импортируем их. Это стандартная практика для любого проекта, чтобы убедиться, что всё готово к работе. Установка некоторых библиотек может потребовать перезапуска среды colab"
      ]
    },
    {
      "cell_type": "markdown",
      "metadata": {},
      "source": [
        "Проверим версию python, под которой будем работать:"
      ]
    },
    {
      "cell_type": "code",
      "execution_count": 1,
      "metadata": {},
      "outputs": [
        {
          "name": "stdout",
          "output_type": "stream",
          "text": [
            "Python 3.11.13\n"
          ]
        }
      ],
      "source": [
        "!python --version"
      ]
    },
    {
      "cell_type": "markdown",
      "metadata": {},
      "source": [
        "Библиотеки для python-среды собраны в `requirements`:"
      ]
    },
    {
      "cell_type": "code",
      "execution_count": 2,
      "metadata": {},
      "outputs": [
        {
          "data": {
            "text/plain": [
              "['base', 'done', 'requirements.txt']"
            ]
          },
          "execution_count": 2,
          "metadata": {},
          "output_type": "execute_result"
        }
      ],
      "source": [
        "import os\n",
        "\n",
        "os.listdir('../')"
      ]
    },
    {
      "cell_type": "code",
      "execution_count": 3,
      "metadata": {
        "colab": {
          "base_uri": "https://localhost:8080/",
          "height": 929
        },
        "id": "1ZWGvA9GP9je",
        "outputId": "6a85d95a-f1cb-40c5-d06d-a7f5cd0f3188"
      },
      "outputs": [],
      "source": [
        "# # Установка необходимых библиотек\n",
        "# !pip install pymorphy3 pymorphy3-dicts-ru  # pymorphy3 - это форк pymorphy2, поддерживаемый интузиастами для python >= 3.11\n",
        "# !pip install gensim\n",
        "# !pip install tqdm                          # библиотека для визуализации прогресса работы кода в ячейках"
      ]
    },
    {
      "cell_type": "code",
      "execution_count": 1,
      "metadata": {
        "id": "LhUpCJsmO-Kb"
      },
      "outputs": [],
      "source": [
        "# Импорт библиотек\n",
        "import os\n",
        "import re\n",
        "import warnings\n",
        "import numpy as np\n",
        "import pandas as pd\n",
        "import matplotlib.pyplot as plt\n",
        "import seaborn as sns\n",
        "from tqdm.notebook import tqdm\n",
        "from collections import Counter\n",
        "\n",
        "# NLP библиотеки\n",
        "import nltk\n",
        "from nltk.tokenize import word_tokenize\n",
        "from nltk.corpus import stopwords\n",
        "import pymorphy3\n",
        "\n",
        "# ML библиотеки\n",
        "from sklearn.model_selection import train_test_split\n",
        "from sklearn.feature_extraction.text import TfidfVectorizer\n",
        "from sklearn.linear_model import LogisticRegression\n",
        "from sklearn.svm import SVC\n",
        "from sklearn.metrics import accuracy_score, precision_score, recall_score, f1_score\n",
        "from sklearn.metrics import confusion_matrix, classification_report\n",
        "\n",
        "# Word2Vec\n",
        "from gensim.models import Word2Vec\n",
        "from gensim.models import KeyedVectors\n",
        "\n",
        "warnings.filterwarnings('ignore')\n",
        "plt.style.use('seaborn-v0_8-darkgrid')\n",
        "\n",
        "# Создаём папки для результатов\n",
        "os.makedirs('results', exist_ok=True)\n",
        "os.makedirs('models', exist_ok=True)"
      ]
    },
    {
      "cell_type": "code",
      "execution_count": 2,
      "metadata": {},
      "outputs": [],
      "source": [
        "nltk.data.path.append(\"D:/code/nltk_data\")\n"
      ]
    },
    {
      "cell_type": "code",
      "execution_count": 3,
      "metadata": {
        "colab": {
          "base_uri": "https://localhost:8080/"
        },
        "id": "Mv-ajonKO-Kb",
        "outputId": "83e68197-ed72-4f7b-a705-82e5f47bb336"
      },
      "outputs": [
        {
          "name": "stderr",
          "output_type": "stream",
          "text": [
            "[nltk_data] Downloading package punkt to D:/code/nltk_data...\n",
            "[nltk_data]   Package punkt is already up-to-date!\n",
            "[nltk_data] Downloading package stopwords to D:/code/nltk_data...\n",
            "[nltk_data]   Package stopwords is already up-to-date!\n",
            "[nltk_data] Downloading package wordnet to D:/code/nltk_data...\n",
            "[nltk_data]   Package wordnet is already up-to-date!\n"
          ]
        }
      ],
      "source": [
        "# Загрузка необходимых ресурсов NLTK\n",
        "nltk.download(\"punkt\", download_dir=\"D:/code/nltk_data\")\n",
        "nltk.download(\"stopwords\", download_dir=\"D:/code/nltk_data\")\n",
        "nltk.download(\"wordnet\", download_dir=\"D:/code/nltk_data\")\n",
        "\n",
        "# Инициализируем морфологический анализатор для русского\n",
        "morph = pymorphy3.MorphAnalyzer()"
      ]
    },
    {
      "cell_type": "markdown",
      "metadata": {
        "id": "LY0DDtwFO-Kc"
      },
      "source": [
        "-----\n",
        "\n",
        "### **1. Загрузка и первичный анализ данных**\n",
        "\n",
        "Здесь мы загрузим датасет отзывов Кинопоиск. Мы также проведём базовый анализ, чтобы понять структуру данных."
      ]
    },
    {
      "cell_type": "code",
      "execution_count": 4,
      "metadata": {},
      "outputs": [],
      "source": [
        "# Загружаем датасет отзывов Кинопоиска\n",
        "df = pd.read_json(\"hf://datasets/blinoff/kinopoisk/kinopoisk.jsonl\", lines=True)"
      ]
    },
    {
      "cell_type": "code",
      "execution_count": 5,
      "metadata": {},
      "outputs": [
        {
          "data": {
            "text/html": [
              "<div>\n",
              "<style scoped>\n",
              "    .dataframe tbody tr th:only-of-type {\n",
              "        vertical-align: middle;\n",
              "    }\n",
              "\n",
              "    .dataframe tbody tr th {\n",
              "        vertical-align: top;\n",
              "    }\n",
              "\n",
              "    .dataframe thead th {\n",
              "        text-align: right;\n",
              "    }\n",
              "</style>\n",
              "<table border=\"1\" class=\"dataframe\">\n",
              "  <thead>\n",
              "    <tr style=\"text-align: right;\">\n",
              "      <th></th>\n",
              "      <th>part</th>\n",
              "      <th>movie_name</th>\n",
              "      <th>review_id</th>\n",
              "      <th>author</th>\n",
              "      <th>date</th>\n",
              "      <th>title</th>\n",
              "      <th>grade3</th>\n",
              "      <th>grade10</th>\n",
              "      <th>content</th>\n",
              "    </tr>\n",
              "  </thead>\n",
              "  <tbody>\n",
              "    <tr>\n",
              "      <th>0</th>\n",
              "      <td>top250</td>\n",
              "      <td>Блеф (1976)</td>\n",
              "      <td>17144</td>\n",
              "      <td>Come Back</td>\n",
              "      <td>2011-09-24</td>\n",
              "      <td>Плакали наши денежки ©</td>\n",
              "      <td>Good</td>\n",
              "      <td>10.0</td>\n",
              "      <td>\\n\"Блеф» — одна из моих самых любимых комедий....</td>\n",
              "    </tr>\n",
              "  </tbody>\n",
              "</table>\n",
              "</div>"
            ],
            "text/plain": [
              "     part   movie_name  review_id     author       date  \\\n",
              "0  top250  Блеф (1976)      17144  Come Back 2011-09-24   \n",
              "\n",
              "                    title grade3  grade10  \\\n",
              "0  Плакали наши денежки ©   Good     10.0   \n",
              "\n",
              "                                             content  \n",
              "0  \\n\"Блеф» — одна из моих самых любимых комедий....  "
            ]
          },
          "execution_count": 5,
          "metadata": {},
          "output_type": "execute_result"
        }
      ],
      "source": [
        "df.head(1)"
      ]
    },
    {
      "cell_type": "code",
      "execution_count": 6,
      "metadata": {},
      "outputs": [
        {
          "data": {
            "text/plain": [
              "(36591, 9)"
            ]
          },
          "execution_count": 6,
          "metadata": {},
          "output_type": "execute_result"
        }
      ],
      "source": [
        "df.shape"
      ]
    },
    {
      "cell_type": "markdown",
      "metadata": {},
      "source": [
        "В колонке `content` отзывы начинаются с символа `\\n`. Давайте удалим этот служебный символ из начала текста"
      ]
    },
    {
      "cell_type": "code",
      "execution_count": 8,
      "metadata": {},
      "outputs": [],
      "source": [
        "df['content'] = df['content'].apply(lambda x: x[1:])"
      ]
    },
    {
      "cell_type": "markdown",
      "metadata": {},
      "source": [
        "В колонке `grade3` есть метки `\"Good\"`, `\"Bad\"`, `\"Neutral\"`. Для бинарной классификации нейтральные нам не нужны - иначе была бы трёхклассовая классификация, чуть сложнее.\n",
        "\n",
        "Отфильтруем нейтральные отзывы  "
      ]
    },
    {
      "cell_type": "code",
      "execution_count": 9,
      "metadata": {},
      "outputs": [],
      "source": [
        "df = df[df['grade3'] != 'Neutral']  # фильтруем нейтральные отзывы"
      ]
    },
    {
      "cell_type": "markdown",
      "metadata": {},
      "source": [
        "Словесные метки мы переводим в числа:\n",
        "    - `Good` => `1` (позитивчик)\n",
        "    - `Bad` => `0` (негатив)\n",
        "\n",
        "И приводим тип к целочисленному, чтобы колонка была строго формата `int64`"
      ]
    },
    {
      "cell_type": "code",
      "execution_count": null,
      "metadata": {},
      "outputs": [],
      "source": [
        "df['sentiment'] = df['grade3'].apply(\n",
        "    lambda x: 1 if x == 'Good' else (\n",
        "            0 if x == 'Bad' else None\n",
        "        )\n",
        "    )\n",
        "\n",
        "df['sentiment'] = df['sentiment'].astype(int)"
      ]
    },
    {
      "cell_type": "markdown",
      "metadata": {},
      "source": [
        "Переименовываем колонку `content` в `text`, принятое название (в том числе токенайзеры ждут такой аргумент!)"
      ]
    },
    {
      "cell_type": "code",
      "execution_count": 11,
      "metadata": {},
      "outputs": [],
      "source": [
        "df = df.rename(columns={'content': 'text'})"
      ]
    },
    {
      "cell_type": "markdown",
      "metadata": {},
      "source": [
        "Оставляем только нужные колонки. Уберём всё лишнее: `author`, `title`, `date` и остальное. Нам нужны только текст и целевая метка"
      ]
    },
    {
      "cell_type": "code",
      "execution_count": 12,
      "metadata": {},
      "outputs": [],
      "source": [
        "df = df[['text', 'sentiment']]"
      ]
    },
    {
      "cell_type": "code",
      "execution_count": 13,
      "metadata": {},
      "outputs": [
        {
          "name": "stdout",
          "output_type": "stream",
          "text": [
            "Размер датасета: 32015 отзывов\n"
          ]
        }
      ],
      "source": [
        "print(f\"Размер датасета: {len(df)} отзывов\")"
      ]
    },
    {
      "cell_type": "markdown",
      "metadata": {},
      "source": [
        "Считаем количество позитивчиков и негативчиков. Важно для понимания **баланса классов** - если дисбаланс сильный, модель будет смещаться"
      ]
    },
    {
      "cell_type": "code",
      "execution_count": 14,
      "metadata": {},
      "outputs": [
        {
          "name": "stdout",
          "output_type": "stream",
          "text": [
            "Распределение классов:\n",
            "sentiment\n",
            "1    27264\n",
            "0     4751\n",
            "Name: count, dtype: int64\n"
          ]
        }
      ],
      "source": [
        "print(f\"Распределение классов:\")\n",
        "print(df['sentiment'].value_counts())"
      ]
    },
    {
      "cell_type": "markdown",
      "metadata": {},
      "source": [
        "Посмотрим, чего у нас там такого прикольного"
      ]
    },
    {
      "cell_type": "code",
      "execution_count": 14,
      "metadata": {},
      "outputs": [
        {
          "name": "stdout",
          "output_type": "stream",
          "text": [
            "\n",
            "Примеры отзывов:\n",
            "ПОЗИТИВНЫЙ:\n",
            "      Фильм производства России, поэтому многие ожидали худшего. Мне фильм в целом понравился — хорошо подобраны актеры, минимальные эффекты (цветок) — и от этого всё кажется реальным и страшным. И это совсем не «русские Сумерки», потому что розовых соплей здесь совсем нет. Я смотрела с замиранием сердца, в некоторые моменты было жутко. Уж очень долго ждала этот фильм. \n",
            "\n",
            "\n",
            "\n",
            "Что не понравилось:\n",
            "\n",
            "\n",
            "\n",
            "Американизация. Может, в Америке колледжи и собственные дома — это круто, но у нас учиться в колледже и жить в доме деревенского типа совсем не престижно.\n",
            "\n",
            "\n",
            "\n",
            "Излишняя раскрепощенность. Ложиться на четвертый день знакомства в постель — очень странно. А уж идти с незнакомым парнем, который ни сказал ни слова — тем более.\n",
            "\n",
            "\n",
            "\n",
            "Недоговоренность. Причем цветок? Что Всаднику нужно от Полины? Эти и еще многие вопросы остались.\n",
            "\n",
            "\n",
            "\n",
            "Отсутствие динамики или спешка. То слишком долго и нудно разворачиваются действия, то не пойми откуда взялось про книгу и так далее… Странно даже.\n",
            "\n",
            "\n",
            "\n",
            "Ну и личное отношение — сюжет не совсем интересен.\n",
            "\n",
            "\n",
            "\n",
            "Может, это не самый страшный триллер, не самый замысловатый сюжет, не всё понятно — но ощущение реальной опасности, страшной сказки, ощущение того, что это может случиться с каждым — вот это создателям удалось. А если есть недоговоренности — как знать, может, будет новая часть?\n",
            "\n",
            "\n",
            "\n",
            "7 из 10\n",
            "      \n"
          ]
        }
      ],
      "source": [
        "print(f\"\\nПримеры отзывов:\")\n",
        "print(\"ПОЗИТИВНЫЙ:\")\n",
        "print(df[df['sentiment']==1].iloc[-1]['text'])"
      ]
    },
    {
      "cell_type": "code",
      "execution_count": 15,
      "metadata": {},
      "outputs": [
        {
          "name": "stdout",
          "output_type": "stream",
          "text": [
            "НЕГАТИВНЫЙ:\n",
            "      Эх, как я пыталась настроить себя положительно, фильм просто отвратительный… Удалось посмотреть только с третьего раза, больше тридцати минут за раз выдержать я не могла…\n",
            "\n",
            "\n",
            "\n",
            "Давайте по порядку.\n",
            "\n",
            "\n",
            "\n",
            "Наверное, я раньше плохо понимала, что такое русская глубинка, оказывается — это крутые особняки, правда с абсолютно деревенскими заборами, плазменные телевизоры в половину стены, достаточно крутой колледж, так похожий на те, что показывают в американских фильмах. Естественно, в каждой деревне есть крутая библиотека, в которой найдется любая книга. Ах, да, оказывается в русской глубинке не просто знают, но и играют в поло. В общем, странный закос на Америку, только на некоторый декорации денег не хватило… \n",
            "\n",
            "\n",
            "\n",
            "Диалоги — НИ О ЧЁМ! «У меня в голове не укладывается — сон, цветок, книга» — поздравляю девушка, у вас очень низкий уровень интеллекта. Я вообще немного удивилась, что девушка так зациклилась на сне, изначально. Позвонила подруге из колледжа, чтобы рассказать сон, ну что за бред? Видно девушке совсем плохо без парня, вот и мается разгадкой снов. \n",
            "\n",
            "\n",
            "\n",
            "Актеры — отвратительно. Мало того, что у всех отсутствует мимика, и ходят они с деревянными лицами, так еще и лицом не вышли, это я про парней. Один страшнее другого. Честно говоря, была надежда на то, что на плакате они просто неудачно вышли, но видно не вышли совсем. Главная героиня похожа на глуповатую куклу, лишенную эмоций, но видно продюсеру все равно, упоминаю его, ибо кроме как через постель она бы роль не заработала. Единственная стоящая актриса — подруга Настя. Две другие, играющие подруг, как бы помягче… Похоже, что кроме тупых фраз и хихиканья не в тему, они ничего разумного выдать не могут, т. е. я в принципе не понимаю, а зачем они там? \n",
            "\n",
            "\n",
            "\n",
            "Сюжет — не скажу, что высосан из пальца, еще хуже. Сцена перед зеркалом — вообще бред, или сценаристы и режиссер все еще надеются голой грудью привлечь публику? Больше даже сказать нечего, ибо такого бреда я в жизни еще не видела, зачем снимать что-то столь пустое? \n",
            "\n",
            "\n",
            "\n",
            "И как хорошо, что я не пошла на этот фильм в кино и не потратила ни копейки, точно ушла после трети фильма. \n",
            "\n",
            "\n",
            "\n",
            "1 из 10!\n",
            "      \n"
          ]
        }
      ],
      "source": [
        "print(\"НЕГАТИВНЫЙ:\")\n",
        "print(df[df['sentiment']==0].iloc[-1]['text'])"
      ]
    },
    {
      "cell_type": "markdown",
      "metadata": {},
      "source": [
        "Добавим признаки для анализа длины текста:\n",
        "\n",
        "- `text_length` = кол-во символов в отзыве\n",
        "- `word_count` = кол-во слов (мы делим строку по проблемам)\n",
        "\n",
        "Такие признаки помогают понять размерность отзывов: короткие они или длинные"
      ]
    },
    {
      "cell_type": "code",
      "execution_count": 15,
      "metadata": {},
      "outputs": [],
      "source": [
        "# Базовая статистика\n",
        "df['text_length'] = df['text'].apply(len)\n",
        "df['word_count'] = df['text'].apply(lambda x: len(x.split()))"
      ]
    },
    {
      "cell_type": "markdown",
      "metadata": {},
      "source": [
        "Считаем базовую статистику\n",
        "\n",
        "> форматирование `:.1f` выводит число с 1 знаком после запятой - прикольное округление"
      ]
    },
    {
      "cell_type": "code",
      "execution_count": 16,
      "metadata": {},
      "outputs": [
        {
          "name": "stdout",
          "output_type": "stream",
          "text": [
            "\n",
            "Статистика длины текстов:\n",
            "Средняя длина в символах: 1978.3\n",
            "Среднее количество слов: 299.2\n"
          ]
        }
      ],
      "source": [
        "print(f\"\\nСтатистика длины текстов:\")\n",
        "print(f\"Средняя длина в символах: {df['text_length'].mean():.1f}\")\n",
        "print(f\"Среднее количество слов: {df['word_count'].mean():.1f}\")"
      ]
    },
    {
      "cell_type": "markdown",
      "metadata": {},
      "source": [
        "Подготовим гистограммку распределения длины отзывов по кол-ву слов.\n",
        "\n",
        "Зелёная будет с позитивными отзывами, красная - с негативными. Так мы можем сранвить, длиннее ли позитивные тексты или наоборот\n",
        "\n",
        "Также посмотрим на графике, сколько отзывов каждого класса. Сильный дисбаланс испортит наше обучение! "
      ]
    },
    {
      "cell_type": "code",
      "execution_count": 17,
      "metadata": {
        "colab": {
          "base_uri": "https://localhost:8080/",
          "height": 1584
        },
        "id": "PMfprOLEO-Kc",
        "outputId": "0c0fbc4d-181c-41f1-9fd8-0231db5d3251"
      },
      "outputs": [
        {
          "data": {
            "image/png": "[encoded data removed]",
            "text/plain": [
              "<Figure size 1200x400 with 2 Axes>"
            ]
          },
          "metadata": {},
          "output_type": "display_data"
        }
      ],
      "source": [
        "# Визуализация распределения длин и баланса классов\n",
        "fig, axes = plt.subplots(1, 2, figsize=(12, 4))\n",
        "\n",
        "axes[0].hist(df[df['sentiment']==1]['word_count'], alpha=0.7, label='Позитивные', color='green')\n",
        "axes[0].hist(df[df['sentiment']==0]['word_count'], alpha=0.7, label='Негативные', color='red')\n",
        "axes[0].set_xlabel('Количество слов')\n",
        "axes[0].set_ylabel('Частота')\n",
        "axes[0].set_title('Распределение длины отзывов')\n",
        "axes[0].legend()\n",
        "\n",
        "axes[1].bar(['Позитивные', 'Негативные'], df['sentiment'].value_counts().values,\n",
        "            color=['green', 'red'], alpha=0.7)\n",
        "axes[1].set_ylabel('Количество')\n",
        "axes[1].set_title('Баланс классов')\n",
        "\n",
        "plt.tight_layout()\n",
        "plt.show()"
      ]
    },
    {
      "cell_type": "markdown",
      "metadata": {},
      "source": [
        "Посчитаем % позитивчика"
      ]
    },
    {
      "cell_type": "code",
      "execution_count": 18,
      "metadata": {
        "colab": {
          "base_uri": "https://localhost:8080/"
        },
        "id": "4hI5rYB9XJbd",
        "outputId": "65e1d862-484c-4170-8303-f94662a01a44"
      },
      "outputs": [
        {
          "name": "stdout",
          "output_type": "stream",
          "text": [
            "85.2% положительных отзывов\n"
          ]
        }
      ],
      "source": [
        "print(f\"{round(len(df[df['sentiment'] == 1]) / len(df) * 100, 1)}% положительных отзывов\")"
      ]
    },
    {
      "cell_type": "markdown",
      "metadata": {
        "id": "6rA5jokrO-Kc"
      },
      "source": [
        "-----\n",
        "\n",
        "### **2. Предобработка текста**\n",
        "\n",
        "Качество модели напрямую зависит от качества данных. Здесь мы напишем функцию для **очистки текста**, включая:\n",
        "\n",
        "  * Приведение к нижнему регистру\n",
        "  * Удаление спецсимволов и URL\n",
        "  * **Токенизацию**\n",
        "  * Удаление **стоп-слов** (служебных частей речи)\n",
        "  * **Лемматизацию** (приведение слова к его начальной форме)\n",
        "\n",
        "<!-- end list -->"
      ]
    },
    {
      "cell_type": "markdown",
      "metadata": {},
      "source": [
        "Загружаем список стоп-слов - частых и бессмысленных слов"
      ]
    },
    {
      "cell_type": "code",
      "execution_count": 19,
      "metadata": {},
      "outputs": [
        {
          "name": "stdout",
          "output_type": "stream",
          "text": [
            "Примеры стоп-слов: ['не', 'был', 'всю', 'до', 'на', 'после', 'тот', 'ли', 'опять', 'наконец']\n"
          ]
        }
      ],
      "source": [
        "# Загружаем стоп-слова для русского языка\n",
        "stop_words_ru = set(stopwords.words('russian'))\n",
        "print(f\"Примеры стоп-слов: {list(stop_words_ru)[:10]}\")"
      ]
    },
    {
      "cell_type": "markdown",
      "metadata": {},
      "source": [
        "Создадим функцию `preprocess_text` - так, чтобы можно было включать и выключать лемматизацию и удаление стоп-слов"
      ]
    },
    {
      "cell_type": "code",
      "execution_count": 20,
      "metadata": {},
      "outputs": [],
      "source": [
        "def preprocess_text(text, use_lemmatization=True, remove_stopwords=True):\n",
        "    \"\"\"\n",
        "    Полный пайплайн предобработки текста.\n",
        "    \"\"\"\n",
        "\n",
        "    text = text.lower()\n",
        "\n",
        "    # 2. Удаление HTML тегов и спецсимволов\n",
        "    text = re.sub(r'<.*?>', ' ', text)          # HTML теги\n",
        "    text = re.sub(r'http\\S+', ' ', text)        # URLs\n",
        "    text = re.sub(r'[^а-яёa-z\\s]', ' ', text)   # Оставляем только буквы\n",
        "    text = re.sub(r'\\s+', ' ', text)            # Множественные пробелы\n",
        "\n",
        "    # 3. Токенизация по словам\n",
        "    tokens = text.split()\n",
        "\n",
        "    # 4. Удаление стоп-слов\n",
        "    if remove_stopwords:\n",
        "        tokens = [token for token in tokens if token not in stop_words_ru]\n",
        "\n",
        "    # 5. Лемматизация\n",
        "    if use_lemmatization:\n",
        "        tokens = [morph.parse(token)[0].normal_form for token in tokens]\n",
        "\n",
        "    # 6. Фильтрация коротких токенов\n",
        "    tokens = [token for token in tokens if len(token) > 2]\n",
        "\n",
        "    return ' '.join(tokens)"
      ]
    },
    {
      "cell_type": "code",
      "execution_count": 22,
      "metadata": {},
      "outputs": [
        {
          "name": "stdout",
          "output_type": "stream",
          "text": [
            "Примеры предобработки:\n",
            "\n",
            "Исходный текст:\n",
            "Отличный фильм! Всем рекомендую посмотреть. Актерская игра была просто на высоте.\n",
            "\n",
            "Без лемматизации, со стоп-словами:\n",
            "отличный фильм всем рекомендую посмотреть актерская игра была просто высоте\n",
            "\n",
            "Без лемматизации, без стоп-слов:\n",
            "отличный фильм всем рекомендую посмотреть актерская игра просто высоте\n",
            "\n",
            "С лемматизацией, без стоп-слов:\n",
            "отличный фильм весь рекомендовать посмотреть актёрский игра просто высота\n"
          ]
        }
      ],
      "source": [
        "# Примеры предобработки\n",
        "print(\"Примеры предобработки:\")\n",
        "sample_text = \"Отличный фильм! Всем рекомендую посмотреть. Актерская игра была просто на высоте.\"\n",
        "\n",
        "print(f\"\\nИсходный текст:\\n{sample_text}\")\n",
        "print(f\"\\nБез лемматизации, со стоп-словами:\\n{preprocess_text(sample_text, False, False)}\")\n",
        "print(f\"\\nБез лемматизации, без стоп-слов:\\n{preprocess_text(sample_text, False, True)}\")\n",
        "print(f\"\\nС лемматизацией, без стоп-слов:\\n{preprocess_text(sample_text, True, True)}\")"
      ]
    },
    {
      "cell_type": "code",
      "execution_count": 23,
      "metadata": {
        "colab": {
          "base_uri": "https://localhost:8080/",
          "height": 639,
          "referenced_widgets": [
            "0013454d2232429987711386e4d25d5d",
            "9c6fa4332ad04c5389e5fbf77bec0510",
            "95b105b331134b3abd83a3adce99724a",
            "2f6415d92518482a89f65c17341f0f24",
            "7d7cdc9a3f05440db29809329b870044",
            "483009153de7438c813d25cffa094729",
            "b18531b88b434d569397e185d7b69909",
            "fad6b4968e3447929fff226f506588b8",
            "3271dd8ca26d470ca423db4da2357eb4",
            "531a8585a93d4204b6d7aa0231cdd7c7",
            "d92becfae8ed431e816f51f756ff8944"
          ]
        },
        "id": "h-XXlVztO-Kc",
        "outputId": "7e39d1be-078f-4847-8721-074a8977def5"
      },
      "outputs": [
        {
          "name": "stdout",
          "output_type": "stream",
          "text": [
            "\n",
            " Обрабатываем датасет...\n"
          ]
        },
        {
          "data": {
            "application/vnd.jupyter.widget-view+json": {
              "model_id": "f48566a78f9b4718919eaba36898eaa9",
              "version_major": 2,
              "version_minor": 0
            },
            "text/plain": [
              "  0%|          | 0/32015 [00:00<?, ?it/s]"
            ]
          },
          "metadata": {},
          "output_type": "display_data"
        }
      ],
      "source": [
        "print(\"\\n Обрабатываем датасет...\")\n",
        "# удобно отслеживаем работу apply\n",
        "tqdm.pandas()\n",
        "df['processed_text'] = df['text'].progress_apply(\n",
        "    lambda x: preprocess_text(x, use_lemmatization=True, remove_stopwords=True)\n",
        ")"
      ]
    },
    {
      "cell_type": "code",
      "execution_count": 24,
      "metadata": {},
      "outputs": [
        {
          "data": {
            "text/html": [
              "<div>\n",
              "<style scoped>\n",
              "    .dataframe tbody tr th:only-of-type {\n",
              "        vertical-align: middle;\n",
              "    }\n",
              "\n",
              "    .dataframe tbody tr th {\n",
              "        vertical-align: top;\n",
              "    }\n",
              "\n",
              "    .dataframe thead th {\n",
              "        text-align: right;\n",
              "    }\n",
              "</style>\n",
              "<table border=\"1\" class=\"dataframe\">\n",
              "  <thead>\n",
              "    <tr style=\"text-align: right;\">\n",
              "      <th></th>\n",
              "      <th>text</th>\n",
              "      <th>sentiment</th>\n",
              "      <th>text_length</th>\n",
              "      <th>word_count</th>\n",
              "      <th>processed_text</th>\n",
              "    </tr>\n",
              "  </thead>\n",
              "  <tbody>\n",
              "    <tr>\n",
              "      <th>0</th>\n",
              "      <td>\"Блеф» — одна из моих самых любимых комедий.\\n...</td>\n",
              "      <td>1</td>\n",
              "      <td>2336</td>\n",
              "      <td>370</td>\n",
              "      <td>блеф один мой самый любимый комедия фильм наве...</td>\n",
              "    </tr>\n",
              "    <tr>\n",
              "      <th>1</th>\n",
              "      <td>Адриано Челентано продолжает радовать нас свои...</td>\n",
              "      <td>1</td>\n",
              "      <td>1088</td>\n",
              "      <td>149</td>\n",
              "      <td>адриано челентано продолжать радовать свой раб...</td>\n",
              "    </tr>\n",
              "    <tr>\n",
              "      <th>2</th>\n",
              "      <td>Несомненно, это один из великих фильмов 80-х г...</td>\n",
              "      <td>1</td>\n",
              "      <td>364</td>\n",
              "      <td>59</td>\n",
              "      <td>несомненно это великий фильм год исключительны...</td>\n",
              "    </tr>\n",
              "    <tr>\n",
              "      <th>3</th>\n",
              "      <td>Эта фраза на мой взгляд отражает сюжет несомне...</td>\n",
              "      <td>1</td>\n",
              "      <td>1151</td>\n",
              "      <td>174</td>\n",
              "      <td>этот фраза взгляд отражать сюжет несомненно пр...</td>\n",
              "    </tr>\n",
              "    <tr>\n",
              "      <th>5</th>\n",
              "      <td>Бесспорный классический шедевр, который и чере...</td>\n",
              "      <td>1</td>\n",
              "      <td>121</td>\n",
              "      <td>20</td>\n",
              "      <td>бесспорный классический шедевр который год смо...</td>\n",
              "    </tr>\n",
              "  </tbody>\n",
              "</table>\n",
              "</div>"
            ],
            "text/plain": [
              "                                                text  sentiment  text_length  \\\n",
              "0  \"Блеф» — одна из моих самых любимых комедий.\\n...          1         2336   \n",
              "1  Адриано Челентано продолжает радовать нас свои...          1         1088   \n",
              "2  Несомненно, это один из великих фильмов 80-х г...          1          364   \n",
              "3  Эта фраза на мой взгляд отражает сюжет несомне...          1         1151   \n",
              "5  Бесспорный классический шедевр, который и чере...          1          121   \n",
              "\n",
              "   word_count                                     processed_text  \n",
              "0         370  блеф один мой самый любимый комедия фильм наве...  \n",
              "1         149  адриано челентано продолжать радовать свой раб...  \n",
              "2          59  несомненно это великий фильм год исключительны...  \n",
              "3         174  этот фраза взгляд отражать сюжет несомненно пр...  \n",
              "5          20  бесспорный классический шедевр который год смо...  "
            ]
          },
          "execution_count": 24,
          "metadata": {},
          "output_type": "execute_result"
        }
      ],
      "source": [
        "df.head(5)"
      ]
    },
    {
      "cell_type": "code",
      "execution_count": 25,
      "metadata": {},
      "outputs": [],
      "source": [
        "df.to_csv('df_15_09_25.csv', sep=';', encoding='utf-8', index=False)"
      ]
    },
    {
      "cell_type": "code",
      "execution_count": 3,
      "metadata": {},
      "outputs": [],
      "source": [
        "df = pd.read_csv('df_15_09_25.csv', sep=';', encoding='utf-8')"
      ]
    },
    {
      "cell_type": "code",
      "execution_count": 5,
      "metadata": {},
      "outputs": [
        {
          "data": {
            "text/plain": [
              "(32015, 5)"
            ]
          },
          "execution_count": 5,
          "metadata": {},
          "output_type": "execute_result"
        }
      ],
      "source": [
        "df.shape"
      ]
    },
    {
      "cell_type": "code",
      "execution_count": 6,
      "metadata": {},
      "outputs": [
        {
          "data": {
            "text/html": [
              "<div>\n",
              "<style scoped>\n",
              "    .dataframe tbody tr th:only-of-type {\n",
              "        vertical-align: middle;\n",
              "    }\n",
              "\n",
              "    .dataframe tbody tr th {\n",
              "        vertical-align: top;\n",
              "    }\n",
              "\n",
              "    .dataframe thead th {\n",
              "        text-align: right;\n",
              "    }\n",
              "</style>\n",
              "<table border=\"1\" class=\"dataframe\">\n",
              "  <thead>\n",
              "    <tr style=\"text-align: right;\">\n",
              "      <th></th>\n",
              "      <th>text</th>\n",
              "      <th>sentiment</th>\n",
              "      <th>text_length</th>\n",
              "      <th>word_count</th>\n",
              "      <th>processed_text</th>\n",
              "    </tr>\n",
              "  </thead>\n",
              "  <tbody>\n",
              "    <tr>\n",
              "      <th>0</th>\n",
              "      <td>\"Блеф» — одна из моих самых любимых комедий.\\n...</td>\n",
              "      <td>1</td>\n",
              "      <td>2336</td>\n",
              "      <td>370</td>\n",
              "      <td>блеф один мой самый любимый комедия фильм наве...</td>\n",
              "    </tr>\n",
              "  </tbody>\n",
              "</table>\n",
              "</div>"
            ],
            "text/plain": [
              "                                                text  sentiment  text_length  \\\n",
              "0  \"Блеф» — одна из моих самых любимых комедий.\\n...          1         2336   \n",
              "\n",
              "   word_count                                     processed_text  \n",
              "0         370  блеф один мой самый любимый комедия фильм наве...  "
            ]
          },
          "execution_count": 6,
          "metadata": {},
          "output_type": "execute_result"
        }
      ],
      "source": [
        "df.head(1)"
      ]
    },
    {
      "cell_type": "code",
      "execution_count": 7,
      "metadata": {},
      "outputs": [
        {
          "name": "stdout",
          "output_type": "stream",
          "text": [
            "\n",
            " Топ-15 самых частых слов после обработки:\n",
            "фильм           : 158348 раз\n",
            "это             : 92666 раз\n",
            "который         : 75779 раз\n",
            "свой            : 50500 раз\n",
            "человек         : 46288 раз\n",
            "очень           : 38040 раз\n",
            "такой           : 32803 раз\n",
            "жизнь           : 31061 раз\n",
            "просто          : 30799 раз\n",
            "герой           : 27476 раз\n",
            "хороший         : 27403 раз\n",
            "один            : 24787 раз\n",
            "актёр           : 24766 раз\n",
            "весь            : 23658 раз\n",
            "самый           : 22851 раз\n"
          ]
        }
      ],
      "source": [
        "# Анализ частотности слов после обработки\n",
        "all_words = ' '.join(df['processed_text']).split()\n",
        "word_freq = Counter(all_words)\n",
        "\n",
        "print(f\"\\n Топ-15 самых частых слов после обработки:\")\n",
        "for word, freq in word_freq.most_common(15):\n",
        "    print(f\"{word:15} : {freq:4} раз\")"
      ]
    },
    {
      "cell_type": "code",
      "execution_count": 13,
      "metadata": {
        "colab": {
          "base_uri": "https://localhost:8080/",
          "height": 49,
          "referenced_widgets": [
            "dfc6d6d0280c4ae7b43058d0a4db85e6",
            "7e517f4d365340f48a198134d430157c",
            "0f24ac166cfc436a9c815dbedda77df4",
            "0c0080c3a6c149e3ba9f463c42ff44a7",
            "9e609362ae52415cac5a84fc464d7817",
            "e9b92a5323d041958695e6b5c0fbcb8a",
            "49aa4b872cf442c682bcdaa9e6713618",
            "4eff43817f714f449ba6697ff6c373d6",
            "473d4e41c013476d93b38f9f34f8cbba",
            "a1e76c7c472a4b7fb370ad3672da8f31",
            "3281bef880ee481888ec8e74efe3ec7d"
          ]
        },
        "id": "iNV1fX-qtlzU",
        "outputId": "bc352d6e-a3df-4f2b-ea97-998a97a3129b"
      },
      "outputs": [
        {
          "data": {
            "application/vnd.jupyter.widget-view+json": {
              "model_id": "2e3e77228c3d4501a51c4f54cec5b2c2",
              "version_major": 2,
              "version_minor": 0
            },
            "text/plain": [
              "  0%|          | 0/32015 [00:00<?, ?it/s]"
            ]
          },
          "metadata": {},
          "output_type": "display_data"
        }
      ],
      "source": [
        "# Отдельно взглянем на эмпирическом подходе\n",
        "# tqdm.pandas()\n",
        "df['lower_text'] = df['text'].progress_apply(\n",
        "    lambda x: preprocess_text(x, use_lemmatization=False, remove_stopwords=False)\n",
        ")"
      ]
    },
    {
      "cell_type": "code",
      "execution_count": 14,
      "metadata": {},
      "outputs": [],
      "source": [
        "from wordcloud import WordCloud"
      ]
    },
    {
      "cell_type": "code",
      "execution_count": 15,
      "metadata": {},
      "outputs": [],
      "source": [
        "# Частотный анализ слов\n",
        "all_words = ' '.join(df['processed_text']).split()\n",
        "word_freq = Counter(all_words)\n",
        "vocab_size = len(word_freq)"
      ]
    },
    {
      "cell_type": "code",
      "execution_count": 16,
      "metadata": {},
      "outputs": [
        {
          "name": "stdout",
          "output_type": "stream",
          "text": [
            "\n",
            "Размер словаря после обработки: 82469 уникальных слов\n",
            "Топ-20 самых частых слов:\n",
            "   фильм           : 158348 раз\n",
            "   это             : 92666 раз\n",
            "   который         : 75779 раз\n",
            "   свой            : 50500 раз\n",
            "   человек         : 46288 раз\n",
            "   очень           : 38040 раз\n",
            "   такой           : 32803 раз\n",
            "   жизнь           : 31061 раз\n",
            "   просто          : 30799 раз\n",
            "   герой           : 27476 раз\n",
            "   хороший         : 27403 раз\n",
            "   один            : 24787 раз\n",
            "   актёр           : 24766 раз\n",
            "   весь            : 23658 раз\n",
            "   самый           : 22851 раз\n",
            "   время           : 22646 раз\n",
            "   смотреть        : 22038 раз\n",
            "   сам             : 21332 раз\n",
            "   каждый          : 21329 раз\n",
            "   первый          : 20095 раз\n"
          ]
        }
      ],
      "source": [
        "print(f\"\\nРазмер словаря после обработки: {vocab_size} уникальных слов\")\n",
        "print(f\"Топ-20 самых частых слов:\")\n",
        "for word, freq in word_freq.most_common(20):\n",
        "    print(f\"   {word:15} : {freq:5} раз\")"
      ]
    },
    {
      "cell_type": "code",
      "execution_count": 17,
      "metadata": {
        "colab": {
          "base_uri": "https://localhost:8080/",
          "height": 800
        },
        "id": "Zp0Omit8q9i0",
        "outputId": "e15875e7-db3b-4f12-99be-d94f60848c97"
      },
      "outputs": [
        {
          "data": {
            "image/png": "[encoded data removed]",
            "text/plain": [
              "<Figure size 1500x600 with 2 Axes>"
            ]
          },
          "metadata": {},
          "output_type": "display_data"
        }
      ],
      "source": [
        "# WordCloud для позитивных и негативных отзывов\n",
        "fig, axes = plt.subplots(1, 2, figsize=(15, 6))\n",
        "\n",
        "# Позитивные\n",
        "positive_text = ' '.join(df[df['sentiment']==1]['processed_text'])\n",
        "wordcloud_pos = WordCloud(width=800, height=400, background_color='white',\n",
        "                          colormap='Greens', max_words=100).generate(positive_text)\n",
        "axes[0].imshow(wordcloud_pos, interpolation='bilinear')\n",
        "axes[0].set_title('WordCloud: Позитивные отзывы')\n",
        "axes[0].axis('off')\n",
        "\n",
        "# Негативные\n",
        "negative_text = ' '.join(df[df['sentiment']==0]['processed_text'])\n",
        "wordcloud_neg = WordCloud(width=800, height=400, background_color='white',\n",
        "                          colormap='Reds', max_words=100).generate(negative_text)\n",
        "axes[1].imshow(wordcloud_neg, interpolation='bilinear')\n",
        "axes[1].set_title('WordCloud: Негативные отзывы')\n",
        "axes[1].axis('off')\n",
        "\n",
        "plt.tight_layout()\n",
        "plt.show()"
      ]
    },
    {
      "cell_type": "markdown",
      "metadata": {
        "id": "AWOYdWWYO-Kd"
      },
      "source": [
        "-----\n",
        "\n",
        "### **2.5 Baseline - на основе правила**\n",
        "\n",
        "Взглянем на наш датасет и попробуем сделать простое правило для классификации"
      ]
    },
    {
      "cell_type": "code",
      "execution_count": 18,
      "metadata": {
        "colab": {
          "base_uri": "https://localhost:8080/"
        },
        "id": "Ipo3pVSRO-Kd",
        "outputId": "062a2680-1873-4e55-f367-1493d84127f5"
      },
      "outputs": [],
      "source": [
        "# Разделяем данные на train/test\n",
        "X = df['processed_text']\n",
        "y = df['sentiment']"
      ]
    },
    {
      "cell_type": "code",
      "execution_count": 19,
      "metadata": {},
      "outputs": [],
      "source": [
        "X_train, X_test, y_train, y_test = train_test_split(\n",
        "    X, y, test_size=0.2, random_state=42, stratify=y\n",
        ")"
      ]
    },
    {
      "cell_type": "code",
      "execution_count": 20,
      "metadata": {},
      "outputs": [
        {
          "name": "stdout",
          "output_type": "stream",
          "text": [
            " Размеры выборок:\n",
            "Train: 25612 примеров\n",
            "Test: 6403 примеров\n"
          ]
        }
      ],
      "source": [
        "print(f\" Размеры выборок:\")\n",
        "print(f\"Train: {len(X_train)} примеров\")\n",
        "print(f\"Test: {len(X_test)} примеров\")"
      ]
    },
    {
      "cell_type": "code",
      "execution_count": 21,
      "metadata": {
        "colab": {
          "base_uri": "https://localhost:8080/"
        },
        "id": "LNYeTfLAy_B0",
        "outputId": "8d523b49-f149-4174-cae5-b4b2935974e5"
      },
      "outputs": [
        {
          "name": "stdout",
          "output_type": "stream",
          "text": [
            "25612\n"
          ]
        }
      ],
      "source": [
        "df_base = pd.concat([X_train, y_train], axis=1)\n",
        "print(len(df_base))"
      ]
    },
    {
      "cell_type": "code",
      "execution_count": 22,
      "metadata": {},
      "outputs": [],
      "source": [
        "positive_text = ' '.join(df_base[df_base['sentiment']==1]['processed_text'])\n",
        "negative_text = ' '.join(df_base[df_base['sentiment']==0]['processed_text'])"
      ]
    },
    {
      "cell_type": "code",
      "execution_count": 23,
      "metadata": {},
      "outputs": [],
      "source": [
        "word_freq_p = Counter(positive_text.split())\n",
        "word_freq_n = Counter(negative_text.split())"
      ]
    },
    {
      "cell_type": "code",
      "execution_count": 24,
      "metadata": {},
      "outputs": [],
      "source": [
        "# Получаем множества ключей\n",
        "positive_keys = set(word_freq_p.keys())\n",
        "negative_keys = set(word_freq_n.keys())"
      ]
    },
    {
      "cell_type": "code",
      "execution_count": 25,
      "metadata": {},
      "outputs": [],
      "source": [
        "# Находим уникальные слова для каждого словаря\n",
        "unique_positive = positive_keys - negative_keys  # Слова ТОЛЬКО в позитивных\n",
        "unique_negative = negative_keys - positive_keys  # Слова ТОЛЬКО в негативных"
      ]
    },
    {
      "cell_type": "code",
      "execution_count": 26,
      "metadata": {},
      "outputs": [],
      "source": [
        "# Фильтруем словари, оставляя только уникальные слова\n",
        "word_freq_p = Counter({word: word_freq_p[word] for word in unique_positive})\n",
        "word_freq_n = Counter({word: word_freq_n[word] for word in unique_negative})"
      ]
    },
    {
      "cell_type": "code",
      "execution_count": null,
      "metadata": {},
      "outputs": [
        {
          "name": "stdout",
          "output_type": "stream",
          "text": [
            "Топ-20 уникальных частых слов позитивных отзывов:\n",
            "   нэш             :   272 раз\n",
            "   прота           :   179 раз\n",
            "   балтый          :   158 раз\n",
            "   рудить          :   154 раз\n",
            "   леонард         :   146 раз\n",
            "   тихиро          :   133 раз\n",
            "   борден          :   131 раз\n",
            "   аладдин         :   130 раз\n",
            "   брэддок         :   117 раз\n",
            "   кларисса        :   116 раз\n",
            "   белля           :   113 раз\n",
            "   ферлонг         :   112 раз\n",
            "   макфлай         :   109 раз\n",
            "   симб            :   107 раз\n",
            "   уокен           :    99 раз\n",
            "   сжиматься       :    95 раз\n",
            "   кертис          :    94 раз\n",
            "   райдер          :    92 раз\n",
            "   wall            :    91 раз\n",
            "   джонатан        :    85 раз\n"
          ]
        }
      ],
      "source": [
        "print(f\"Топ-20 уникальных частых слов позитивных отзывов:\")\n",
        "\n",
        "vocab_size = len(word_freq_p)\n",
        "for word, freq in word_freq_p.most_common(20):\n",
        "    print(f\"   {word:15} : {freq:5} раз\")"
      ]
    },
    {
      "cell_type": "code",
      "execution_count": 28,
      "metadata": {},
      "outputs": [
        {
          "name": "stdout",
          "output_type": "stream",
          "text": [
            "Топ-20 уникальных частых слов негативных отзывов:\n",
            "   кукарача        :    34 раз\n",
            "   булдаков        :    15 раз\n",
            "   сукаченко       :    15 раз\n",
            "   дзенга          :    14 раз\n",
            "   бомбоубежище    :    14 раз\n",
            "   никакущий       :    14 раз\n",
            "   саакашвили      :    13 раз\n",
            "   портос          :    12 раз\n",
            "   крапивенец      :    11 раз\n",
            "   стояновый       :    10 раз\n",
            "   добролюбов      :    10 раз\n",
            "   аддикция        :    10 раз\n",
            "   кристовский     :     9 раз\n",
            "   испохабить      :     9 раз\n",
            "   маразматичный   :     9 раз\n",
            "   мачете          :     8 раз\n",
            "   надёргать       :     8 раз\n",
            "   бардуков        :     8 раз\n",
            "   вейнберг        :     8 раз\n",
            "   маразматический :     8 раз\n"
          ]
        }
      ],
      "source": [
        "print(f\"Топ-20 уникальных частых слов негативных отзывов:\")\n",
        "\n",
        "vocab_size = len(word_freq_n)\n",
        "for word, freq in word_freq_n.most_common(20):\n",
        "    print(f\"   {word:15} : {freq:5} раз\")"
      ]
    },
    {
      "cell_type": "code",
      "execution_count": 29,
      "metadata": {
        "colab": {
          "base_uri": "https://localhost:8080/"
        },
        "id": "TlNJKKPe4eGz",
        "outputId": "5bca49c6-5550-4825-9497-faece90dc0c6"
      },
      "outputs": [
        {
          "name": "stdout",
          "output_type": "stream",
          "text": [
            "   время           :  2269 раз\n",
            "   вообще          :  2240 раз\n",
            "   игра            :  2202 раз\n",
            "   мочь            :  2095 раз\n",
            "   тот             :  2032 раз\n",
            "   всё             :  2030 раз\n",
            "   режиссёр        :  2003 раз\n",
            "   какой           :  1946 раз\n",
            "   говорить        :  1943 раз\n",
            "   хотя            :  1855 раз\n",
            "   картина         :  1832 раз\n",
            "   наш             :  1821 раз\n",
            "   главный         :  1810 раз\n",
            "   зритель         :  1738 раз\n",
            "   просмотр        :  1697 раз\n",
            "   посмотреть      :  1687 раз\n",
            "   плохой          :  1612 раз\n",
            "   знать           :  1609 раз\n",
            "   сцена           :  1592 раз\n",
            "   год             :  1589 раз\n",
            "   роль            :  1528 раз\n",
            "   сделать         :  1496 раз\n",
            "   хотеть          :  1479 раз\n",
            "   этот            :  1471 раз\n",
            "   часть           :  1468 раз\n",
            "   конец           :  1460 раз\n",
            "   быть            :  1423 раз\n",
            "   стать           :  1397 раз\n",
            "   другой          :  1396 раз\n",
            "   мой             :  1369 раз\n",
            "   персонаж        :  1341 раз\n",
            "   видеть          :  1335 раз\n",
            "   слово           :  1325 раз\n",
            "   жизнь           :  1292 раз\n",
            "   момент          :  1276 раз\n",
            "   получиться      :  1234 раз\n",
            "   почему          :  1232 раз\n",
            "   должный         :  1201 раз\n",
            "   играть          :  1199 раз\n",
            "   лишь            :  1199 раз\n",
            "   общий           :  1194 раз\n",
            "   понравиться     :  1164 раз\n",
            "   понять          :  1159 раз\n",
            "   хотеться        :  1152 раз\n",
            "   сценарий        :  1150 раз\n",
            "   делать          :  1143 раз\n",
            "   история         :  1140 раз\n",
            "   ребёнок         :  1136 раз\n",
            "   ещё             :  1136 раз\n",
            "   снимать         :  1132 раз\n",
            "   думать          :  1122 раз\n",
            "   увидеть         :  1122 раз\n",
            "   дело            :  1120 раз\n",
            "   никакой         :  1116 раз\n",
            "   шутка           :  1093 раз\n",
            "   второй          :  1089 раз\n",
            "   идея            :  1086 раз\n",
            "   место           :  1053 раз\n",
            "   начало          :  1049 раз\n",
            "   русский         :  1026 раз\n"
          ]
        }
      ],
      "source": [
        "negative_text = ' '.join(df_base[df_base['sentiment']==0]['processed_text'])\n",
        "word_freq_n = Counter(negative_text.split())\n",
        "vocab_size = len(word_freq_n)\n",
        "for word, freq in word_freq_n.most_common(80)[20:]:\n",
        "    print(f\"   {word:15} : {freq:5} раз\")"
      ]
    },
    {
      "cell_type": "code",
      "execution_count": 30,
      "metadata": {
        "id": "TuNdFWkQ5OxE"
      },
      "outputs": [],
      "source": [
        "pred_base = pd.concat([X_test, y_test], axis=1)\n",
        "pred_base['words'] = pred_base['processed_text'].apply(lambda x: x.split())\n",
        "pred_base['pred'] = pred_base['words'].apply(lambda x: 0 if 'плохой' in x or 'никакой' in x else 1)\n",
        "y_pred_base = pred_base['pred']"
      ]
    },
    {
      "cell_type": "code",
      "execution_count": 31,
      "metadata": {
        "colab": {
          "base_uri": "https://localhost:8080/",
          "height": 508
        },
        "id": "_g-YVT8m62lC",
        "outputId": "532ce7a5-3a14-4ac1-9282-8e83d5ca283e"
      },
      "outputs": [
        {
          "name": "stdout",
          "output_type": "stream",
          "text": [
            "Результаты базового подхода:\n",
            "Accuracy:  0.747\n",
            "Precision: 0.892\n",
            "Recall:    0.799\n",
            "F1-score:  0.843\n"
          ]
        }
      ],
      "source": [
        "# Метрики\n",
        "accuracy_base = accuracy_score(y_test, y_pred_base)\n",
        "precision_base = precision_score(y_test, y_pred_base)\n",
        "recall_base = recall_score(y_test, y_pred_base)\n",
        "f1_base = f1_score(y_test, y_pred_base)\n",
        "\n",
        "print(f\"Результаты базового подхода:\")\n",
        "print(f\"Accuracy:  {accuracy_base:.3f}\")\n",
        "print(f\"Precision: {precision_base:.3f}\")\n",
        "print(f\"Recall:    {recall_base:.3f}\")\n",
        "print(f\"F1-score:  {f1_base:.3f}\")"
      ]
    },
    {
      "cell_type": "code",
      "execution_count": 32,
      "metadata": {},
      "outputs": [
        {
          "name": "stdout",
          "output_type": "stream",
          "text": [
            "Точность на негативных отзывах:  0.444\n"
          ]
        },
        {
          "data": {
            "image/png": "[encoded data removed]",
            "text/plain": [
              "<Figure size 600x400 with 2 Axes>"
            ]
          },
          "metadata": {},
          "output_type": "display_data"
        }
      ],
      "source": [
        "# Confusion Matrix\n",
        "cm_base = confusion_matrix(y_test, y_pred_base)\n",
        "\n",
        "print(f\"Точность на негативных отзывах:  {cm_base[0,0] / (cm_base[0,1] + cm_base[0,0]):.3f}\")\n",
        "\n",
        "plt.figure(figsize=(6, 4))\n",
        "sns.heatmap(cm_base, annot=True, fmt='d', cmap='Blues',\n",
        "            xticklabels=['Негативный', 'Позитивный'],\n",
        "            yticklabels=['Негативный', 'Позитивный'])\n",
        "plt.title('Confusion Matrix:  базового подхода')\n",
        "plt.ylabel('Истинные метки')\n",
        "plt.xlabel('Предсказанные метки')\n",
        "plt.show()"
      ]
    },
    {
      "cell_type": "markdown",
      "metadata": {
        "id": "FKgFETmw5hWj"
      },
      "source": [
        "-----\n",
        "\n",
        "### **3. TF-IDF + LogisticRegression**\n",
        "\n",
        "**TF-IDF** — это классический метод векторизации текста, который отражает важность слова для документа в контексте всего корпуса. Мы используем его, чтобы создать наш первый, **базовый классификатор**, и оценить его производительность."
      ]
    },
    {
      "cell_type": "code",
      "execution_count": 33,
      "metadata": {},
      "outputs": [
        {
          "name": "stdout",
          "output_type": "stream",
          "text": [
            "\n",
            " Создаём TF-IDF представление...\n"
          ]
        }
      ],
      "source": [
        "# Создаём TF-IDF векторизатор\n",
        "print(\"\\n Создаём TF-IDF представление...\")"
      ]
    },
    {
      "cell_type": "code",
      "execution_count": 34,
      "metadata": {},
      "outputs": [],
      "source": [
        "tfidf_vectorizer = TfidfVectorizer(\n",
        "    max_features=1000,      # Максимум 1000 признаков\n",
        "    min_df=2,               # Минимум в 2 документах\n",
        "    max_df=0.8,             # Максимум в 80% документов\n",
        "    ngram_range=(1, 2),     # Униграммы и биграммы\n",
        "    lowercase=False         # Уже в нижнем регистре\n",
        ")"
      ]
    },
    {
      "cell_type": "code",
      "execution_count": 35,
      "metadata": {},
      "outputs": [],
      "source": [
        "# Обучаем векторизатор и трансформируем данные\n",
        "X_train_tfidf = tfidf_vectorizer.fit_transform(X_train)\n",
        "X_test_tfidf = tfidf_vectorizer.transform(X_test)"
      ]
    },
    {
      "cell_type": "code",
      "execution_count": 38,
      "metadata": {},
      "outputs": [
        {
          "name": "stdout",
          "output_type": "stream",
          "text": [
            " TF-IDF матрица создана\n",
            "Размерность: (25612, 1000)\n",
            "Разреженность: 8.34%\n"
          ]
        }
      ],
      "source": [
        "print(f\" TF-IDF матрица создана\")\n",
        "print(f\"Размерность: {X_train_tfidf.shape}\")\n",
        "print(f\"Разреженность: {(X_train_tfidf.nnz / (X_train_tfidf.shape[0] * X_train_tfidf.shape[1])):.2%}\")"
      ]
    },
    {
      "cell_type": "code",
      "execution_count": 39,
      "metadata": {
        "colab": {
          "base_uri": "https://localhost:8080/",
          "height": 1062
        },
        "id": "ew3Pg7V-y-3X",
        "outputId": "38748474-4de5-42d7-84dc-41c1f70111e0"
      },
      "outputs": [
        {
          "name": "stdout",
          "output_type": "stream",
          "text": [
            "\n",
            " Обучаем Logistic Regression...\n"
          ]
        },
        {
          "data": {
            "text/html": [
              "<style>#sk-container-id-1 {\n",
              "  /* Definition of color scheme common for light and dark mode */\n",
              "  --sklearn-color-text: #000;\n",
              "  --sklearn-color-text-muted: #666;\n",
              "  --sklearn-color-line: gray;\n",
              "  /* Definition of color scheme for unfitted estimators */\n",
              "  --sklearn-color-unfitted-level-0: #fff5e6;\n",
              "  --sklearn-color-unfitted-level-1: #f6e4d2;\n",
              "  --sklearn-color-unfitted-level-2: #ffe0b3;\n",
              "  --sklearn-color-unfitted-level-3: chocolate;\n",
              "  /* Definition of color scheme for fitted estimators */\n",
              "  --sklearn-color-fitted-level-0: #f0f8ff;\n",
              "  --sklearn-color-fitted-level-1: #d4ebff;\n",
              "  --sklearn-color-fitted-level-2: #b3dbfd;\n",
              "  --sklearn-color-fitted-level-3: cornflowerblue;\n",
              "\n",
              "  /* Specific color for light theme */\n",
              "  --sklearn-color-text-on-default-background: var(--sg-text-color, var(--theme-code-foreground, var(--jp-content-font-color1, black)));\n",
              "  --sklearn-color-background: var(--sg-background-color, var(--theme-background, var(--jp-layout-color0, white)));\n",
              "  --sklearn-color-border-box: var(--sg-text-color, var(--theme-code-foreground, var(--jp-content-font-color1, black)));\n",
              "  --sklearn-color-icon: #696969;\n",
              "\n",
              "  @media (prefers-color-scheme: dark) {\n",
              "    /* Redefinition of color scheme for dark theme */\n",
              "    --sklearn-color-text-on-default-background: var(--sg-text-color, var(--theme-code-foreground, var(--jp-content-font-color1, white)));\n",
              "    --sklearn-color-background: var(--sg-background-color, var(--theme-background, var(--jp-layout-color0, #111)));\n",
              "    --sklearn-color-border-box: var(--sg-text-color, var(--theme-code-foreground, var(--jp-content-font-color1, white)));\n",
              "    --sklearn-color-icon: #878787;\n",
              "  }\n",
              "}\n",
              "\n",
              "#sk-container-id-1 {\n",
              "  color: var(--sklearn-color-text);\n",
              "}\n",
              "\n",
              "#sk-container-id-1 pre {\n",
              "  padding: 0;\n",
              "}\n",
              "\n",
              "#sk-container-id-1 input.sk-hidden--visually {\n",
              "  border: 0;\n",
              "  clip: rect(1px 1px 1px 1px);\n",
              "  clip: rect(1px, 1px, 1px, 1px);\n",
              "  height: 1px;\n",
              "  margin: -1px;\n",
              "  overflow: hidden;\n",
              "  padding: 0;\n",
              "  position: absolute;\n",
              "  width: 1px;\n",
              "}\n",
              "\n",
              "#sk-container-id-1 div.sk-dashed-wrapped {\n",
              "  border: 1px dashed var(--sklearn-color-line);\n",
              "  margin: 0 0.4em 0.5em 0.4em;\n",
              "  box-sizing: border-box;\n",
              "  padding-bottom: 0.4em;\n",
              "  background-color: var(--sklearn-color-background);\n",
              "}\n",
              "\n",
              "#sk-container-id-1 div.sk-container {\n",
              "  /* jupyter's `normalize.less` sets `[hidden] { display: none; }`\n",
              "     but bootstrap.min.css set `[hidden] { display: none !important; }`\n",
              "     so we also need the `!important` here to be able to override the\n",
              "     default hidden behavior on the sphinx rendered scikit-learn.org.\n",
              "     See: https://github.com/scikit-learn/scikit-learn/issues/21755 */\n",
              "  display: inline-block !important;\n",
              "  position: relative;\n",
              "}\n",
              "\n",
              "#sk-container-id-1 div.sk-text-repr-fallback {\n",
              "  display: none;\n",
              "}\n",
              "\n",
              "div.sk-parallel-item,\n",
              "div.sk-serial,\n",
              "div.sk-item {\n",
              "  /* draw centered vertical line to link estimators */\n",
              "  background-image: linear-gradient(var(--sklearn-color-text-on-default-background), var(--sklearn-color-text-on-default-background));\n",
              "  background-size: 2px 100%;\n",
              "  background-repeat: no-repeat;\n",
              "  background-position: center center;\n",
              "}\n",
              "\n",
              "/* Parallel-specific style estimator block */\n",
              "\n",
              "#sk-container-id-1 div.sk-parallel-item::after {\n",
              "  content: \"\";\n",
              "  width: 100%;\n",
              "  border-bottom: 2px solid var(--sklearn-color-text-on-default-background);\n",
              "  flex-grow: 1;\n",
              "}\n",
              "\n",
              "#sk-container-id-1 div.sk-parallel {\n",
              "  display: flex;\n",
              "  align-items: stretch;\n",
              "  justify-content: center;\n",
              "  background-color: var(--sklearn-color-background);\n",
              "  position: relative;\n",
              "}\n",
              "\n",
              "#sk-container-id-1 div.sk-parallel-item {\n",
              "  display: flex;\n",
              "  flex-direction: column;\n",
              "}\n",
              "\n",
              "#sk-container-id-1 div.sk-parallel-item:first-child::after {\n",
              "  align-self: flex-end;\n",
              "  width: 50%;\n",
              "}\n",
              "\n",
              "#sk-container-id-1 div.sk-parallel-item:last-child::after {\n",
              "  align-self: flex-start;\n",
              "  width: 50%;\n",
              "}\n",
              "\n",
              "#sk-container-id-1 div.sk-parallel-item:only-child::after {\n",
              "  width: 0;\n",
              "}\n",
              "\n",
              "/* Serial-specific style estimator block */\n",
              "\n",
              "#sk-container-id-1 div.sk-serial {\n",
              "  display: flex;\n",
              "  flex-direction: column;\n",
              "  align-items: center;\n",
              "  background-color: var(--sklearn-color-background);\n",
              "  padding-right: 1em;\n",
              "  padding-left: 1em;\n",
              "}\n",
              "\n",
              "\n",
              "/* Toggleable style: style used for estimator/Pipeline/ColumnTransformer box that is\n",
              "clickable and can be expanded/collapsed.\n",
              "- Pipeline and ColumnTransformer use this feature and define the default style\n",
              "- Estimators will overwrite some part of the style using the `sk-estimator` class\n",
              "*/\n",
              "\n",
              "/* Pipeline and ColumnTransformer style (default) */\n",
              "\n",
              "#sk-container-id-1 div.sk-toggleable {\n",
              "  /* Default theme specific background. It is overwritten whether we have a\n",
              "  specific estimator or a Pipeline/ColumnTransformer */\n",
              "  background-color: var(--sklearn-color-background);\n",
              "}\n",
              "\n",
              "/* Toggleable label */\n",
              "#sk-container-id-1 label.sk-toggleable__label {\n",
              "  cursor: pointer;\n",
              "  display: flex;\n",
              "  width: 100%;\n",
              "  margin-bottom: 0;\n",
              "  padding: 0.5em;\n",
              "  box-sizing: border-box;\n",
              "  text-align: center;\n",
              "  align-items: start;\n",
              "  justify-content: space-between;\n",
              "  gap: 0.5em;\n",
              "}\n",
              "\n",
              "#sk-container-id-1 label.sk-toggleable__label .caption {\n",
              "  font-size: 0.6rem;\n",
              "  font-weight: lighter;\n",
              "  color: var(--sklearn-color-text-muted);\n",
              "}\n",
              "\n",
              "#sk-container-id-1 label.sk-toggleable__label-arrow:before {\n",
              "  /* Arrow on the left of the label */\n",
              "  content: \"▸\";\n",
              "  float: left;\n",
              "  margin-right: 0.25em;\n",
              "  color: var(--sklearn-color-icon);\n",
              "}\n",
              "\n",
              "#sk-container-id-1 label.sk-toggleable__label-arrow:hover:before {\n",
              "  color: var(--sklearn-color-text);\n",
              "}\n",
              "\n",
              "/* Toggleable content - dropdown */\n",
              "\n",
              "#sk-container-id-1 div.sk-toggleable__content {\n",
              "  display: none;\n",
              "  text-align: left;\n",
              "  /* unfitted */\n",
              "  background-color: var(--sklearn-color-unfitted-level-0);\n",
              "}\n",
              "\n",
              "#sk-container-id-1 div.sk-toggleable__content.fitted {\n",
              "  /* fitted */\n",
              "  background-color: var(--sklearn-color-fitted-level-0);\n",
              "}\n",
              "\n",
              "#sk-container-id-1 div.sk-toggleable__content pre {\n",
              "  margin: 0.2em;\n",
              "  border-radius: 0.25em;\n",
              "  color: var(--sklearn-color-text);\n",
              "  /* unfitted */\n",
              "  background-color: var(--sklearn-color-unfitted-level-0);\n",
              "}\n",
              "\n",
              "#sk-container-id-1 div.sk-toggleable__content.fitted pre {\n",
              "  /* unfitted */\n",
              "  background-color: var(--sklearn-color-fitted-level-0);\n",
              "}\n",
              "\n",
              "#sk-container-id-1 input.sk-toggleable__control:checked~div.sk-toggleable__content {\n",
              "  /* Expand drop-down */\n",
              "  display: block;\n",
              "  width: 100%;\n",
              "  overflow: visible;\n",
              "}\n",
              "\n",
              "#sk-container-id-1 input.sk-toggleable__control:checked~label.sk-toggleable__label-arrow:before {\n",
              "  content: \"▾\";\n",
              "}\n",
              "\n",
              "/* Pipeline/ColumnTransformer-specific style */\n",
              "\n",
              "#sk-container-id-1 div.sk-label input.sk-toggleable__control:checked~label.sk-toggleable__label {\n",
              "  color: var(--sklearn-color-text);\n",
              "  background-color: var(--sklearn-color-unfitted-level-2);\n",
              "}\n",
              "\n",
              "#sk-container-id-1 div.sk-label.fitted input.sk-toggleable__control:checked~label.sk-toggleable__label {\n",
              "  background-color: var(--sklearn-color-fitted-level-2);\n",
              "}\n",
              "\n",
              "/* Estimator-specific style */\n",
              "\n",
              "/* Colorize estimator box */\n",
              "#sk-container-id-1 div.sk-estimator input.sk-toggleable__control:checked~label.sk-toggleable__label {\n",
              "  /* unfitted */\n",
              "  background-color: var(--sklearn-color-unfitted-level-2);\n",
              "}\n",
              "\n",
              "#sk-container-id-1 div.sk-estimator.fitted input.sk-toggleable__control:checked~label.sk-toggleable__label {\n",
              "  /* fitted */\n",
              "  background-color: var(--sklearn-color-fitted-level-2);\n",
              "}\n",
              "\n",
              "#sk-container-id-1 div.sk-label label.sk-toggleable__label,\n",
              "#sk-container-id-1 div.sk-label label {\n",
              "  /* The background is the default theme color */\n",
              "  color: var(--sklearn-color-text-on-default-background);\n",
              "}\n",
              "\n",
              "/* On hover, darken the color of the background */\n",
              "#sk-container-id-1 div.sk-label:hover label.sk-toggleable__label {\n",
              "  color: var(--sklearn-color-text);\n",
              "  background-color: var(--sklearn-color-unfitted-level-2);\n",
              "}\n",
              "\n",
              "/* Label box, darken color on hover, fitted */\n",
              "#sk-container-id-1 div.sk-label.fitted:hover label.sk-toggleable__label.fitted {\n",
              "  color: var(--sklearn-color-text);\n",
              "  background-color: var(--sklearn-color-fitted-level-2);\n",
              "}\n",
              "\n",
              "/* Estimator label */\n",
              "\n",
              "#sk-container-id-1 div.sk-label label {\n",
              "  font-family: monospace;\n",
              "  font-weight: bold;\n",
              "  display: inline-block;\n",
              "  line-height: 1.2em;\n",
              "}\n",
              "\n",
              "#sk-container-id-1 div.sk-label-container {\n",
              "  text-align: center;\n",
              "}\n",
              "\n",
              "/* Estimator-specific */\n",
              "#sk-container-id-1 div.sk-estimator {\n",
              "  font-family: monospace;\n",
              "  border: 1px dotted var(--sklearn-color-border-box);\n",
              "  border-radius: 0.25em;\n",
              "  box-sizing: border-box;\n",
              "  margin-bottom: 0.5em;\n",
              "  /* unfitted */\n",
              "  background-color: var(--sklearn-color-unfitted-level-0);\n",
              "}\n",
              "\n",
              "#sk-container-id-1 div.sk-estimator.fitted {\n",
              "  /* fitted */\n",
              "  background-color: var(--sklearn-color-fitted-level-0);\n",
              "}\n",
              "\n",
              "/* on hover */\n",
              "#sk-container-id-1 div.sk-estimator:hover {\n",
              "  /* unfitted */\n",
              "  background-color: var(--sklearn-color-unfitted-level-2);\n",
              "}\n",
              "\n",
              "#sk-container-id-1 div.sk-estimator.fitted:hover {\n",
              "  /* fitted */\n",
              "  background-color: var(--sklearn-color-fitted-level-2);\n",
              "}\n",
              "\n",
              "/* Specification for estimator info (e.g. \"i\" and \"?\") */\n",
              "\n",
              "/* Common style for \"i\" and \"?\" */\n",
              "\n",
              ".sk-estimator-doc-link,\n",
              "a:link.sk-estimator-doc-link,\n",
              "a:visited.sk-estimator-doc-link {\n",
              "  float: right;\n",
              "  font-size: smaller;\n",
              "  line-height: 1em;\n",
              "  font-family: monospace;\n",
              "  background-color: var(--sklearn-color-background);\n",
              "  border-radius: 1em;\n",
              "  height: 1em;\n",
              "  width: 1em;\n",
              "  text-decoration: none !important;\n",
              "  margin-left: 0.5em;\n",
              "  text-align: center;\n",
              "  /* unfitted */\n",
              "  border: var(--sklearn-color-unfitted-level-1) 1pt solid;\n",
              "  color: var(--sklearn-color-unfitted-level-1);\n",
              "}\n",
              "\n",
              ".sk-estimator-doc-link.fitted,\n",
              "a:link.sk-estimator-doc-link.fitted,\n",
              "a:visited.sk-estimator-doc-link.fitted {\n",
              "  /* fitted */\n",
              "  border: var(--sklearn-color-fitted-level-1) 1pt solid;\n",
              "  color: var(--sklearn-color-fitted-level-1);\n",
              "}\n",
              "\n",
              "/* On hover */\n",
              "div.sk-estimator:hover .sk-estimator-doc-link:hover,\n",
              ".sk-estimator-doc-link:hover,\n",
              "div.sk-label-container:hover .sk-estimator-doc-link:hover,\n",
              ".sk-estimator-doc-link:hover {\n",
              "  /* unfitted */\n",
              "  background-color: var(--sklearn-color-unfitted-level-3);\n",
              "  color: var(--sklearn-color-background);\n",
              "  text-decoration: none;\n",
              "}\n",
              "\n",
              "div.sk-estimator.fitted:hover .sk-estimator-doc-link.fitted:hover,\n",
              ".sk-estimator-doc-link.fitted:hover,\n",
              "div.sk-label-container:hover .sk-estimator-doc-link.fitted:hover,\n",
              ".sk-estimator-doc-link.fitted:hover {\n",
              "  /* fitted */\n",
              "  background-color: var(--sklearn-color-fitted-level-3);\n",
              "  color: var(--sklearn-color-background);\n",
              "  text-decoration: none;\n",
              "}\n",
              "\n",
              "/* Span, style for the box shown on hovering the info icon */\n",
              ".sk-estimator-doc-link span {\n",
              "  display: none;\n",
              "  z-index: 9999;\n",
              "  position: relative;\n",
              "  font-weight: normal;\n",
              "  right: .2ex;\n",
              "  padding: .5ex;\n",
              "  margin: .5ex;\n",
              "  width: min-content;\n",
              "  min-width: 20ex;\n",
              "  max-width: 50ex;\n",
              "  color: var(--sklearn-color-text);\n",
              "  box-shadow: 2pt 2pt 4pt #999;\n",
              "  /* unfitted */\n",
              "  background: var(--sklearn-color-unfitted-level-0);\n",
              "  border: .5pt solid var(--sklearn-color-unfitted-level-3);\n",
              "}\n",
              "\n",
              ".sk-estimator-doc-link.fitted span {\n",
              "  /* fitted */\n",
              "  background: var(--sklearn-color-fitted-level-0);\n",
              "  border: var(--sklearn-color-fitted-level-3);\n",
              "}\n",
              "\n",
              ".sk-estimator-doc-link:hover span {\n",
              "  display: block;\n",
              "}\n",
              "\n",
              "/* \"?\"-specific style due to the `<a>` HTML tag */\n",
              "\n",
              "#sk-container-id-1 a.estimator_doc_link {\n",
              "  float: right;\n",
              "  font-size: 1rem;\n",
              "  line-height: 1em;\n",
              "  font-family: monospace;\n",
              "  background-color: var(--sklearn-color-background);\n",
              "  border-radius: 1rem;\n",
              "  height: 1rem;\n",
              "  width: 1rem;\n",
              "  text-decoration: none;\n",
              "  /* unfitted */\n",
              "  color: var(--sklearn-color-unfitted-level-1);\n",
              "  border: var(--sklearn-color-unfitted-level-1) 1pt solid;\n",
              "}\n",
              "\n",
              "#sk-container-id-1 a.estimator_doc_link.fitted {\n",
              "  /* fitted */\n",
              "  border: var(--sklearn-color-fitted-level-1) 1pt solid;\n",
              "  color: var(--sklearn-color-fitted-level-1);\n",
              "}\n",
              "\n",
              "/* On hover */\n",
              "#sk-container-id-1 a.estimator_doc_link:hover {\n",
              "  /* unfitted */\n",
              "  background-color: var(--sklearn-color-unfitted-level-3);\n",
              "  color: var(--sklearn-color-background);\n",
              "  text-decoration: none;\n",
              "}\n",
              "\n",
              "#sk-container-id-1 a.estimator_doc_link.fitted:hover {\n",
              "  /* fitted */\n",
              "  background-color: var(--sklearn-color-fitted-level-3);\n",
              "}\n",
              "\n",
              ".estimator-table summary {\n",
              "    padding: .5rem;\n",
              "    font-family: monospace;\n",
              "    cursor: pointer;\n",
              "}\n",
              "\n",
              ".estimator-table details[open] {\n",
              "    padding-left: 0.1rem;\n",
              "    padding-right: 0.1rem;\n",
              "    padding-bottom: 0.3rem;\n",
              "}\n",
              "\n",
              ".estimator-table .parameters-table {\n",
              "    margin-left: auto !important;\n",
              "    margin-right: auto !important;\n",
              "}\n",
              "\n",
              ".estimator-table .parameters-table tr:nth-child(odd) {\n",
              "    background-color: #fff;\n",
              "}\n",
              "\n",
              ".estimator-table .parameters-table tr:nth-child(even) {\n",
              "    background-color: #f6f6f6;\n",
              "}\n",
              "\n",
              ".estimator-table .parameters-table tr:hover {\n",
              "    background-color: #e0e0e0;\n",
              "}\n",
              "\n",
              ".estimator-table table td {\n",
              "    border: 1px solid rgba(106, 105, 104, 0.232);\n",
              "}\n",
              "\n",
              ".user-set td {\n",
              "    color:rgb(255, 94, 0);\n",
              "    text-align: left;\n",
              "}\n",
              "\n",
              ".user-set td.value pre {\n",
              "    color:rgb(255, 94, 0) !important;\n",
              "    background-color: transparent !important;\n",
              "}\n",
              "\n",
              ".default td {\n",
              "    color: black;\n",
              "    text-align: left;\n",
              "}\n",
              "\n",
              ".user-set td i,\n",
              ".default td i {\n",
              "    color: black;\n",
              "}\n",
              "\n",
              ".copy-paste-icon {\n",
              "    background-image: url(data:image/svg+xml;base64,PHN2ZyB4bWxucz0iaHR0cDovL3d3dy53My5vcmcvMjAwMC9zdmciIHZpZXdCb3g9IjAgMCA0NDggNTEyIj48IS0tIUZvbnQgQXdlc29tZSBGcmVlIDYuNy4yIGJ5IEBmb250YXdlc29tZSAtIGh0dHBzOi8vZm9udGF3ZXNvbWUuY29tIExpY2Vuc2UgLSBodHRwczovL2ZvbnRhd2Vzb21lLmNvbS9saWNlbnNlL2ZyZWUgQ29weXJpZ2h0IDIwMjUgRm9udGljb25zLCBJbmMuLS0+PHBhdGggZD0iTTIwOCAwTDMzMi4xIDBjMTIuNyAwIDI0LjkgNS4xIDMzLjkgMTQuMWw2Ny45IDY3LjljOSA5IDE0LjEgMjEuMiAxNC4xIDMzLjlMNDQ4IDMzNmMwIDI2LjUtMjEuNSA0OC00OCA0OGwtMTkyIDBjLTI2LjUgMC00OC0yMS41LTQ4LTQ4bDAtMjg4YzAtMjYuNSAyMS41LTQ4IDQ4LTQ4ek00OCAxMjhsODAgMCAwIDY0LTY0IDAgMCAyNTYgMTkyIDAgMC0zMiA2NCAwIDAgNDhjMCAyNi41LTIxLjUgNDgtNDggNDhMNDggNTEyYy0yNi41IDAtNDgtMjEuNS00OC00OEwwIDE3NmMwLTI2LjUgMjEuNS00OCA0OC00OHoiLz48L3N2Zz4=);\n",
              "    background-repeat: no-repeat;\n",
              "    background-size: 14px 14px;\n",
              "    background-position: 0;\n",
              "    display: inline-block;\n",
              "    width: 14px;\n",
              "    height: 14px;\n",
              "    cursor: pointer;\n",
              "}\n",
              "</style><body><div id=\"sk-container-id-1\" class=\"sk-top-container\"><div class=\"sk-text-repr-fallback\"><pre>LogisticRegression(random_state=42, solver=&#x27;liblinear&#x27;)</pre><b>In a Jupyter environment, please rerun this cell to show the HTML representation or trust the notebook. <br />On GitHub, the HTML representation is unable to render, please try loading this page with nbviewer.org.</b></div><div class=\"sk-container\" hidden><div class=\"sk-item\"><div class=\"sk-estimator fitted sk-toggleable\"><input class=\"sk-toggleable__control sk-hidden--visually\" id=\"sk-estimator-id-1\" type=\"checkbox\" checked><label for=\"sk-estimator-id-1\" class=\"sk-toggleable__label fitted sk-toggleable__label-arrow\"><div><div>LogisticRegression</div></div><div><a class=\"sk-estimator-doc-link fitted\" rel=\"noreferrer\" target=\"_blank\" href=\"https://scikit-learn.org/1.7/modules/generated/sklearn.linear_model.LogisticRegression.html\">?<span>Documentation for LogisticRegression</span></a><span class=\"sk-estimator-doc-link fitted\">i<span>Fitted</span></span></div></label><div class=\"sk-toggleable__content fitted\" data-param-prefix=\"\">\n",
              "        <div class=\"estimator-table\">\n",
              "            <details>\n",
              "                <summary>Parameters</summary>\n",
              "                <table class=\"parameters-table\">\n",
              "                  <tbody>\n",
              "                    \n",
              "        <tr class=\"default\">\n",
              "            <td><i class=\"copy-paste-icon\"\n",
              "                 onclick=\"copyToClipboard('penalty',\n",
              "                          this.parentElement.nextElementSibling)\"\n",
              "            ></i></td>\n",
              "            <td class=\"param\">penalty&nbsp;</td>\n",
              "            <td class=\"value\">&#x27;l2&#x27;</td>\n",
              "        </tr>\n",
              "    \n",
              "\n",
              "        <tr class=\"default\">\n",
              "            <td><i class=\"copy-paste-icon\"\n",
              "                 onclick=\"copyToClipboard('dual',\n",
              "                          this.parentElement.nextElementSibling)\"\n",
              "            ></i></td>\n",
              "            <td class=\"param\">dual&nbsp;</td>\n",
              "            <td class=\"value\">False</td>\n",
              "        </tr>\n",
              "    \n",
              "\n",
              "        <tr class=\"default\">\n",
              "            <td><i class=\"copy-paste-icon\"\n",
              "                 onclick=\"copyToClipboard('tol',\n",
              "                          this.parentElement.nextElementSibling)\"\n",
              "            ></i></td>\n",
              "            <td class=\"param\">tol&nbsp;</td>\n",
              "            <td class=\"value\">0.0001</td>\n",
              "        </tr>\n",
              "    \n",
              "\n",
              "        <tr class=\"default\">\n",
              "            <td><i class=\"copy-paste-icon\"\n",
              "                 onclick=\"copyToClipboard('C',\n",
              "                          this.parentElement.nextElementSibling)\"\n",
              "            ></i></td>\n",
              "            <td class=\"param\">C&nbsp;</td>\n",
              "            <td class=\"value\">1.0</td>\n",
              "        </tr>\n",
              "    \n",
              "\n",
              "        <tr class=\"default\">\n",
              "            <td><i class=\"copy-paste-icon\"\n",
              "                 onclick=\"copyToClipboard('fit_intercept',\n",
              "                          this.parentElement.nextElementSibling)\"\n",
              "            ></i></td>\n",
              "            <td class=\"param\">fit_intercept&nbsp;</td>\n",
              "            <td class=\"value\">True</td>\n",
              "        </tr>\n",
              "    \n",
              "\n",
              "        <tr class=\"default\">\n",
              "            <td><i class=\"copy-paste-icon\"\n",
              "                 onclick=\"copyToClipboard('intercept_scaling',\n",
              "                          this.parentElement.nextElementSibling)\"\n",
              "            ></i></td>\n",
              "            <td class=\"param\">intercept_scaling&nbsp;</td>\n",
              "            <td class=\"value\">1</td>\n",
              "        </tr>\n",
              "    \n",
              "\n",
              "        <tr class=\"default\">\n",
              "            <td><i class=\"copy-paste-icon\"\n",
              "                 onclick=\"copyToClipboard('class_weight',\n",
              "                          this.parentElement.nextElementSibling)\"\n",
              "            ></i></td>\n",
              "            <td class=\"param\">class_weight&nbsp;</td>\n",
              "            <td class=\"value\">None</td>\n",
              "        </tr>\n",
              "    \n",
              "\n",
              "        <tr class=\"user-set\">\n",
              "            <td><i class=\"copy-paste-icon\"\n",
              "                 onclick=\"copyToClipboard('random_state',\n",
              "                          this.parentElement.nextElementSibling)\"\n",
              "            ></i></td>\n",
              "            <td class=\"param\">random_state&nbsp;</td>\n",
              "            <td class=\"value\">42</td>\n",
              "        </tr>\n",
              "    \n",
              "\n",
              "        <tr class=\"user-set\">\n",
              "            <td><i class=\"copy-paste-icon\"\n",
              "                 onclick=\"copyToClipboard('solver',\n",
              "                          this.parentElement.nextElementSibling)\"\n",
              "            ></i></td>\n",
              "            <td class=\"param\">solver&nbsp;</td>\n",
              "            <td class=\"value\">&#x27;liblinear&#x27;</td>\n",
              "        </tr>\n",
              "    \n",
              "\n",
              "        <tr class=\"default\">\n",
              "            <td><i class=\"copy-paste-icon\"\n",
              "                 onclick=\"copyToClipboard('max_iter',\n",
              "                          this.parentElement.nextElementSibling)\"\n",
              "            ></i></td>\n",
              "            <td class=\"param\">max_iter&nbsp;</td>\n",
              "            <td class=\"value\">100</td>\n",
              "        </tr>\n",
              "    \n",
              "\n",
              "        <tr class=\"default\">\n",
              "            <td><i class=\"copy-paste-icon\"\n",
              "                 onclick=\"copyToClipboard('multi_class',\n",
              "                          this.parentElement.nextElementSibling)\"\n",
              "            ></i></td>\n",
              "            <td class=\"param\">multi_class&nbsp;</td>\n",
              "            <td class=\"value\">&#x27;deprecated&#x27;</td>\n",
              "        </tr>\n",
              "    \n",
              "\n",
              "        <tr class=\"default\">\n",
              "            <td><i class=\"copy-paste-icon\"\n",
              "                 onclick=\"copyToClipboard('verbose',\n",
              "                          this.parentElement.nextElementSibling)\"\n",
              "            ></i></td>\n",
              "            <td class=\"param\">verbose&nbsp;</td>\n",
              "            <td class=\"value\">0</td>\n",
              "        </tr>\n",
              "    \n",
              "\n",
              "        <tr class=\"default\">\n",
              "            <td><i class=\"copy-paste-icon\"\n",
              "                 onclick=\"copyToClipboard('warm_start',\n",
              "                          this.parentElement.nextElementSibling)\"\n",
              "            ></i></td>\n",
              "            <td class=\"param\">warm_start&nbsp;</td>\n",
              "            <td class=\"value\">False</td>\n",
              "        </tr>\n",
              "    \n",
              "\n",
              "        <tr class=\"default\">\n",
              "            <td><i class=\"copy-paste-icon\"\n",
              "                 onclick=\"copyToClipboard('n_jobs',\n",
              "                          this.parentElement.nextElementSibling)\"\n",
              "            ></i></td>\n",
              "            <td class=\"param\">n_jobs&nbsp;</td>\n",
              "            <td class=\"value\">None</td>\n",
              "        </tr>\n",
              "    \n",
              "\n",
              "        <tr class=\"default\">\n",
              "            <td><i class=\"copy-paste-icon\"\n",
              "                 onclick=\"copyToClipboard('l1_ratio',\n",
              "                          this.parentElement.nextElementSibling)\"\n",
              "            ></i></td>\n",
              "            <td class=\"param\">l1_ratio&nbsp;</td>\n",
              "            <td class=\"value\">None</td>\n",
              "        </tr>\n",
              "    \n",
              "                  </tbody>\n",
              "                </table>\n",
              "            </details>\n",
              "        </div>\n",
              "    </div></div></div></div></div><script>function copyToClipboard(text, element) {\n",
              "    // Get the parameter prefix from the closest toggleable content\n",
              "    const toggleableContent = element.closest('.sk-toggleable__content');\n",
              "    const paramPrefix = toggleableContent ? toggleableContent.dataset.paramPrefix : '';\n",
              "    const fullParamName = paramPrefix ? `${paramPrefix}${text}` : text;\n",
              "\n",
              "    const originalStyle = element.style;\n",
              "    const computedStyle = window.getComputedStyle(element);\n",
              "    const originalWidth = computedStyle.width;\n",
              "    const originalHTML = element.innerHTML.replace('Copied!', '');\n",
              "\n",
              "    navigator.clipboard.writeText(fullParamName)\n",
              "        .then(() => {\n",
              "            element.style.width = originalWidth;\n",
              "            element.style.color = 'green';\n",
              "            element.innerHTML = \"Copied!\";\n",
              "\n",
              "            setTimeout(() => {\n",
              "                element.innerHTML = originalHTML;\n",
              "                element.style = originalStyle;\n",
              "            }, 2000);\n",
              "        })\n",
              "        .catch(err => {\n",
              "            console.error('Failed to copy:', err);\n",
              "            element.style.color = 'red';\n",
              "            element.innerHTML = \"Failed!\";\n",
              "            setTimeout(() => {\n",
              "                element.innerHTML = originalHTML;\n",
              "                element.style = originalStyle;\n",
              "            }, 2000);\n",
              "        });\n",
              "    return false;\n",
              "}\n",
              "\n",
              "document.querySelectorAll('.fa-regular.fa-copy').forEach(function(element) {\n",
              "    const toggleableContent = element.closest('.sk-toggleable__content');\n",
              "    const paramPrefix = toggleableContent ? toggleableContent.dataset.paramPrefix : '';\n",
              "    const paramName = element.parentElement.nextElementSibling.textContent.trim();\n",
              "    const fullParamName = paramPrefix ? `${paramPrefix}${paramName}` : paramName;\n",
              "\n",
              "    element.setAttribute('title', fullParamName);\n",
              "});\n",
              "</script></body>"
            ],
            "text/plain": [
              "LogisticRegression(random_state=42, solver='liblinear')"
            ]
          },
          "execution_count": 39,
          "metadata": {},
          "output_type": "execute_result"
        }
      ],
      "source": [
        "# Обучаем LogisticRegression\n",
        "print(\"\\n Обучаем Logistic Regression...\")\n",
        "\n",
        "lr_tfidf = LogisticRegression(\n",
        "    C=1.0,\n",
        "    solver='liblinear',\n",
        "    random_state=42\n",
        ")\n",
        "\n",
        "lr_tfidf.fit(X_train_tfidf, y_train)"
      ]
    },
    {
      "cell_type": "code",
      "execution_count": 40,
      "metadata": {},
      "outputs": [],
      "source": [
        "# Предсказания\n",
        "y_pred_tfidf = lr_tfidf.predict(X_test_tfidf)"
      ]
    },
    {
      "cell_type": "code",
      "execution_count": 41,
      "metadata": {},
      "outputs": [],
      "source": [
        "# Метрики\n",
        "accuracy_tfidf = accuracy_score(y_test, y_pred_tfidf)\n",
        "precision_tfidf = precision_score(y_test, y_pred_tfidf)\n",
        "recall_tfidf = recall_score(y_test, y_pred_tfidf)\n",
        "f1_tfidf = f1_score(y_test, y_pred_tfidf)"
      ]
    },
    {
      "cell_type": "code",
      "execution_count": 42,
      "metadata": {},
      "outputs": [
        {
          "name": "stdout",
          "output_type": "stream",
          "text": [
            "\n",
            " Результаты TF-IDF + LogisticRegression:\n",
            "Accuracy:  0.934\n",
            "Precision: 0.947\n",
            "Recall:    0.977\n",
            "F1-score:  0.962\n"
          ]
        }
      ],
      "source": [
        "print(f\"\\n Результаты TF-IDF + LogisticRegression:\")\n",
        "print(f\"Accuracy:  {accuracy_tfidf:.3f}\")\n",
        "print(f\"Precision: {precision_tfidf:.3f}\")\n",
        "print(f\"Recall:    {recall_tfidf:.3f}\")\n",
        "print(f\"F1-score:  {f1_tfidf:.3f}\")"
      ]
    },
    {
      "cell_type": "code",
      "execution_count": 43,
      "metadata": {},
      "outputs": [
        {
          "name": "stdout",
          "output_type": "stream",
          "text": [
            "Точность на негативных отзывах:  0.686\n"
          ]
        }
      ],
      "source": [
        "# Confusion Matrix\n",
        "cm_tfidf = confusion_matrix(y_test, y_pred_tfidf)\n",
        "\n",
        "print(f\"Точность на негативных отзывах:  {cm_tfidf[0,0] / (cm_tfidf[0,1] + cm_tfidf[0,0]):.3f}\")"
      ]
    },
    {
      "cell_type": "code",
      "execution_count": 44,
      "metadata": {},
      "outputs": [
        {
          "data": {
            "image/png": "[encoded data removed]",
            "text/plain": [
              "<Figure size 600x400 with 2 Axes>"
            ]
          },
          "metadata": {},
          "output_type": "display_data"
        }
      ],
      "source": [
        "plt.figure(figsize=(6, 4))\n",
        "sns.heatmap(cm_tfidf, annot=True, fmt='d', cmap='Blues',\n",
        "            xticklabels=['Негативный', 'Позитивный'],\n",
        "            yticklabels=['Негативный', 'Позитивный'])\n",
        "plt.title('Confusion Matrix: TF-IDF + LogisticRegression')\n",
        "plt.ylabel('Истинные метки')\n",
        "plt.xlabel('Предсказанные метки')\n",
        "plt.show()"
      ]
    },
    {
      "cell_type": "code",
      "execution_count": 45,
      "metadata": {},
      "outputs": [],
      "source": [
        "# Анализ важности признаков\n",
        "feature_names = tfidf_vectorizer.get_feature_names_out()\n",
        "coefficients = lr_tfidf.coef_[0]"
      ]
    },
    {
      "cell_type": "code",
      "execution_count": 46,
      "metadata": {},
      "outputs": [],
      "source": [
        "# Топ позитивные и негативные признаки\n",
        "top_positive_idx = np.argsort(coefficients)[-10:][::-1]\n",
        "top_negative_idx = np.argsort(coefficients)[:10]"
      ]
    },
    {
      "cell_type": "code",
      "execution_count": 47,
      "metadata": {},
      "outputs": [
        {
          "name": "stdout",
          "output_type": "stream",
          "text": [
            "\n",
            " Топ-10 признаков для ПОЗИТИВНОГО класса:\n",
            "каждый               : 5.107\n",
            "великолепный         : 4.722\n",
            "потрясать            : 4.692\n",
            "отличный             : 4.568\n",
            "жизнь                : 3.583\n",
            "отлично              : 3.438\n",
            "именно               : 3.288\n",
            "приятно              : 3.231\n",
            "очень                : 3.111\n",
            "настоящий            : 2.923\n"
          ]
        }
      ],
      "source": [
        "print(\"\\n Топ-10 признаков для ПОЗИТИВНОГО класса:\")\n",
        "for idx in top_positive_idx:\n",
        "    print(f\"{feature_names[idx]:20} : {coefficients[idx]:.3f}\")"
      ]
    },
    {
      "cell_type": "code",
      "execution_count": 48,
      "metadata": {},
      "outputs": [
        {
          "name": "stdout",
          "output_type": "stream",
          "text": [
            "\n",
            " Топ-10 признаков для НЕГАТИВНОГО класса:\n",
            "скучный              : -4.722\n",
            "никакой              : -4.422\n",
            "бред                 : -4.140\n",
            "глупый               : -4.109\n",
            "единственный         : -3.759\n",
            "ужасный              : -3.712\n",
            "плохой               : -3.689\n",
            "вообще               : -3.663\n",
            "никак                : -3.627\n",
            "деньга               : -3.564\n"
          ]
        }
      ],
      "source": [
        "print(\"\\n Топ-10 признаков для НЕГАТИВНОГО класса:\")\n",
        "for idx in top_negative_idx:\n",
        "    print(f\"{feature_names[idx]:20} : {coefficients[idx]:.3f}\")"
      ]
    },
    {
      "cell_type": "markdown",
      "metadata": {
        "id": "kOnVXe10O-Kd"
      },
      "source": [
        "-----\n",
        "\n",
        "### **4. Word2Vec - обучение модели**\n",
        "\n",
        "**Word2Vec** — это нейросетевая модель, которая учится представлять слова в виде плотных векторов (эмбеддингов). Слова со схожим значением будут иметь похожие векторы. Мы обучим модель на нашем корпусе текста."
      ]
    },
    {
      "cell_type": "code",
      "execution_count": 49,
      "metadata": {},
      "outputs": [
        {
          "name": "stdout",
          "output_type": "stream",
          "text": [
            " Подготовлено 32015 текстов для обучения\n",
            "Пример токенизированного текста: ['блеф', 'один', 'мой', 'самый', 'любимый', 'комедия', 'фильм', 'наверно', 'смотреть', 'сто']\n"
          ]
        }
      ],
      "source": [
        "# Подготовка данных для Word2Vec (список списков токенов)\n",
        "tokenized_texts = [text.split() for text in df['processed_text']]\n",
        "\n",
        "print(f\" Подготовлено {len(tokenized_texts)} текстов для обучения\")\n",
        "print(f\"Пример токенизированного текста: {tokenized_texts[0][:10]}\")"
      ]
    },
    {
      "cell_type": "code",
      "execution_count": 50,
      "metadata": {},
      "outputs": [
        {
          "name": "stdout",
          "output_type": "stream",
          "text": [
            "\n",
            " Обучаем Word2Vec модель...\n",
            " Word2Vec обучен\n",
            "Размер словаря: 48546\n",
            "Размерность векторов: 100\n"
          ]
        }
      ],
      "source": [
        "# Обучаем Word2Vec\n",
        "print(\"\\n Обучаем Word2Vec модель...\")\n",
        "\n",
        "w2v_model = Word2Vec(\n",
        "    sentences=tokenized_texts,\n",
        "    vector_size=100,      # Размерность векторов\n",
        "    window=5,             # Размер контекстного окна\n",
        "    min_count=2,          # Минимальная частота слова\n",
        "    workers=4,            # Параллельность\n",
        "    sg=1,                 # Skip-gram (0 = CBOW)\n",
        "    epochs=50,            # Количество эпох\n",
        "    seed=42\n",
        ")\n",
        "\n",
        "print(f\" Word2Vec обучен\")\n",
        "print(f\"Размер словаря: {len(w2v_model.wv)}\")\n",
        "print(f\"Размерность векторов: {w2v_model.wv.vector_size}\")"
      ]
    },
    {
      "cell_type": "code",
      "execution_count": 51,
      "metadata": {},
      "outputs": [
        {
          "name": "stdout",
          "output_type": "stream",
          "text": [
            "\n",
            " Примеры семантических отношений:\n",
            "\n",
            "Похожие на 'отличный':\n",
            "  превосходный    : 0.847\n",
            "  великолепный    : 0.842\n",
            "  замечательный   : 0.827\n",
            "  потрясать       : 0.773\n",
            "  блестящий       : 0.759\n",
            "\n",
            "Похожие на 'ужасный':\n",
            "  отвратительный  : 0.754\n",
            "  кошмарный       : 0.728\n",
            "  ужасающий       : 0.719\n",
            "  страшный        : 0.705\n",
            "  жуткий          : 0.676\n",
            "\n",
            "Похожие на 'товар':\n",
            "  обвёртка        : 0.560\n",
            "  иордан          : 0.555\n",
            "  эмалировать     : 0.535\n",
            "  боеприпас       : 0.531\n",
            "  покупать        : 0.517\n",
            "\n",
            "Похожие на 'качество':\n",
            "  показатель      : 0.565\n",
            "  перечисленный   : 0.557\n",
            "  неочень         : 0.542\n",
            "  наличие         : 0.541\n",
            "  азартность      : 0.533\n"
          ]
        }
      ],
      "source": [
        "# Примеры семантических отношений\n",
        "print(\"\\n Примеры семантических отношений:\")\n",
        "\n",
        "test_words = ['отличный', 'ужасный', 'товар', 'качество']\n",
        "\n",
        "for word in test_words:\n",
        "    if word in w2v_model.wv:\n",
        "        similar = w2v_model.wv.most_similar(word, topn=5)\n",
        "        print(f\"\\nПохожие на '{word}':\")\n",
        "        for sim_word, score in similar:\n",
        "            print(f\"  {sim_word:15} : {score:.3f}\")\n",
        "    else:\n",
        "        print(f\"\\nСлово '{word}' не найдено в словаре\")"
      ]
    },
    {
      "cell_type": "code",
      "execution_count": 52,
      "metadata": {
        "colab": {
          "base_uri": "https://localhost:8080/"
        },
        "id": "GoyfV_zuO-Ke",
        "outputId": "74ce16b6-8c70-4b26-8bef-f321d1bd3ef7"
      },
      "outputs": [
        {
          "name": "stdout",
          "output_type": "stream",
          "text": [
            "\n",
            " Модель сохранена в models/word2vec_model.bin\n"
          ]
        }
      ],
      "source": [
        "# Сохраняем модель\n",
        "w2v_model.save('models/word2vec_model.bin')\n",
        "print(\"\\n Модель сохранена в models/word2vec_model.bin\")"
      ]
    },
    {
      "cell_type": "markdown",
      "metadata": {
        "id": "RgIYQkD_O-Ke"
      },
      "source": [
        "-----\n",
        "\n",
        "### **5. Word2Vec + LogisticRegression**\n",
        "\n",
        "Word2Vec даёт векторы для слов, но нам нужен вектор для целого документа. Мы можем получить его, усреднив векторы всех слов в документе. Этот усреднённый вектор затем будет подан на вход в классификатор."
      ]
    },
    {
      "cell_type": "code",
      "execution_count": 53,
      "metadata": {},
      "outputs": [],
      "source": [
        "def text_to_vector(text, model):\n",
        "    \"\"\"\n",
        "    Преобразует текст в вектор путём усреднения векторов слов.\n",
        "    \"\"\"\n",
        "    words = text.split()\n",
        "    word_vectors = []\n",
        "\n",
        "    for word in words:\n",
        "        if word in model.wv:\n",
        "            word_vectors.append(model.wv[word])\n",
        "\n",
        "    if len(word_vectors) == 0:\n",
        "        # Если ни одно слово не найдено, возвращаем нулевой вектор\n",
        "        return np.zeros(model.wv.vector_size)\n",
        "\n",
        "    # Усредняем векторы слов\n",
        "    return np.mean(word_vectors, axis=0)"
      ]
    },
    {
      "cell_type": "code",
      "execution_count": 54,
      "metadata": {},
      "outputs": [
        {
          "name": "stdout",
          "output_type": "stream",
          "text": [
            "Преобразуем тексты в векторы...\n"
          ]
        },
        {
          "data": {
            "application/vnd.jupyter.widget-view+json": {
              "model_id": "9cdd436daaeb44d3b781291259109a2d",
              "version_major": 2,
              "version_minor": 0
            },
            "text/plain": [
              "  0%|          | 0/25612 [00:00<?, ?it/s]"
            ]
          },
          "metadata": {},
          "output_type": "display_data"
        },
        {
          "data": {
            "application/vnd.jupyter.widget-view+json": {
              "model_id": "ba2860cb2cd5443ea6fcb66b7b566ef1",
              "version_major": 2,
              "version_minor": 0
            },
            "text/plain": [
              "  0%|          | 0/6403 [00:00<?, ?it/s]"
            ]
          },
          "metadata": {},
          "output_type": "display_data"
        },
        {
          "name": "stdout",
          "output_type": "stream",
          "text": [
            "Векторизация завершена\n",
            "Размерность: (25612, 100)\n"
          ]
        }
      ],
      "source": [
        "# Преобразуем тексты в векторы\n",
        "print(\"Преобразуем тексты в векторы...\")\n",
        "\n",
        "X_train_w2v = np.array([text_to_vector(text, w2v_model) for text in tqdm(X_train)])\n",
        "X_test_w2v = np.array([text_to_vector(text, w2v_model) for text in tqdm(X_test)])\n",
        "\n",
        "print(f\"Векторизация завершена\")\n",
        "print(f\"Размерность: {X_train_w2v.shape}\")"
      ]
    },
    {
      "cell_type": "code",
      "execution_count": 55,
      "metadata": {},
      "outputs": [
        {
          "name": "stdout",
          "output_type": "stream",
          "text": [
            "\n",
            "Обучаем Logistic Regression на Word2Vec...\n"
          ]
        },
        {
          "data": {
            "text/html": [
              "<style>#sk-container-id-2 {\n",
              "  /* Definition of color scheme common for light and dark mode */\n",
              "  --sklearn-color-text: #000;\n",
              "  --sklearn-color-text-muted: #666;\n",
              "  --sklearn-color-line: gray;\n",
              "  /* Definition of color scheme for unfitted estimators */\n",
              "  --sklearn-color-unfitted-level-0: #fff5e6;\n",
              "  --sklearn-color-unfitted-level-1: #f6e4d2;\n",
              "  --sklearn-color-unfitted-level-2: #ffe0b3;\n",
              "  --sklearn-color-unfitted-level-3: chocolate;\n",
              "  /* Definition of color scheme for fitted estimators */\n",
              "  --sklearn-color-fitted-level-0: #f0f8ff;\n",
              "  --sklearn-color-fitted-level-1: #d4ebff;\n",
              "  --sklearn-color-fitted-level-2: #b3dbfd;\n",
              "  --sklearn-color-fitted-level-3: cornflowerblue;\n",
              "\n",
              "  /* Specific color for light theme */\n",
              "  --sklearn-color-text-on-default-background: var(--sg-text-color, var(--theme-code-foreground, var(--jp-content-font-color1, black)));\n",
              "  --sklearn-color-background: var(--sg-background-color, var(--theme-background, var(--jp-layout-color0, white)));\n",
              "  --sklearn-color-border-box: var(--sg-text-color, var(--theme-code-foreground, var(--jp-content-font-color1, black)));\n",
              "  --sklearn-color-icon: #696969;\n",
              "\n",
              "  @media (prefers-color-scheme: dark) {\n",
              "    /* Redefinition of color scheme for dark theme */\n",
              "    --sklearn-color-text-on-default-background: var(--sg-text-color, var(--theme-code-foreground, var(--jp-content-font-color1, white)));\n",
              "    --sklearn-color-background: var(--sg-background-color, var(--theme-background, var(--jp-layout-color0, #111)));\n",
              "    --sklearn-color-border-box: var(--sg-text-color, var(--theme-code-foreground, var(--jp-content-font-color1, white)));\n",
              "    --sklearn-color-icon: #878787;\n",
              "  }\n",
              "}\n",
              "\n",
              "#sk-container-id-2 {\n",
              "  color: var(--sklearn-color-text);\n",
              "}\n",
              "\n",
              "#sk-container-id-2 pre {\n",
              "  padding: 0;\n",
              "}\n",
              "\n",
              "#sk-container-id-2 input.sk-hidden--visually {\n",
              "  border: 0;\n",
              "  clip: rect(1px 1px 1px 1px);\n",
              "  clip: rect(1px, 1px, 1px, 1px);\n",
              "  height: 1px;\n",
              "  margin: -1px;\n",
              "  overflow: hidden;\n",
              "  padding: 0;\n",
              "  position: absolute;\n",
              "  width: 1px;\n",
              "}\n",
              "\n",
              "#sk-container-id-2 div.sk-dashed-wrapped {\n",
              "  border: 1px dashed var(--sklearn-color-line);\n",
              "  margin: 0 0.4em 0.5em 0.4em;\n",
              "  box-sizing: border-box;\n",
              "  padding-bottom: 0.4em;\n",
              "  background-color: var(--sklearn-color-background);\n",
              "}\n",
              "\n",
              "#sk-container-id-2 div.sk-container {\n",
              "  /* jupyter's `normalize.less` sets `[hidden] { display: none; }`\n",
              "     but bootstrap.min.css set `[hidden] { display: none !important; }`\n",
              "     so we also need the `!important` here to be able to override the\n",
              "     default hidden behavior on the sphinx rendered scikit-learn.org.\n",
              "     See: https://github.com/scikit-learn/scikit-learn/issues/21755 */\n",
              "  display: inline-block !important;\n",
              "  position: relative;\n",
              "}\n",
              "\n",
              "#sk-container-id-2 div.sk-text-repr-fallback {\n",
              "  display: none;\n",
              "}\n",
              "\n",
              "div.sk-parallel-item,\n",
              "div.sk-serial,\n",
              "div.sk-item {\n",
              "  /* draw centered vertical line to link estimators */\n",
              "  background-image: linear-gradient(var(--sklearn-color-text-on-default-background), var(--sklearn-color-text-on-default-background));\n",
              "  background-size: 2px 100%;\n",
              "  background-repeat: no-repeat;\n",
              "  background-position: center center;\n",
              "}\n",
              "\n",
              "/* Parallel-specific style estimator block */\n",
              "\n",
              "#sk-container-id-2 div.sk-parallel-item::after {\n",
              "  content: \"\";\n",
              "  width: 100%;\n",
              "  border-bottom: 2px solid var(--sklearn-color-text-on-default-background);\n",
              "  flex-grow: 1;\n",
              "}\n",
              "\n",
              "#sk-container-id-2 div.sk-parallel {\n",
              "  display: flex;\n",
              "  align-items: stretch;\n",
              "  justify-content: center;\n",
              "  background-color: var(--sklearn-color-background);\n",
              "  position: relative;\n",
              "}\n",
              "\n",
              "#sk-container-id-2 div.sk-parallel-item {\n",
              "  display: flex;\n",
              "  flex-direction: column;\n",
              "}\n",
              "\n",
              "#sk-container-id-2 div.sk-parallel-item:first-child::after {\n",
              "  align-self: flex-end;\n",
              "  width: 50%;\n",
              "}\n",
              "\n",
              "#sk-container-id-2 div.sk-parallel-item:last-child::after {\n",
              "  align-self: flex-start;\n",
              "  width: 50%;\n",
              "}\n",
              "\n",
              "#sk-container-id-2 div.sk-parallel-item:only-child::after {\n",
              "  width: 0;\n",
              "}\n",
              "\n",
              "/* Serial-specific style estimator block */\n",
              "\n",
              "#sk-container-id-2 div.sk-serial {\n",
              "  display: flex;\n",
              "  flex-direction: column;\n",
              "  align-items: center;\n",
              "  background-color: var(--sklearn-color-background);\n",
              "  padding-right: 1em;\n",
              "  padding-left: 1em;\n",
              "}\n",
              "\n",
              "\n",
              "/* Toggleable style: style used for estimator/Pipeline/ColumnTransformer box that is\n",
              "clickable and can be expanded/collapsed.\n",
              "- Pipeline and ColumnTransformer use this feature and define the default style\n",
              "- Estimators will overwrite some part of the style using the `sk-estimator` class\n",
              "*/\n",
              "\n",
              "/* Pipeline and ColumnTransformer style (default) */\n",
              "\n",
              "#sk-container-id-2 div.sk-toggleable {\n",
              "  /* Default theme specific background. It is overwritten whether we have a\n",
              "  specific estimator or a Pipeline/ColumnTransformer */\n",
              "  background-color: var(--sklearn-color-background);\n",
              "}\n",
              "\n",
              "/* Toggleable label */\n",
              "#sk-container-id-2 label.sk-toggleable__label {\n",
              "  cursor: pointer;\n",
              "  display: flex;\n",
              "  width: 100%;\n",
              "  margin-bottom: 0;\n",
              "  padding: 0.5em;\n",
              "  box-sizing: border-box;\n",
              "  text-align: center;\n",
              "  align-items: start;\n",
              "  justify-content: space-between;\n",
              "  gap: 0.5em;\n",
              "}\n",
              "\n",
              "#sk-container-id-2 label.sk-toggleable__label .caption {\n",
              "  font-size: 0.6rem;\n",
              "  font-weight: lighter;\n",
              "  color: var(--sklearn-color-text-muted);\n",
              "}\n",
              "\n",
              "#sk-container-id-2 label.sk-toggleable__label-arrow:before {\n",
              "  /* Arrow on the left of the label */\n",
              "  content: \"▸\";\n",
              "  float: left;\n",
              "  margin-right: 0.25em;\n",
              "  color: var(--sklearn-color-icon);\n",
              "}\n",
              "\n",
              "#sk-container-id-2 label.sk-toggleable__label-arrow:hover:before {\n",
              "  color: var(--sklearn-color-text);\n",
              "}\n",
              "\n",
              "/* Toggleable content - dropdown */\n",
              "\n",
              "#sk-container-id-2 div.sk-toggleable__content {\n",
              "  display: none;\n",
              "  text-align: left;\n",
              "  /* unfitted */\n",
              "  background-color: var(--sklearn-color-unfitted-level-0);\n",
              "}\n",
              "\n",
              "#sk-container-id-2 div.sk-toggleable__content.fitted {\n",
              "  /* fitted */\n",
              "  background-color: var(--sklearn-color-fitted-level-0);\n",
              "}\n",
              "\n",
              "#sk-container-id-2 div.sk-toggleable__content pre {\n",
              "  margin: 0.2em;\n",
              "  border-radius: 0.25em;\n",
              "  color: var(--sklearn-color-text);\n",
              "  /* unfitted */\n",
              "  background-color: var(--sklearn-color-unfitted-level-0);\n",
              "}\n",
              "\n",
              "#sk-container-id-2 div.sk-toggleable__content.fitted pre {\n",
              "  /* unfitted */\n",
              "  background-color: var(--sklearn-color-fitted-level-0);\n",
              "}\n",
              "\n",
              "#sk-container-id-2 input.sk-toggleable__control:checked~div.sk-toggleable__content {\n",
              "  /* Expand drop-down */\n",
              "  display: block;\n",
              "  width: 100%;\n",
              "  overflow: visible;\n",
              "}\n",
              "\n",
              "#sk-container-id-2 input.sk-toggleable__control:checked~label.sk-toggleable__label-arrow:before {\n",
              "  content: \"▾\";\n",
              "}\n",
              "\n",
              "/* Pipeline/ColumnTransformer-specific style */\n",
              "\n",
              "#sk-container-id-2 div.sk-label input.sk-toggleable__control:checked~label.sk-toggleable__label {\n",
              "  color: var(--sklearn-color-text);\n",
              "  background-color: var(--sklearn-color-unfitted-level-2);\n",
              "}\n",
              "\n",
              "#sk-container-id-2 div.sk-label.fitted input.sk-toggleable__control:checked~label.sk-toggleable__label {\n",
              "  background-color: var(--sklearn-color-fitted-level-2);\n",
              "}\n",
              "\n",
              "/* Estimator-specific style */\n",
              "\n",
              "/* Colorize estimator box */\n",
              "#sk-container-id-2 div.sk-estimator input.sk-toggleable__control:checked~label.sk-toggleable__label {\n",
              "  /* unfitted */\n",
              "  background-color: var(--sklearn-color-unfitted-level-2);\n",
              "}\n",
              "\n",
              "#sk-container-id-2 div.sk-estimator.fitted input.sk-toggleable__control:checked~label.sk-toggleable__label {\n",
              "  /* fitted */\n",
              "  background-color: var(--sklearn-color-fitted-level-2);\n",
              "}\n",
              "\n",
              "#sk-container-id-2 div.sk-label label.sk-toggleable__label,\n",
              "#sk-container-id-2 div.sk-label label {\n",
              "  /* The background is the default theme color */\n",
              "  color: var(--sklearn-color-text-on-default-background);\n",
              "}\n",
              "\n",
              "/* On hover, darken the color of the background */\n",
              "#sk-container-id-2 div.sk-label:hover label.sk-toggleable__label {\n",
              "  color: var(--sklearn-color-text);\n",
              "  background-color: var(--sklearn-color-unfitted-level-2);\n",
              "}\n",
              "\n",
              "/* Label box, darken color on hover, fitted */\n",
              "#sk-container-id-2 div.sk-label.fitted:hover label.sk-toggleable__label.fitted {\n",
              "  color: var(--sklearn-color-text);\n",
              "  background-color: var(--sklearn-color-fitted-level-2);\n",
              "}\n",
              "\n",
              "/* Estimator label */\n",
              "\n",
              "#sk-container-id-2 div.sk-label label {\n",
              "  font-family: monospace;\n",
              "  font-weight: bold;\n",
              "  display: inline-block;\n",
              "  line-height: 1.2em;\n",
              "}\n",
              "\n",
              "#sk-container-id-2 div.sk-label-container {\n",
              "  text-align: center;\n",
              "}\n",
              "\n",
              "/* Estimator-specific */\n",
              "#sk-container-id-2 div.sk-estimator {\n",
              "  font-family: monospace;\n",
              "  border: 1px dotted var(--sklearn-color-border-box);\n",
              "  border-radius: 0.25em;\n",
              "  box-sizing: border-box;\n",
              "  margin-bottom: 0.5em;\n",
              "  /* unfitted */\n",
              "  background-color: var(--sklearn-color-unfitted-level-0);\n",
              "}\n",
              "\n",
              "#sk-container-id-2 div.sk-estimator.fitted {\n",
              "  /* fitted */\n",
              "  background-color: var(--sklearn-color-fitted-level-0);\n",
              "}\n",
              "\n",
              "/* on hover */\n",
              "#sk-container-id-2 div.sk-estimator:hover {\n",
              "  /* unfitted */\n",
              "  background-color: var(--sklearn-color-unfitted-level-2);\n",
              "}\n",
              "\n",
              "#sk-container-id-2 div.sk-estimator.fitted:hover {\n",
              "  /* fitted */\n",
              "  background-color: var(--sklearn-color-fitted-level-2);\n",
              "}\n",
              "\n",
              "/* Specification for estimator info (e.g. \"i\" and \"?\") */\n",
              "\n",
              "/* Common style for \"i\" and \"?\" */\n",
              "\n",
              ".sk-estimator-doc-link,\n",
              "a:link.sk-estimator-doc-link,\n",
              "a:visited.sk-estimator-doc-link {\n",
              "  float: right;\n",
              "  font-size: smaller;\n",
              "  line-height: 1em;\n",
              "  font-family: monospace;\n",
              "  background-color: var(--sklearn-color-background);\n",
              "  border-radius: 1em;\n",
              "  height: 1em;\n",
              "  width: 1em;\n",
              "  text-decoration: none !important;\n",
              "  margin-left: 0.5em;\n",
              "  text-align: center;\n",
              "  /* unfitted */\n",
              "  border: var(--sklearn-color-unfitted-level-1) 1pt solid;\n",
              "  color: var(--sklearn-color-unfitted-level-1);\n",
              "}\n",
              "\n",
              ".sk-estimator-doc-link.fitted,\n",
              "a:link.sk-estimator-doc-link.fitted,\n",
              "a:visited.sk-estimator-doc-link.fitted {\n",
              "  /* fitted */\n",
              "  border: var(--sklearn-color-fitted-level-1) 1pt solid;\n",
              "  color: var(--sklearn-color-fitted-level-1);\n",
              "}\n",
              "\n",
              "/* On hover */\n",
              "div.sk-estimator:hover .sk-estimator-doc-link:hover,\n",
              ".sk-estimator-doc-link:hover,\n",
              "div.sk-label-container:hover .sk-estimator-doc-link:hover,\n",
              ".sk-estimator-doc-link:hover {\n",
              "  /* unfitted */\n",
              "  background-color: var(--sklearn-color-unfitted-level-3);\n",
              "  color: var(--sklearn-color-background);\n",
              "  text-decoration: none;\n",
              "}\n",
              "\n",
              "div.sk-estimator.fitted:hover .sk-estimator-doc-link.fitted:hover,\n",
              ".sk-estimator-doc-link.fitted:hover,\n",
              "div.sk-label-container:hover .sk-estimator-doc-link.fitted:hover,\n",
              ".sk-estimator-doc-link.fitted:hover {\n",
              "  /* fitted */\n",
              "  background-color: var(--sklearn-color-fitted-level-3);\n",
              "  color: var(--sklearn-color-background);\n",
              "  text-decoration: none;\n",
              "}\n",
              "\n",
              "/* Span, style for the box shown on hovering the info icon */\n",
              ".sk-estimator-doc-link span {\n",
              "  display: none;\n",
              "  z-index: 9999;\n",
              "  position: relative;\n",
              "  font-weight: normal;\n",
              "  right: .2ex;\n",
              "  padding: .5ex;\n",
              "  margin: .5ex;\n",
              "  width: min-content;\n",
              "  min-width: 20ex;\n",
              "  max-width: 50ex;\n",
              "  color: var(--sklearn-color-text);\n",
              "  box-shadow: 2pt 2pt 4pt #999;\n",
              "  /* unfitted */\n",
              "  background: var(--sklearn-color-unfitted-level-0);\n",
              "  border: .5pt solid var(--sklearn-color-unfitted-level-3);\n",
              "}\n",
              "\n",
              ".sk-estimator-doc-link.fitted span {\n",
              "  /* fitted */\n",
              "  background: var(--sklearn-color-fitted-level-0);\n",
              "  border: var(--sklearn-color-fitted-level-3);\n",
              "}\n",
              "\n",
              ".sk-estimator-doc-link:hover span {\n",
              "  display: block;\n",
              "}\n",
              "\n",
              "/* \"?\"-specific style due to the `<a>` HTML tag */\n",
              "\n",
              "#sk-container-id-2 a.estimator_doc_link {\n",
              "  float: right;\n",
              "  font-size: 1rem;\n",
              "  line-height: 1em;\n",
              "  font-family: monospace;\n",
              "  background-color: var(--sklearn-color-background);\n",
              "  border-radius: 1rem;\n",
              "  height: 1rem;\n",
              "  width: 1rem;\n",
              "  text-decoration: none;\n",
              "  /* unfitted */\n",
              "  color: var(--sklearn-color-unfitted-level-1);\n",
              "  border: var(--sklearn-color-unfitted-level-1) 1pt solid;\n",
              "}\n",
              "\n",
              "#sk-container-id-2 a.estimator_doc_link.fitted {\n",
              "  /* fitted */\n",
              "  border: var(--sklearn-color-fitted-level-1) 1pt solid;\n",
              "  color: var(--sklearn-color-fitted-level-1);\n",
              "}\n",
              "\n",
              "/* On hover */\n",
              "#sk-container-id-2 a.estimator_doc_link:hover {\n",
              "  /* unfitted */\n",
              "  background-color: var(--sklearn-color-unfitted-level-3);\n",
              "  color: var(--sklearn-color-background);\n",
              "  text-decoration: none;\n",
              "}\n",
              "\n",
              "#sk-container-id-2 a.estimator_doc_link.fitted:hover {\n",
              "  /* fitted */\n",
              "  background-color: var(--sklearn-color-fitted-level-3);\n",
              "}\n",
              "\n",
              ".estimator-table summary {\n",
              "    padding: .5rem;\n",
              "    font-family: monospace;\n",
              "    cursor: pointer;\n",
              "}\n",
              "\n",
              ".estimator-table details[open] {\n",
              "    padding-left: 0.1rem;\n",
              "    padding-right: 0.1rem;\n",
              "    padding-bottom: 0.3rem;\n",
              "}\n",
              "\n",
              ".estimator-table .parameters-table {\n",
              "    margin-left: auto !important;\n",
              "    margin-right: auto !important;\n",
              "}\n",
              "\n",
              ".estimator-table .parameters-table tr:nth-child(odd) {\n",
              "    background-color: #fff;\n",
              "}\n",
              "\n",
              ".estimator-table .parameters-table tr:nth-child(even) {\n",
              "    background-color: #f6f6f6;\n",
              "}\n",
              "\n",
              ".estimator-table .parameters-table tr:hover {\n",
              "    background-color: #e0e0e0;\n",
              "}\n",
              "\n",
              ".estimator-table table td {\n",
              "    border: 1px solid rgba(106, 105, 104, 0.232);\n",
              "}\n",
              "\n",
              ".user-set td {\n",
              "    color:rgb(255, 94, 0);\n",
              "    text-align: left;\n",
              "}\n",
              "\n",
              ".user-set td.value pre {\n",
              "    color:rgb(255, 94, 0) !important;\n",
              "    background-color: transparent !important;\n",
              "}\n",
              "\n",
              ".default td {\n",
              "    color: black;\n",
              "    text-align: left;\n",
              "}\n",
              "\n",
              ".user-set td i,\n",
              ".default td i {\n",
              "    color: black;\n",
              "}\n",
              "\n",
              ".copy-paste-icon {\n",
              "    background-image: url(data:image/svg+xml;base64,PHN2ZyB4bWxucz0iaHR0cDovL3d3dy53My5vcmcvMjAwMC9zdmciIHZpZXdCb3g9IjAgMCA0NDggNTEyIj48IS0tIUZvbnQgQXdlc29tZSBGcmVlIDYuNy4yIGJ5IEBmb250YXdlc29tZSAtIGh0dHBzOi8vZm9udGF3ZXNvbWUuY29tIExpY2Vuc2UgLSBodHRwczovL2ZvbnRhd2Vzb21lLmNvbS9saWNlbnNlL2ZyZWUgQ29weXJpZ2h0IDIwMjUgRm9udGljb25zLCBJbmMuLS0+PHBhdGggZD0iTTIwOCAwTDMzMi4xIDBjMTIuNyAwIDI0LjkgNS4xIDMzLjkgMTQuMWw2Ny45IDY3LjljOSA5IDE0LjEgMjEuMiAxNC4xIDMzLjlMNDQ4IDMzNmMwIDI2LjUtMjEuNSA0OC00OCA0OGwtMTkyIDBjLTI2LjUgMC00OC0yMS41LTQ4LTQ4bDAtMjg4YzAtMjYuNSAyMS41LTQ4IDQ4LTQ4ek00OCAxMjhsODAgMCAwIDY0LTY0IDAgMCAyNTYgMTkyIDAgMC0zMiA2NCAwIDAgNDhjMCAyNi41LTIxLjUgNDgtNDggNDhMNDggNTEyYy0yNi41IDAtNDgtMjEuNS00OC00OEwwIDE3NmMwLTI2LjUgMjEuNS00OCA0OC00OHoiLz48L3N2Zz4=);\n",
              "    background-repeat: no-repeat;\n",
              "    background-size: 14px 14px;\n",
              "    background-position: 0;\n",
              "    display: inline-block;\n",
              "    width: 14px;\n",
              "    height: 14px;\n",
              "    cursor: pointer;\n",
              "}\n",
              "</style><body><div id=\"sk-container-id-2\" class=\"sk-top-container\"><div class=\"sk-text-repr-fallback\"><pre>LogisticRegression(random_state=42, solver=&#x27;liblinear&#x27;)</pre><b>In a Jupyter environment, please rerun this cell to show the HTML representation or trust the notebook. <br />On GitHub, the HTML representation is unable to render, please try loading this page with nbviewer.org.</b></div><div class=\"sk-container\" hidden><div class=\"sk-item\"><div class=\"sk-estimator fitted sk-toggleable\"><input class=\"sk-toggleable__control sk-hidden--visually\" id=\"sk-estimator-id-2\" type=\"checkbox\" checked><label for=\"sk-estimator-id-2\" class=\"sk-toggleable__label fitted sk-toggleable__label-arrow\"><div><div>LogisticRegression</div></div><div><a class=\"sk-estimator-doc-link fitted\" rel=\"noreferrer\" target=\"_blank\" href=\"https://scikit-learn.org/1.7/modules/generated/sklearn.linear_model.LogisticRegression.html\">?<span>Documentation for LogisticRegression</span></a><span class=\"sk-estimator-doc-link fitted\">i<span>Fitted</span></span></div></label><div class=\"sk-toggleable__content fitted\" data-param-prefix=\"\">\n",
              "        <div class=\"estimator-table\">\n",
              "            <details>\n",
              "                <summary>Parameters</summary>\n",
              "                <table class=\"parameters-table\">\n",
              "                  <tbody>\n",
              "                    \n",
              "        <tr class=\"default\">\n",
              "            <td><i class=\"copy-paste-icon\"\n",
              "                 onclick=\"copyToClipboard('penalty',\n",
              "                          this.parentElement.nextElementSibling)\"\n",
              "            ></i></td>\n",
              "            <td class=\"param\">penalty&nbsp;</td>\n",
              "            <td class=\"value\">&#x27;l2&#x27;</td>\n",
              "        </tr>\n",
              "    \n",
              "\n",
              "        <tr class=\"default\">\n",
              "            <td><i class=\"copy-paste-icon\"\n",
              "                 onclick=\"copyToClipboard('dual',\n",
              "                          this.parentElement.nextElementSibling)\"\n",
              "            ></i></td>\n",
              "            <td class=\"param\">dual&nbsp;</td>\n",
              "            <td class=\"value\">False</td>\n",
              "        </tr>\n",
              "    \n",
              "\n",
              "        <tr class=\"default\">\n",
              "            <td><i class=\"copy-paste-icon\"\n",
              "                 onclick=\"copyToClipboard('tol',\n",
              "                          this.parentElement.nextElementSibling)\"\n",
              "            ></i></td>\n",
              "            <td class=\"param\">tol&nbsp;</td>\n",
              "            <td class=\"value\">0.0001</td>\n",
              "        </tr>\n",
              "    \n",
              "\n",
              "        <tr class=\"default\">\n",
              "            <td><i class=\"copy-paste-icon\"\n",
              "                 onclick=\"copyToClipboard('C',\n",
              "                          this.parentElement.nextElementSibling)\"\n",
              "            ></i></td>\n",
              "            <td class=\"param\">C&nbsp;</td>\n",
              "            <td class=\"value\">1.0</td>\n",
              "        </tr>\n",
              "    \n",
              "\n",
              "        <tr class=\"default\">\n",
              "            <td><i class=\"copy-paste-icon\"\n",
              "                 onclick=\"copyToClipboard('fit_intercept',\n",
              "                          this.parentElement.nextElementSibling)\"\n",
              "            ></i></td>\n",
              "            <td class=\"param\">fit_intercept&nbsp;</td>\n",
              "            <td class=\"value\">True</td>\n",
              "        </tr>\n",
              "    \n",
              "\n",
              "        <tr class=\"default\">\n",
              "            <td><i class=\"copy-paste-icon\"\n",
              "                 onclick=\"copyToClipboard('intercept_scaling',\n",
              "                          this.parentElement.nextElementSibling)\"\n",
              "            ></i></td>\n",
              "            <td class=\"param\">intercept_scaling&nbsp;</td>\n",
              "            <td class=\"value\">1</td>\n",
              "        </tr>\n",
              "    \n",
              "\n",
              "        <tr class=\"default\">\n",
              "            <td><i class=\"copy-paste-icon\"\n",
              "                 onclick=\"copyToClipboard('class_weight',\n",
              "                          this.parentElement.nextElementSibling)\"\n",
              "            ></i></td>\n",
              "            <td class=\"param\">class_weight&nbsp;</td>\n",
              "            <td class=\"value\">None</td>\n",
              "        </tr>\n",
              "    \n",
              "\n",
              "        <tr class=\"user-set\">\n",
              "            <td><i class=\"copy-paste-icon\"\n",
              "                 onclick=\"copyToClipboard('random_state',\n",
              "                          this.parentElement.nextElementSibling)\"\n",
              "            ></i></td>\n",
              "            <td class=\"param\">random_state&nbsp;</td>\n",
              "            <td class=\"value\">42</td>\n",
              "        </tr>\n",
              "    \n",
              "\n",
              "        <tr class=\"user-set\">\n",
              "            <td><i class=\"copy-paste-icon\"\n",
              "                 onclick=\"copyToClipboard('solver',\n",
              "                          this.parentElement.nextElementSibling)\"\n",
              "            ></i></td>\n",
              "            <td class=\"param\">solver&nbsp;</td>\n",
              "            <td class=\"value\">&#x27;liblinear&#x27;</td>\n",
              "        </tr>\n",
              "    \n",
              "\n",
              "        <tr class=\"default\">\n",
              "            <td><i class=\"copy-paste-icon\"\n",
              "                 onclick=\"copyToClipboard('max_iter',\n",
              "                          this.parentElement.nextElementSibling)\"\n",
              "            ></i></td>\n",
              "            <td class=\"param\">max_iter&nbsp;</td>\n",
              "            <td class=\"value\">100</td>\n",
              "        </tr>\n",
              "    \n",
              "\n",
              "        <tr class=\"default\">\n",
              "            <td><i class=\"copy-paste-icon\"\n",
              "                 onclick=\"copyToClipboard('multi_class',\n",
              "                          this.parentElement.nextElementSibling)\"\n",
              "            ></i></td>\n",
              "            <td class=\"param\">multi_class&nbsp;</td>\n",
              "            <td class=\"value\">&#x27;deprecated&#x27;</td>\n",
              "        </tr>\n",
              "    \n",
              "\n",
              "        <tr class=\"default\">\n",
              "            <td><i class=\"copy-paste-icon\"\n",
              "                 onclick=\"copyToClipboard('verbose',\n",
              "                          this.parentElement.nextElementSibling)\"\n",
              "            ></i></td>\n",
              "            <td class=\"param\">verbose&nbsp;</td>\n",
              "            <td class=\"value\">0</td>\n",
              "        </tr>\n",
              "    \n",
              "\n",
              "        <tr class=\"default\">\n",
              "            <td><i class=\"copy-paste-icon\"\n",
              "                 onclick=\"copyToClipboard('warm_start',\n",
              "                          this.parentElement.nextElementSibling)\"\n",
              "            ></i></td>\n",
              "            <td class=\"param\">warm_start&nbsp;</td>\n",
              "            <td class=\"value\">False</td>\n",
              "        </tr>\n",
              "    \n",
              "\n",
              "        <tr class=\"default\">\n",
              "            <td><i class=\"copy-paste-icon\"\n",
              "                 onclick=\"copyToClipboard('n_jobs',\n",
              "                          this.parentElement.nextElementSibling)\"\n",
              "            ></i></td>\n",
              "            <td class=\"param\">n_jobs&nbsp;</td>\n",
              "            <td class=\"value\">None</td>\n",
              "        </tr>\n",
              "    \n",
              "\n",
              "        <tr class=\"default\">\n",
              "            <td><i class=\"copy-paste-icon\"\n",
              "                 onclick=\"copyToClipboard('l1_ratio',\n",
              "                          this.parentElement.nextElementSibling)\"\n",
              "            ></i></td>\n",
              "            <td class=\"param\">l1_ratio&nbsp;</td>\n",
              "            <td class=\"value\">None</td>\n",
              "        </tr>\n",
              "    \n",
              "                  </tbody>\n",
              "                </table>\n",
              "            </details>\n",
              "        </div>\n",
              "    </div></div></div></div></div><script>function copyToClipboard(text, element) {\n",
              "    // Get the parameter prefix from the closest toggleable content\n",
              "    const toggleableContent = element.closest('.sk-toggleable__content');\n",
              "    const paramPrefix = toggleableContent ? toggleableContent.dataset.paramPrefix : '';\n",
              "    const fullParamName = paramPrefix ? `${paramPrefix}${text}` : text;\n",
              "\n",
              "    const originalStyle = element.style;\n",
              "    const computedStyle = window.getComputedStyle(element);\n",
              "    const originalWidth = computedStyle.width;\n",
              "    const originalHTML = element.innerHTML.replace('Copied!', '');\n",
              "\n",
              "    navigator.clipboard.writeText(fullParamName)\n",
              "        .then(() => {\n",
              "            element.style.width = originalWidth;\n",
              "            element.style.color = 'green';\n",
              "            element.innerHTML = \"Copied!\";\n",
              "\n",
              "            setTimeout(() => {\n",
              "                element.innerHTML = originalHTML;\n",
              "                element.style = originalStyle;\n",
              "            }, 2000);\n",
              "        })\n",
              "        .catch(err => {\n",
              "            console.error('Failed to copy:', err);\n",
              "            element.style.color = 'red';\n",
              "            element.innerHTML = \"Failed!\";\n",
              "            setTimeout(() => {\n",
              "                element.innerHTML = originalHTML;\n",
              "                element.style = originalStyle;\n",
              "            }, 2000);\n",
              "        });\n",
              "    return false;\n",
              "}\n",
              "\n",
              "document.querySelectorAll('.fa-regular.fa-copy').forEach(function(element) {\n",
              "    const toggleableContent = element.closest('.sk-toggleable__content');\n",
              "    const paramPrefix = toggleableContent ? toggleableContent.dataset.paramPrefix : '';\n",
              "    const paramName = element.parentElement.nextElementSibling.textContent.trim();\n",
              "    const fullParamName = paramPrefix ? `${paramPrefix}${paramName}` : paramName;\n",
              "\n",
              "    element.setAttribute('title', fullParamName);\n",
              "});\n",
              "</script></body>"
            ],
            "text/plain": [
              "LogisticRegression(random_state=42, solver='liblinear')"
            ]
          },
          "execution_count": 55,
          "metadata": {},
          "output_type": "execute_result"
        }
      ],
      "source": [
        "# Обучаем LogisticRegression на Word2Vec векторах\n",
        "print(\"\\nОбучаем Logistic Regression на Word2Vec...\")\n",
        "\n",
        "lr_w2v = LogisticRegression(\n",
        "    C=1.0,\n",
        "    solver='liblinear',\n",
        "    random_state=42\n",
        ")\n",
        "\n",
        "lr_w2v.fit(X_train_w2v, y_train)"
      ]
    },
    {
      "cell_type": "code",
      "execution_count": 56,
      "metadata": {},
      "outputs": [],
      "source": [
        "# Предсказания\n",
        "y_pred_w2v = lr_w2v.predict(X_test_w2v)"
      ]
    },
    {
      "cell_type": "code",
      "execution_count": 57,
      "metadata": {},
      "outputs": [],
      "source": [
        "# Метрики\n",
        "accuracy_w2v = accuracy_score(y_test, y_pred_w2v)\n",
        "precision_w2v = precision_score(y_test, y_pred_w2v)\n",
        "recall_w2v = recall_score(y_test, y_pred_w2v)\n",
        "f1_w2v = f1_score(y_test, y_pred_w2v)"
      ]
    },
    {
      "cell_type": "code",
      "execution_count": 58,
      "metadata": {},
      "outputs": [
        {
          "name": "stdout",
          "output_type": "stream",
          "text": [
            "\n",
            "Результаты Word2Vec + LogisticRegression:\n",
            "Accuracy:  0.937\n",
            "Precision: 0.952\n",
            "Recall:    0.975\n",
            "F1-score:  0.963\n"
          ]
        }
      ],
      "source": [
        "print(f\"\\nРезультаты Word2Vec + LogisticRegression:\")\n",
        "print(f\"Accuracy:  {accuracy_w2v:.3f}\")\n",
        "print(f\"Precision: {precision_w2v:.3f}\")\n",
        "print(f\"Recall:    {recall_w2v:.3f}\")\n",
        "print(f\"F1-score:  {f1_w2v:.3f}\")"
      ]
    },
    {
      "cell_type": "code",
      "execution_count": 59,
      "metadata": {},
      "outputs": [
        {
          "name": "stdout",
          "output_type": "stream",
          "text": [
            "Точность на негативных отзывах:  0.718\n"
          ]
        }
      ],
      "source": [
        "# Confusion Matrix\n",
        "cm_w2v = confusion_matrix(y_test, y_pred_w2v)\n",
        "\n",
        "print(f\"Точность на негативных отзывах:  {cm_w2v[0,0] / (cm_w2v[0,1] + cm_w2v[0,0]):.3f}\")"
      ]
    },
    {
      "cell_type": "code",
      "execution_count": 60,
      "metadata": {
        "colab": {
          "base_uri": "https://localhost:8080/",
          "height": 675,
          "referenced_widgets": [
            "fda3eb13cae04983a075016770c72884",
            "36ec30928a2e4494b78c1981bc404699",
            "033b30da8d0441999c1cf834c1a4531a",
            "e1c0089538754b8aa1b923d80da6cfdb",
            "9652b7c0b6a545b3be6ab951bff9c116",
            "ab342e7a8ec64e9698f11bdec8d6da4b",
            "6f45872ae1e14313ab1ce0da6f6f10d6",
            "c01f64db7ee34f6ea4139c572ac55c0e",
            "b2b808e5f24340a4abfa3c223c873497",
            "0d0b3319656d463cb23351a460fff80c",
            "0500d213330a4d94939106775e756d5a",
            "335ce13219d04a8b9d49637457d6447e",
            "07b65d70eb3a453ba74af3fd1c43b6c7",
            "18bb2b6ed593430ab377a59268e1df75",
            "02adc07855e94fd191d9d6dbb3d5c3ac",
            "a1ab201ad8b9467a96ad1308e79fb1b6",
            "6eca676c5a8e421bb2fce3670b2a3d0c",
            "456aeced8bb64a16837d10a8eefd6cfa",
            "3ba5f9557ecf41dba913a150d8f00d10",
            "299b8d1a10594c5d833057cc24f329b1",
            "ddb534c6d41547c69abf8564767f0cea",
            "b0f47ed35afc496883ab5886eeb16cf6"
          ]
        },
        "id": "1VgOHd55O-Ke",
        "outputId": "48397f7b-4c3f-4bbb-b982-35b74b4a01cb"
      },
      "outputs": [
        {
          "data": {
            "image/png": "[encoded data removed]",
            "text/plain": [
              "<Figure size 600x400 with 2 Axes>"
            ]
          },
          "metadata": {},
          "output_type": "display_data"
        }
      ],
      "source": [
        "plt.figure(figsize=(6, 4))\n",
        "sns.heatmap(cm_w2v, annot=True, fmt='d', cmap='Greens',\n",
        "            xticklabels=['Негативный', 'Позитивный'],\n",
        "            yticklabels=['Негативный', 'Позитивный'])\n",
        "plt.title('Confusion Matrix: Word2Vec + LogisticRegression')\n",
        "plt.ylabel('Истинные метки')\n",
        "plt.xlabel('Предсказанные метки')\n",
        "plt.show()"
      ]
    },
    {
      "cell_type": "markdown",
      "metadata": {
        "id": "OGOUgMFqO-Ke"
      },
      "source": [
        "-----\n",
        "\n",
        "### **6. Сравнение методов**\n",
        "\n",
        "Мы сравним результаты двух подходов по ключевым метрикам."
      ]
    },
    {
      "cell_type": "code",
      "execution_count": 61,
      "metadata": {},
      "outputs": [
        {
          "name": "stdout",
          "output_type": "stream",
          "text": [
            "\n",
            "Сравнительная таблица метрик:\n",
            "            Метод  Accuracy  Precision  Recall  F1-Score\n",
            "  TF-IDF + LogReg  0.934093   0.947041 0.97726  0.961913\n",
            "Word2Vec + LogReg  0.936905   0.952014 0.97506  0.963399\n"
          ]
        }
      ],
      "source": [
        "# Создаём сравнительную таблицу\n",
        "comparison_df = pd.DataFrame({\n",
        "    'Метод': ['TF-IDF + LogReg', 'Word2Vec + LogReg'],\n",
        "    'Accuracy': [accuracy_tfidf, accuracy_w2v],\n",
        "    'Precision': [precision_tfidf, precision_w2v],\n",
        "    'Recall': [recall_tfidf, recall_w2v],\n",
        "    'F1-Score': [f1_tfidf, f1_w2v]\n",
        "})\n",
        "\n",
        "print(\"\\nСравнительная таблица метрик:\")\n",
        "print(comparison_df.to_string(index=False))"
      ]
    },
    {
      "cell_type": "code",
      "execution_count": 63,
      "metadata": {},
      "outputs": [
        {
          "data": {
            "image/png": "[encoded data removed]",
            "text/plain": [
              "<Figure size 1000x600 with 1 Axes>"
            ]
          },
          "metadata": {},
          "output_type": "display_data"
        }
      ],
      "source": [
        "# Визуализация сравнения\n",
        "fig, ax = plt.subplots(figsize=(10, 6))\n",
        "\n",
        "x = np.arange(len(comparison_df.columns[1:]))\n",
        "width = 0.35\n",
        "\n",
        "bars1 = ax.bar(x - width/2, comparison_df.iloc[0, 1:], width,\n",
        "               label='TF-IDF + LogReg', color='skyblue')\n",
        "bars2 = ax.bar(x + width/2, comparison_df.iloc[1, 1:], width,\n",
        "               label='Word2Vec + LogReg', color='lightgreen')\n",
        "\n",
        "ax.set_xlabel('Метрики')\n",
        "ax.set_ylabel('Значения')\n",
        "ax.set_title('Сравнение методов классификации')\n",
        "ax.set_xticks(x)\n",
        "ax.set_xticklabels(comparison_df.columns[1:])\n",
        "ax.legend()\n",
        "ax.set_ylim([0, 1.1])\n",
        "\n",
        "# Добавляем значения на столбцы\n",
        "for bars in [bars1, bars2]:\n",
        "    for bar in bars:\n",
        "        height = bar.get_height()\n",
        "        ax.annotate(f'{height:.3f}',\n",
        "                    xy=(bar.get_x() + bar.get_width() / 2, height),\n",
        "                    xytext=(0, 3),\n",
        "                    textcoords=\"offset points\",\n",
        "                    ha='center', va='bottom')\n",
        "\n",
        "plt.tight_layout()\n",
        "plt.show()"
      ]
    },
    {
      "cell_type": "code",
      "execution_count": 64,
      "metadata": {},
      "outputs": [
        {
          "name": "stdout",
          "output_type": "stream",
          "text": [
            "\n",
            "Анализ ошибок классификации:\n"
          ]
        }
      ],
      "source": [
        "# Анализ ошибок\n",
        "print(\"\\nАнализ ошибок классификации:\")\n",
        "\n",
        "# Находим индексы неправильных предсказаний\n",
        "errors_tfidf = X_test[y_test != y_pred_tfidf].index\n",
        "errors_w2v = X_test[y_test != y_pred_w2v].index"
      ]
    },
    {
      "cell_type": "code",
      "execution_count": 65,
      "metadata": {},
      "outputs": [],
      "source": [
        "# Ошибки только TF-IDF\n",
        "only_tfidf_errors = set(errors_tfidf) - set(errors_w2v)\n",
        "# Ошибки только Word2Vec\n",
        "only_w2v_errors = set(errors_w2v) - set(errors_tfidf)\n",
        "# Общие ошибки\n",
        "common_errors = set(errors_tfidf) & set(errors_w2v)"
      ]
    },
    {
      "cell_type": "code",
      "execution_count": 66,
      "metadata": {},
      "outputs": [
        {
          "name": "stdout",
          "output_type": "stream",
          "text": [
            "\n",
            "Статистика ошибок:\n",
            "Ошибки только TF-IDF: 151\n",
            "Ошибки только Word2Vec: 133\n",
            "Общие ошибки: 271\n"
          ]
        }
      ],
      "source": [
        "print(f\"\\nСтатистика ошибок:\")\n",
        "print(f\"Ошибки только TF-IDF: {len(only_tfidf_errors)}\")\n",
        "print(f\"Ошибки только Word2Vec: {len(only_w2v_errors)}\")\n",
        "print(f\"Общие ошибки: {len(common_errors)}\")"
      ]
    },
    {
      "cell_type": "code",
      "execution_count": 70,
      "metadata": {
        "colab": {
          "base_uri": "https://localhost:8080/",
          "height": 1026
        },
        "id": "18d2DLG9O-Kf",
        "outputId": "fee998e3-4a78-46d8-a4c9-63e1f1c452ea"
      },
      "outputs": [
        {
          "name": "stdout",
          "output_type": "stream",
          "text": [
            "\n",
            "Пример текста, который оба метода классифицировали неправильно:\n",
            "Текст: Однажды, мне в руки попал роман Стивена Кинга «Зеленая Миля». В процессе чтения, я был поражен событиями описанными в романе, всей его контрастностью и эмоциональностью. Читал я его с упоением и на одном дыхании, практически не отрываясь. Спустя довольно короткий промежуток времени, роман был мной вновь прочитан и ощущения после чтения были такими же потрясающими как и в первый раз. В третий раз, я вряд ли буду перечитывать «Зеленую милю» по причине того, что события описанные автором почти на пятистах страницах глубоко засели у меня в памяти и я не вижу смысла освежать их.\n",
            "\n",
            "Спустя какое-то время после повторного прочтения романа «Зеленая миля», мне довелось посмотреть его экранизацию. Просмотр я начал с чувством того, что вот-вот я увижу НАСТОЯЩИЙ ШЕДЕВР (зашкаливающие рейтинги популярности «Зеленой мили», говорили сами за себя), САМУЮ ЛУЧШУЮ ЭКРАНИЗАЦИЮ (по мнению многих зрителей) произведения Короля Ужасов. \n",
            "\n",
            "Но с первых минут просмотра фильма, мой интерес к происходящему на экране начал пропадать. Вместо чувства восторга, которое я ожидал испытать от киносеанса, начало приходить чувство схожее с разочарованием. На экране не происходило ничего такого, что могло вызвать у меня какие-то сильные эмоции или положительные впечатления, а напротив одолевала скука и желание прекратить просмотр становилось все сильнее. И так продолжалось около трех часов. \n",
            "\n",
            "Закончив сеанс, я задумался в чем же дело и почему фильм мне абсолютно не понравился?\n",
            "\n",
            "Все оказалось очень просто. «Зеленая миля», как и большинство фильмов с Томом Хэнксом рассчитаны на широкую аудиторию, чего нельзя сказать о романах Стивена Кинга. Том Хэнкс в каждом из своих фильмов играет на одних и тех же струнках души, как бы цепляя за живое. Он не привносит в фильмы со своим участием ничего нового, а напротив превращает их в «мыльные оперы», так и оставаясь Форрестом Гампом. Из фильма в фильм он играет схожие роли, примеряя одну и ту же надоевшую маску, которая в момент превращает его в героя, являющегося, как правило заложником обстоятельств и стоящего перед не простым выбором.\n",
            "\n",
            "Если отдельно говорить о игре актеров, выдающейся ее назвать нельзя. Том Хэнкс, в роли Форреста Гампа, с единственным отличием, что он облачен в мундир охранника блока смертников, максимально вылизано пересказывает сценарий. Конечно, кто-то может назвать это гениальной игрой актера, но я не вижу здесь ничего особенного, все сыграно так как хотел бы увидеть зритель. Актерская игра Майкла Кларка Дункана, меня тоже не впечатлила, обычное намазывание соплей на объектив, причем сделанное довольно форматно.\n",
            "\n",
            "Несмотря на то, что рейтинг фильма определен, как «R», он не содержит каких-то сверх страшных сцен, которые можно наблюдать в большинстве экранизаций Кинга. Фильм оправдывает свой рейтинг лишь эмоциональной стороной, которая рассчитана на то, что бы выбить у зрителя слезу и заставить его сопереживать несчастному герою.\n",
            "\n",
            "Вместо заключения, мне хочется сказать, что «Зеленая миля»- не самая сильная экранизация романов Короля Ужасов, которая на мой взгляд не заслуживает и половины своего рейтинга популярности. Хотя конечно «популярность» и «качественность», понятия весьма разные.\n",
            "\n",
            "1 из 10\n",
            "Истинная метка: 0\n",
            "TF-IDF предсказал: 1\n",
            "Word2Vec предсказал: 1\n"
          ]
        }
      ],
      "source": [
        "# Примеры ошибок\n",
        "if len(common_errors) > 0:\n",
        "    print(\"\\nПример текста, который оба метода классифицировали неправильно:\")\n",
        "    error_idx = list(common_errors)[7]\n",
        "    print(f\"Текст: {df.loc[error_idx, 'text']}\")\n",
        "    print(f\"Истинная метка: {df.loc[error_idx, 'sentiment']}\")\n",
        "    print(f\"TF-IDF предсказал: {y_pred_tfidf[list(X_test.index).index(error_idx)]}\")\n",
        "    print(f\"Word2Vec предсказал: {y_pred_w2v[list(X_test.index).index(error_idx)]}\")"
      ]
    },
    {
      "cell_type": "markdown",
      "metadata": {
        "id": "-9kMi-6d2DZi"
      },
      "source": [
        "**У нас получилось выделить очень интересный отзыв. Он построен на сарказме, где автор формально хвалит фильм, но делает это через намеренно преувеличенные, абсурдные или двусмысленные формулировки, чтобы высмеять критиков**\n",
        "\n",
        "TF-IDF анализирует частоту ключевых слов, но не их взаимосвязь. Например:\n",
        "Слова «о, ужас!», «заказуха», «антипиар» имеют сильный негативный окрас в лексиконах тональности.\n",
        "Однако в контексте отзыва они служат для защиты фильма («критики — проплаченные, а их претензии смешны»).\n",
        "Модель может пометить отзыв как негативный из-за этих слов, хотя общий смысл — позитивный.\n",
        "\n",
        "Word2Vec:\n",
        "Учитывает контекст близости слов, но не понимает иронию, сарказм и стилистической игры.\n",
        "Также Word2Vec не улавливает интонацию, скобки, восклицания, риторические вопросы — всё это важно для понимания иронии.\n",
        "Векторы слов, которые усредняются на уровне предложений имеют отрицательный окрас, без учета контекста, поэтому и модель определяет комментарий как негативный"
      ]
    },
    {
      "cell_type": "markdown",
      "metadata": {
        "id": "3kD7IlQjO-Kf"
      },
      "source": [
        "-----\n",
        "\n",
        "### **БЛОК 7: Мини-задания для самостоятельной работы**\n",
        "\n",
        "Эта секция содержит идеи для дальнейших экспериментов, чтобы вы могли углубить свои знания и навыки в NLP. Также отсюда можно взять идеи для выполнения домашней работы. Выход за границы ДЗ будет поощряться дополнительными баллами"
      ]
    },
    {
      "cell_type": "markdown",
      "metadata": {
        "id": "ZI29kip__CH6"
      },
      "source": [
        "ЗАДАНИЯ ДЛЯ САМОСТОЯТЕЛЬНОЙ РАБОТЫ:\n",
        "\n",
        "1. ЭКСПЕРИМЕНТ С ПАРАМЕТРАМИ TF-IDF:\n",
        "   - Попробуйте изменить `ngram_range` на `(1,3)` для включения триграмм\n",
        "   - Измените `max_features` на 500 и 2000, сравните результаты\n",
        "   - Отключите удаление стоп-слов и посмотрите, как изменится качество\n",
        "\n",
        "2. ЭКСПЕРИМЕНТ С WORD2VEC:\n",
        "   - Измените размерность векторов (`vector_size`) на 50, 200, 300\n",
        "   - Попробуйте CBOW вместо Skip-gram (`sg=0`)\n",
        "   - Измените размер окна (`window`) на 3, 7, 10\n",
        "\n",
        "3. АЛЬТЕРНАТИВНЫЕ СПОСОБЫ АГРЕГАЦИИ:\n",
        "   - Вместо усреднения попробуйте:\n",
        "     * Взвешенное среднее по TF-IDF весам\n",
        "     * Максимум/минимум по каждой размерности\n",
        "     * Конкатенация среднего и максимума\n",
        "\n",
        "4. ДОБАВЬТЕ SVM КЛАССИФИКАТОР:\n",
        "   - Обучите SVM с разными ядрами (`linear`, `rbf`)\n",
        "   - Сравните с LogisticRegression\n",
        "\n",
        "5. ВИЗУАЛИЗАЦИЯ ЭМБЕДДИНГОВ:\n",
        "   - Используйте t-SNE для визуализации Word2Vec векторов слов\n",
        "   - Покажите кластеры позитивных и негативных слов\n",
        "\n",
        "6. КРОСС-ВАЛИДАЦИЯ:\n",
        "   - Реализуйте 5-fold кросс-валидацию\n",
        "   - Получите доверительные интервалы для метрик\n",
        "\n",
        "7. АНАЛИЗ ВАЖНОСТИ:\n",
        "   - Для Word2Vec используйте LIME или SHAP\n",
        "   - Объясните предсказания для конкретных примеров\n",
        "\n"
      ]
    },
    {
      "cell_type": "markdown",
      "metadata": {
        "id": "AL4qMOxe_1oS"
      },
      "source": [
        "## Дополнительные ресурсы\n",
        "\n",
        "Habr: [Пишем свой TF-IDF](https://habr.com/ru/articles/836706/)\n",
        "\n",
        "Визуализация: [Word2Vec](projector.tensorflow.org)"
      ]
    },
    {
      "cell_type": "code",
      "execution_count": null,
      "metadata": {
        "id": "-jKjgpj_B_ZY"
      },
      "outputs": [],
      "source": []
    }
  ],
  "metadata": {
    "colab": {
      "provenance": []
    },
    "kernelspec": {
      "display_name": "nlp-1-lesson",
      "language": "python",
      "name": "python3"
    },
    "language_info": {
      "codemirror_mode": {
        "name": "ipython",
        "version": 3
      },
      "file_extension": ".py",
      "mimetype": "text/x-python",
      "name": "python",
      "nbconvert_exporter": "python",
      "pygments_lexer": "ipython3",
      "version": "3.11.13"
    },
    "widgets": {
      "application/vnd.jupyter.widget-state+json": {
        "0013454d2232429987711386e4d25d5d": {
          "model_module": "@jupyter-widgets/controls",
          "model_module_version": "1.5.0",
          "model_name": "HBoxModel",
          "state": {
            "_dom_classes": [],
            "_model_module": "@jupyter-widgets/controls",
            "_model_module_version": "1.5.0",
            "_model_name": "HBoxModel",
            "_view_count": null,
            "_view_module": "@jupyter-widgets/controls",
            "_view_module_version": "1.5.0",
            "_view_name": "HBoxView",
            "box_style": "",
            "children": [
              "IPY_MODEL_9c6fa4332ad04c5389e5fbf77bec0510",
              "IPY_MODEL_95b105b331134b3abd83a3adce99724a",
              "IPY_MODEL_2f6415d92518482a89f65c17341f0f24"
            ],
            "layout": "IPY_MODEL_7d7cdc9a3f05440db29809329b870044"
          }
        },
        "02adc07855e94fd191d9d6dbb3d5c3ac": {
          "model_module": "@jupyter-widgets/controls",
          "model_module_version": "1.5.0",
          "model_name": "HTMLModel",
          "state": {
            "_dom_classes": [],
            "_model_module": "@jupyter-widgets/controls",
            "_model_module_version": "1.5.0",
            "_model_name": "HTMLModel",
            "_view_count": null,
            "_view_module": "@jupyter-widgets/controls",
            "_view_module_version": "1.5.0",
            "_view_name": "HTMLView",
            "description": "",
            "description_tooltip": null,
            "layout": "IPY_MODEL_ddb534c6d41547c69abf8564767f0cea",
            "placeholder": "​",
            "style": "IPY_MODEL_b0f47ed35afc496883ab5886eeb16cf6",
            "value": " 6403/6403 [00:02&lt;00:00, 2884.99it/s]"
          }
        },
        "033b30da8d0441999c1cf834c1a4531a": {
          "model_module": "@jupyter-widgets/controls",
          "model_module_version": "1.5.0",
          "model_name": "FloatProgressModel",
          "state": {
            "_dom_classes": [],
            "_model_module": "@jupyter-widgets/controls",
            "_model_module_version": "1.5.0",
            "_model_name": "FloatProgressModel",
            "_view_count": null,
            "_view_module": "@jupyter-widgets/controls",
            "_view_module_version": "1.5.0",
            "_view_name": "ProgressView",
            "bar_style": "success",
            "description": "",
            "description_tooltip": null,
            "layout": "IPY_MODEL_c01f64db7ee34f6ea4139c572ac55c0e",
            "max": 25612,
            "min": 0,
            "orientation": "horizontal",
            "style": "IPY_MODEL_b2b808e5f24340a4abfa3c223c873497",
            "value": 25612
          }
        },
        "0500d213330a4d94939106775e756d5a": {
          "model_module": "@jupyter-widgets/controls",
          "model_module_version": "1.5.0",
          "model_name": "DescriptionStyleModel",
          "state": {
            "_model_module": "@jupyter-widgets/controls",
            "_model_module_version": "1.5.0",
            "_model_name": "DescriptionStyleModel",
            "_view_count": null,
            "_view_module": "@jupyter-widgets/base",
            "_view_module_version": "1.2.0",
            "_view_name": "StyleView",
            "description_width": ""
          }
        },
        "07b65d70eb3a453ba74af3fd1c43b6c7": {
          "model_module": "@jupyter-widgets/controls",
          "model_module_version": "1.5.0",
          "model_name": "HTMLModel",
          "state": {
            "_dom_classes": [],
            "_model_module": "@jupyter-widgets/controls",
            "_model_module_version": "1.5.0",
            "_model_name": "HTMLModel",
            "_view_count": null,
            "_view_module": "@jupyter-widgets/controls",
            "_view_module_version": "1.5.0",
            "_view_name": "HTMLView",
            "description": "",
            "description_tooltip": null,
            "layout": "IPY_MODEL_6eca676c5a8e421bb2fce3670b2a3d0c",
            "placeholder": "​",
            "style": "IPY_MODEL_456aeced8bb64a16837d10a8eefd6cfa",
            "value": "100%"
          }
        },
        "0c0080c3a6c149e3ba9f463c42ff44a7": {
          "model_module": "@jupyter-widgets/controls",
          "model_module_version": "1.5.0",
          "model_name": "HTMLModel",
          "state": {
            "_dom_classes": [],
            "_model_module": "@jupyter-widgets/controls",
            "_model_module_version": "1.5.0",
            "_model_name": "HTMLModel",
            "_view_count": null,
            "_view_module": "@jupyter-widgets/controls",
            "_view_module_version": "1.5.0",
            "_view_name": "HTMLView",
            "description": "",
            "description_tooltip": null,
            "layout": "IPY_MODEL_a1e76c7c472a4b7fb370ad3672da8f31",
            "placeholder": "​",
            "style": "IPY_MODEL_3281bef880ee481888ec8e74efe3ec7d",
            "value": " 32015/32015 [00:09&lt;00:00, 3513.03it/s]"
          }
        },
        "0d0b3319656d463cb23351a460fff80c": {
          "model_module": "@jupyter-widgets/base",
          "model_module_version": "1.2.0",
          "model_name": "LayoutModel",
          "state": {
            "_model_module": "@jupyter-widgets/base",
            "_model_module_version": "1.2.0",
            "_model_name": "LayoutModel",
            "_view_count": null,
            "_view_module": "@jupyter-widgets/base",
            "_view_module_version": "1.2.0",
            "_view_name": "LayoutView",
            "align_content": null,
            "align_items": null,
            "align_self": null,
            "border": null,
            "bottom": null,
            "display": null,
            "flex": null,
            "flex_flow": null,
            "grid_area": null,
            "grid_auto_columns": null,
            "grid_auto_flow": null,
            "grid_auto_rows": null,
            "grid_column": null,
            "grid_gap": null,
            "grid_row": null,
            "grid_template_areas": null,
            "grid_template_columns": null,
            "grid_template_rows": null,
            "height": null,
            "justify_content": null,
            "justify_items": null,
            "left": null,
            "margin": null,
            "max_height": null,
            "max_width": null,
            "min_height": null,
            "min_width": null,
            "object_fit": null,
            "object_position": null,
            "order": null,
            "overflow": null,
            "overflow_x": null,
            "overflow_y": null,
            "padding": null,
            "right": null,
            "top": null,
            "visibility": null,
            "width": null
          }
        },
        "0f24ac166cfc436a9c815dbedda77df4": {
          "model_module": "@jupyter-widgets/controls",
          "model_module_version": "1.5.0",
          "model_name": "FloatProgressModel",
          "state": {
            "_dom_classes": [],
            "_model_module": "@jupyter-widgets/controls",
            "_model_module_version": "1.5.0",
            "_model_name": "FloatProgressModel",
            "_view_count": null,
            "_view_module": "@jupyter-widgets/controls",
            "_view_module_version": "1.5.0",
            "_view_name": "ProgressView",
            "bar_style": "success",
            "description": "",
            "description_tooltip": null,
            "layout": "IPY_MODEL_4eff43817f714f449ba6697ff6c373d6",
            "max": 32015,
            "min": 0,
            "orientation": "horizontal",
            "style": "IPY_MODEL_473d4e41c013476d93b38f9f34f8cbba",
            "value": 32015
          }
        },
        "18bb2b6ed593430ab377a59268e1df75": {
          "model_module": "@jupyter-widgets/controls",
          "model_module_version": "1.5.0",
          "model_name": "FloatProgressModel",
          "state": {
            "_dom_classes": [],
            "_model_module": "@jupyter-widgets/controls",
            "_model_module_version": "1.5.0",
            "_model_name": "FloatProgressModel",
            "_view_count": null,
            "_view_module": "@jupyter-widgets/controls",
            "_view_module_version": "1.5.0",
            "_view_name": "ProgressView",
            "bar_style": "success",
            "description": "",
            "description_tooltip": null,
            "layout": "IPY_MODEL_3ba5f9557ecf41dba913a150d8f00d10",
            "max": 6403,
            "min": 0,
            "orientation": "horizontal",
            "style": "IPY_MODEL_299b8d1a10594c5d833057cc24f329b1",
            "value": 6403
          }
        },
        "299b8d1a10594c5d833057cc24f329b1": {
          "model_module": "@jupyter-widgets/controls",
          "model_module_version": "1.5.0",
          "model_name": "ProgressStyleModel",
          "state": {
            "_model_module": "@jupyter-widgets/controls",
            "_model_module_version": "1.5.0",
            "_model_name": "ProgressStyleModel",
            "_view_count": null,
            "_view_module": "@jupyter-widgets/base",
            "_view_module_version": "1.2.0",
            "_view_name": "StyleView",
            "bar_color": null,
            "description_width": ""
          }
        },
        "2f6415d92518482a89f65c17341f0f24": {
          "model_module": "@jupyter-widgets/controls",
          "model_module_version": "1.5.0",
          "model_name": "HTMLModel",
          "state": {
            "_dom_classes": [],
            "_model_module": "@jupyter-widgets/controls",
            "_model_module_version": "1.5.0",
            "_model_name": "HTMLModel",
            "_view_count": null,
            "_view_module": "@jupyter-widgets/controls",
            "_view_module_version": "1.5.0",
            "_view_name": "HTMLView",
            "description": "",
            "description_tooltip": null,
            "layout": "IPY_MODEL_531a8585a93d4204b6d7aa0231cdd7c7",
            "placeholder": "​",
            "style": "IPY_MODEL_d92becfae8ed431e816f51f756ff8944",
            "value": " 32015/32015 [10:03&lt;00:00, 45.92it/s]"
          }
        },
        "3271dd8ca26d470ca423db4da2357eb4": {
          "model_module": "@jupyter-widgets/controls",
          "model_module_version": "1.5.0",
          "model_name": "ProgressStyleModel",
          "state": {
            "_model_module": "@jupyter-widgets/controls",
            "_model_module_version": "1.5.0",
            "_model_name": "ProgressStyleModel",
            "_view_count": null,
            "_view_module": "@jupyter-widgets/base",
            "_view_module_version": "1.2.0",
            "_view_name": "StyleView",
            "bar_color": null,
            "description_width": ""
          }
        },
        "3281bef880ee481888ec8e74efe3ec7d": {
          "model_module": "@jupyter-widgets/controls",
          "model_module_version": "1.5.0",
          "model_name": "DescriptionStyleModel",
          "state": {
            "_model_module": "@jupyter-widgets/controls",
            "_model_module_version": "1.5.0",
            "_model_name": "DescriptionStyleModel",
            "_view_count": null,
            "_view_module": "@jupyter-widgets/base",
            "_view_module_version": "1.2.0",
            "_view_name": "StyleView",
            "description_width": ""
          }
        },
        "335ce13219d04a8b9d49637457d6447e": {
          "model_module": "@jupyter-widgets/controls",
          "model_module_version": "1.5.0",
          "model_name": "HBoxModel",
          "state": {
            "_dom_classes": [],
            "_model_module": "@jupyter-widgets/controls",
            "_model_module_version": "1.5.0",
            "_model_name": "HBoxModel",
            "_view_count": null,
            "_view_module": "@jupyter-widgets/controls",
            "_view_module_version": "1.5.0",
            "_view_name": "HBoxView",
            "box_style": "",
            "children": [
              "IPY_MODEL_07b65d70eb3a453ba74af3fd1c43b6c7",
              "IPY_MODEL_18bb2b6ed593430ab377a59268e1df75",
              "IPY_MODEL_02adc07855e94fd191d9d6dbb3d5c3ac"
            ],
            "layout": "IPY_MODEL_a1ab201ad8b9467a96ad1308e79fb1b6"
          }
        },
        "36ec30928a2e4494b78c1981bc404699": {
          "model_module": "@jupyter-widgets/controls",
          "model_module_version": "1.5.0",
          "model_name": "HTMLModel",
          "state": {
            "_dom_classes": [],
            "_model_module": "@jupyter-widgets/controls",
            "_model_module_version": "1.5.0",
            "_model_name": "HTMLModel",
            "_view_count": null,
            "_view_module": "@jupyter-widgets/controls",
            "_view_module_version": "1.5.0",
            "_view_name": "HTMLView",
            "description": "",
            "description_tooltip": null,
            "layout": "IPY_MODEL_ab342e7a8ec64e9698f11bdec8d6da4b",
            "placeholder": "​",
            "style": "IPY_MODEL_6f45872ae1e14313ab1ce0da6f6f10d6",
            "value": "100%"
          }
        },
        "3ba5f9557ecf41dba913a150d8f00d10": {
          "model_module": "@jupyter-widgets/base",
          "model_module_version": "1.2.0",
          "model_name": "LayoutModel",
          "state": {
            "_model_module": "@jupyter-widgets/base",
            "_model_module_version": "1.2.0",
            "_model_name": "LayoutModel",
            "_view_count": null,
            "_view_module": "@jupyter-widgets/base",
            "_view_module_version": "1.2.0",
            "_view_name": "LayoutView",
            "align_content": null,
            "align_items": null,
            "align_self": null,
            "border": null,
            "bottom": null,
            "display": null,
            "flex": null,
            "flex_flow": null,
            "grid_area": null,
            "grid_auto_columns": null,
            "grid_auto_flow": null,
            "grid_auto_rows": null,
            "grid_column": null,
            "grid_gap": null,
            "grid_row": null,
            "grid_template_areas": null,
            "grid_template_columns": null,
            "grid_template_rows": null,
            "height": null,
            "justify_content": null,
            "justify_items": null,
            "left": null,
            "margin": null,
            "max_height": null,
            "max_width": null,
            "min_height": null,
            "min_width": null,
            "object_fit": null,
            "object_position": null,
            "order": null,
            "overflow": null,
            "overflow_x": null,
            "overflow_y": null,
            "padding": null,
            "right": null,
            "top": null,
            "visibility": null,
            "width": null
          }
        },
        "456aeced8bb64a16837d10a8eefd6cfa": {
          "model_module": "@jupyter-widgets/controls",
          "model_module_version": "1.5.0",
          "model_name": "DescriptionStyleModel",
          "state": {
            "_model_module": "@jupyter-widgets/controls",
            "_model_module_version": "1.5.0",
            "_model_name": "DescriptionStyleModel",
            "_view_count": null,
            "_view_module": "@jupyter-widgets/base",
            "_view_module_version": "1.2.0",
            "_view_name": "StyleView",
            "description_width": ""
          }
        },
        "473d4e41c013476d93b38f9f34f8cbba": {
          "model_module": "@jupyter-widgets/controls",
          "model_module_version": "1.5.0",
          "model_name": "ProgressStyleModel",
          "state": {
            "_model_module": "@jupyter-widgets/controls",
            "_model_module_version": "1.5.0",
            "_model_name": "ProgressStyleModel",
            "_view_count": null,
            "_view_module": "@jupyter-widgets/base",
            "_view_module_version": "1.2.0",
            "_view_name": "StyleView",
            "bar_color": null,
            "description_width": ""
          }
        },
        "483009153de7438c813d25cffa094729": {
          "model_module": "@jupyter-widgets/base",
          "model_module_version": "1.2.0",
          "model_name": "LayoutModel",
          "state": {
            "_model_module": "@jupyter-widgets/base",
            "_model_module_version": "1.2.0",
            "_model_name": "LayoutModel",
            "_view_count": null,
            "_view_module": "@jupyter-widgets/base",
            "_view_module_version": "1.2.0",
            "_view_name": "LayoutView",
            "align_content": null,
            "align_items": null,
            "align_self": null,
            "border": null,
            "bottom": null,
            "display": null,
            "flex": null,
            "flex_flow": null,
            "grid_area": null,
            "grid_auto_columns": null,
            "grid_auto_flow": null,
            "grid_auto_rows": null,
            "grid_column": null,
            "grid_gap": null,
            "grid_row": null,
            "grid_template_areas": null,
            "grid_template_columns": null,
            "grid_template_rows": null,
            "height": null,
            "justify_content": null,
            "justify_items": null,
            "left": null,
            "margin": null,
            "max_height": null,
            "max_width": null,
            "min_height": null,
            "min_width": null,
            "object_fit": null,
            "object_position": null,
            "order": null,
            "overflow": null,
            "overflow_x": null,
            "overflow_y": null,
            "padding": null,
            "right": null,
            "top": null,
            "visibility": null,
            "width": null
          }
        },
        "49aa4b872cf442c682bcdaa9e6713618": {
          "model_module": "@jupyter-widgets/controls",
          "model_module_version": "1.5.0",
          "model_name": "DescriptionStyleModel",
          "state": {
            "_model_module": "@jupyter-widgets/controls",
            "_model_module_version": "1.5.0",
            "_model_name": "DescriptionStyleModel",
            "_view_count": null,
            "_view_module": "@jupyter-widgets/base",
            "_view_module_version": "1.2.0",
            "_view_name": "StyleView",
            "description_width": ""
          }
        },
        "4eff43817f714f449ba6697ff6c373d6": {
          "model_module": "@jupyter-widgets/base",
          "model_module_version": "1.2.0",
          "model_name": "LayoutModel",
          "state": {
            "_model_module": "@jupyter-widgets/base",
            "_model_module_version": "1.2.0",
            "_model_name": "LayoutModel",
            "_view_count": null,
            "_view_module": "@jupyter-widgets/base",
            "_view_module_version": "1.2.0",
            "_view_name": "LayoutView",
            "align_content": null,
            "align_items": null,
            "align_self": null,
            "border": null,
            "bottom": null,
            "display": null,
            "flex": null,
            "flex_flow": null,
            "grid_area": null,
            "grid_auto_columns": null,
            "grid_auto_flow": null,
            "grid_auto_rows": null,
            "grid_column": null,
            "grid_gap": null,
            "grid_row": null,
            "grid_template_areas": null,
            "grid_template_columns": null,
            "grid_template_rows": null,
            "height": null,
            "justify_content": null,
            "justify_items": null,
            "left": null,
            "margin": null,
            "max_height": null,
            "max_width": null,
            "min_height": null,
            "min_width": null,
            "object_fit": null,
            "object_position": null,
            "order": null,
            "overflow": null,
            "overflow_x": null,
            "overflow_y": null,
            "padding": null,
            "right": null,
            "top": null,
            "visibility": null,
            "width": null
          }
        },
        "531a8585a93d4204b6d7aa0231cdd7c7": {
          "model_module": "@jupyter-widgets/base",
          "model_module_version": "1.2.0",
          "model_name": "LayoutModel",
          "state": {
            "_model_module": "@jupyter-widgets/base",
            "_model_module_version": "1.2.0",
            "_model_name": "LayoutModel",
            "_view_count": null,
            "_view_module": "@jupyter-widgets/base",
            "_view_module_version": "1.2.0",
            "_view_name": "LayoutView",
            "align_content": null,
            "align_items": null,
            "align_self": null,
            "border": null,
            "bottom": null,
            "display": null,
            "flex": null,
            "flex_flow": null,
            "grid_area": null,
            "grid_auto_columns": null,
            "grid_auto_flow": null,
            "grid_auto_rows": null,
            "grid_column": null,
            "grid_gap": null,
            "grid_row": null,
            "grid_template_areas": null,
            "grid_template_columns": null,
            "grid_template_rows": null,
            "height": null,
            "justify_content": null,
            "justify_items": null,
            "left": null,
            "margin": null,
            "max_height": null,
            "max_width": null,
            "min_height": null,
            "min_width": null,
            "object_fit": null,
            "object_position": null,
            "order": null,
            "overflow": null,
            "overflow_x": null,
            "overflow_y": null,
            "padding": null,
            "right": null,
            "top": null,
            "visibility": null,
            "width": null
          }
        },
        "6eca676c5a8e421bb2fce3670b2a3d0c": {
          "model_module": "@jupyter-widgets/base",
          "model_module_version": "1.2.0",
          "model_name": "LayoutModel",
          "state": {
            "_model_module": "@jupyter-widgets/base",
            "_model_module_version": "1.2.0",
            "_model_name": "LayoutModel",
            "_view_count": null,
            "_view_module": "@jupyter-widgets/base",
            "_view_module_version": "1.2.0",
            "_view_name": "LayoutView",
            "align_content": null,
            "align_items": null,
            "align_self": null,
            "border": null,
            "bottom": null,
            "display": null,
            "flex": null,
            "flex_flow": null,
            "grid_area": null,
            "grid_auto_columns": null,
            "grid_auto_flow": null,
            "grid_auto_rows": null,
            "grid_column": null,
            "grid_gap": null,
            "grid_row": null,
            "grid_template_areas": null,
            "grid_template_columns": null,
            "grid_template_rows": null,
            "height": null,
            "justify_content": null,
            "justify_items": null,
            "left": null,
            "margin": null,
            "max_height": null,
            "max_width": null,
            "min_height": null,
            "min_width": null,
            "object_fit": null,
            "object_position": null,
            "order": null,
            "overflow": null,
            "overflow_x": null,
            "overflow_y": null,
            "padding": null,
            "right": null,
            "top": null,
            "visibility": null,
            "width": null
          }
        },
        "6f45872ae1e14313ab1ce0da6f6f10d6": {
          "model_module": "@jupyter-widgets/controls",
          "model_module_version": "1.5.0",
          "model_name": "DescriptionStyleModel",
          "state": {
            "_model_module": "@jupyter-widgets/controls",
            "_model_module_version": "1.5.0",
            "_model_name": "DescriptionStyleModel",
            "_view_count": null,
            "_view_module": "@jupyter-widgets/base",
            "_view_module_version": "1.2.0",
            "_view_name": "StyleView",
            "description_width": ""
          }
        },
        "7d7cdc9a3f05440db29809329b870044": {
          "model_module": "@jupyter-widgets/base",
          "model_module_version": "1.2.0",
          "model_name": "LayoutModel",
          "state": {
            "_model_module": "@jupyter-widgets/base",
            "_model_module_version": "1.2.0",
            "_model_name": "LayoutModel",
            "_view_count": null,
            "_view_module": "@jupyter-widgets/base",
            "_view_module_version": "1.2.0",
            "_view_name": "LayoutView",
            "align_content": null,
            "align_items": null,
            "align_self": null,
            "border": null,
            "bottom": null,
            "display": null,
            "flex": null,
            "flex_flow": null,
            "grid_area": null,
            "grid_auto_columns": null,
            "grid_auto_flow": null,
            "grid_auto_rows": null,
            "grid_column": null,
            "grid_gap": null,
            "grid_row": null,
            "grid_template_areas": null,
            "grid_template_columns": null,
            "grid_template_rows": null,
            "height": null,
            "justify_content": null,
            "justify_items": null,
            "left": null,
            "margin": null,
            "max_height": null,
            "max_width": null,
            "min_height": null,
            "min_width": null,
            "object_fit": null,
            "object_position": null,
            "order": null,
            "overflow": null,
            "overflow_x": null,
            "overflow_y": null,
            "padding": null,
            "right": null,
            "top": null,
            "visibility": null,
            "width": null
          }
        },
        "7e517f4d365340f48a198134d430157c": {
          "model_module": "@jupyter-widgets/controls",
          "model_module_version": "1.5.0",
          "model_name": "HTMLModel",
          "state": {
            "_dom_classes": [],
            "_model_module": "@jupyter-widgets/controls",
            "_model_module_version": "1.5.0",
            "_model_name": "HTMLModel",
            "_view_count": null,
            "_view_module": "@jupyter-widgets/controls",
            "_view_module_version": "1.5.0",
            "_view_name": "HTMLView",
            "description": "",
            "description_tooltip": null,
            "layout": "IPY_MODEL_e9b92a5323d041958695e6b5c0fbcb8a",
            "placeholder": "​",
            "style": "IPY_MODEL_49aa4b872cf442c682bcdaa9e6713618",
            "value": "100%"
          }
        },
        "95b105b331134b3abd83a3adce99724a": {
          "model_module": "@jupyter-widgets/controls",
          "model_module_version": "1.5.0",
          "model_name": "FloatProgressModel",
          "state": {
            "_dom_classes": [],
            "_model_module": "@jupyter-widgets/controls",
            "_model_module_version": "1.5.0",
            "_model_name": "FloatProgressModel",
            "_view_count": null,
            "_view_module": "@jupyter-widgets/controls",
            "_view_module_version": "1.5.0",
            "_view_name": "ProgressView",
            "bar_style": "success",
            "description": "",
            "description_tooltip": null,
            "layout": "IPY_MODEL_fad6b4968e3447929fff226f506588b8",
            "max": 32015,
            "min": 0,
            "orientation": "horizontal",
            "style": "IPY_MODEL_3271dd8ca26d470ca423db4da2357eb4",
            "value": 32015
          }
        },
        "9652b7c0b6a545b3be6ab951bff9c116": {
          "model_module": "@jupyter-widgets/base",
          "model_module_version": "1.2.0",
          "model_name": "LayoutModel",
          "state": {
            "_model_module": "@jupyter-widgets/base",
            "_model_module_version": "1.2.0",
            "_model_name": "LayoutModel",
            "_view_count": null,
            "_view_module": "@jupyter-widgets/base",
            "_view_module_version": "1.2.0",
            "_view_name": "LayoutView",
            "align_content": null,
            "align_items": null,
            "align_self": null,
            "border": null,
            "bottom": null,
            "display": null,
            "flex": null,
            "flex_flow": null,
            "grid_area": null,
            "grid_auto_columns": null,
            "grid_auto_flow": null,
            "grid_auto_rows": null,
            "grid_column": null,
            "grid_gap": null,
            "grid_row": null,
            "grid_template_areas": null,
            "grid_template_columns": null,
            "grid_template_rows": null,
            "height": null,
            "justify_content": null,
            "justify_items": null,
            "left": null,
            "margin": null,
            "max_height": null,
            "max_width": null,
            "min_height": null,
            "min_width": null,
            "object_fit": null,
            "object_position": null,
            "order": null,
            "overflow": null,
            "overflow_x": null,
            "overflow_y": null,
            "padding": null,
            "right": null,
            "top": null,
            "visibility": null,
            "width": null
          }
        },
        "9c6fa4332ad04c5389e5fbf77bec0510": {
          "model_module": "@jupyter-widgets/controls",
          "model_module_version": "1.5.0",
          "model_name": "HTMLModel",
          "state": {
            "_dom_classes": [],
            "_model_module": "@jupyter-widgets/controls",
            "_model_module_version": "1.5.0",
            "_model_name": "HTMLModel",
            "_view_count": null,
            "_view_module": "@jupyter-widgets/controls",
            "_view_module_version": "1.5.0",
            "_view_name": "HTMLView",
            "description": "",
            "description_tooltip": null,
            "layout": "IPY_MODEL_483009153de7438c813d25cffa094729",
            "placeholder": "​",
            "style": "IPY_MODEL_b18531b88b434d569397e185d7b69909",
            "value": "100%"
          }
        },
        "9e609362ae52415cac5a84fc464d7817": {
          "model_module": "@jupyter-widgets/base",
          "model_module_version": "1.2.0",
          "model_name": "LayoutModel",
          "state": {
            "_model_module": "@jupyter-widgets/base",
            "_model_module_version": "1.2.0",
            "_model_name": "LayoutModel",
            "_view_count": null,
            "_view_module": "@jupyter-widgets/base",
            "_view_module_version": "1.2.0",
            "_view_name": "LayoutView",
            "align_content": null,
            "align_items": null,
            "align_self": null,
            "border": null,
            "bottom": null,
            "display": null,
            "flex": null,
            "flex_flow": null,
            "grid_area": null,
            "grid_auto_columns": null,
            "grid_auto_flow": null,
            "grid_auto_rows": null,
            "grid_column": null,
            "grid_gap": null,
            "grid_row": null,
            "grid_template_areas": null,
            "grid_template_columns": null,
            "grid_template_rows": null,
            "height": null,
            "justify_content": null,
            "justify_items": null,
            "left": null,
            "margin": null,
            "max_height": null,
            "max_width": null,
            "min_height": null,
            "min_width": null,
            "object_fit": null,
            "object_position": null,
            "order": null,
            "overflow": null,
            "overflow_x": null,
            "overflow_y": null,
            "padding": null,
            "right": null,
            "top": null,
            "visibility": null,
            "width": null
          }
        },
        "a1ab201ad8b9467a96ad1308e79fb1b6": {
          "model_module": "@jupyter-widgets/base",
          "model_module_version": "1.2.0",
          "model_name": "LayoutModel",
          "state": {
            "_model_module": "@jupyter-widgets/base",
            "_model_module_version": "1.2.0",
            "_model_name": "LayoutModel",
            "_view_count": null,
            "_view_module": "@jupyter-widgets/base",
            "_view_module_version": "1.2.0",
            "_view_name": "LayoutView",
            "align_content": null,
            "align_items": null,
            "align_self": null,
            "border": null,
            "bottom": null,
            "display": null,
            "flex": null,
            "flex_flow": null,
            "grid_area": null,
            "grid_auto_columns": null,
            "grid_auto_flow": null,
            "grid_auto_rows": null,
            "grid_column": null,
            "grid_gap": null,
            "grid_row": null,
            "grid_template_areas": null,
            "grid_template_columns": null,
            "grid_template_rows": null,
            "height": null,
            "justify_content": null,
            "justify_items": null,
            "left": null,
            "margin": null,
            "max_height": null,
            "max_width": null,
            "min_height": null,
            "min_width": null,
            "object_fit": null,
            "object_position": null,
            "order": null,
            "overflow": null,
            "overflow_x": null,
            "overflow_y": null,
            "padding": null,
            "right": null,
            "top": null,
            "visibility": null,
            "width": null
          }
        },
        "a1e76c7c472a4b7fb370ad3672da8f31": {
          "model_module": "@jupyter-widgets/base",
          "model_module_version": "1.2.0",
          "model_name": "LayoutModel",
          "state": {
            "_model_module": "@jupyter-widgets/base",
            "_model_module_version": "1.2.0",
            "_model_name": "LayoutModel",
            "_view_count": null,
            "_view_module": "@jupyter-widgets/base",
            "_view_module_version": "1.2.0",
            "_view_name": "LayoutView",
            "align_content": null,
            "align_items": null,
            "align_self": null,
            "border": null,
            "bottom": null,
            "display": null,
            "flex": null,
            "flex_flow": null,
            "grid_area": null,
            "grid_auto_columns": null,
            "grid_auto_flow": null,
            "grid_auto_rows": null,
            "grid_column": null,
            "grid_gap": null,
            "grid_row": null,
            "grid_template_areas": null,
            "grid_template_columns": null,
            "grid_template_rows": null,
            "height": null,
            "justify_content": null,
            "justify_items": null,
            "left": null,
            "margin": null,
            "max_height": null,
            "max_width": null,
            "min_height": null,
            "min_width": null,
            "object_fit": null,
            "object_position": null,
            "order": null,
            "overflow": null,
            "overflow_x": null,
            "overflow_y": null,
            "padding": null,
            "right": null,
            "top": null,
            "visibility": null,
            "width": null
          }
        },
        "ab342e7a8ec64e9698f11bdec8d6da4b": {
          "model_module": "@jupyter-widgets/base",
          "model_module_version": "1.2.0",
          "model_name": "LayoutModel",
          "state": {
            "_model_module": "@jupyter-widgets/base",
            "_model_module_version": "1.2.0",
            "_model_name": "LayoutModel",
            "_view_count": null,
            "_view_module": "@jupyter-widgets/base",
            "_view_module_version": "1.2.0",
            "_view_name": "LayoutView",
            "align_content": null,
            "align_items": null,
            "align_self": null,
            "border": null,
            "bottom": null,
            "display": null,
            "flex": null,
            "flex_flow": null,
            "grid_area": null,
            "grid_auto_columns": null,
            "grid_auto_flow": null,
            "grid_auto_rows": null,
            "grid_column": null,
            "grid_gap": null,
            "grid_row": null,
            "grid_template_areas": null,
            "grid_template_columns": null,
            "grid_template_rows": null,
            "height": null,
            "justify_content": null,
            "justify_items": null,
            "left": null,
            "margin": null,
            "max_height": null,
            "max_width": null,
            "min_height": null,
            "min_width": null,
            "object_fit": null,
            "object_position": null,
            "order": null,
            "overflow": null,
            "overflow_x": null,
            "overflow_y": null,
            "padding": null,
            "right": null,
            "top": null,
            "visibility": null,
            "width": null
          }
        },
        "b0f47ed35afc496883ab5886eeb16cf6": {
          "model_module": "@jupyter-widgets/controls",
          "model_module_version": "1.5.0",
          "model_name": "DescriptionStyleModel",
          "state": {
            "_model_module": "@jupyter-widgets/controls",
            "_model_module_version": "1.5.0",
            "_model_name": "DescriptionStyleModel",
            "_view_count": null,
            "_view_module": "@jupyter-widgets/base",
            "_view_module_version": "1.2.0",
            "_view_name": "StyleView",
            "description_width": ""
          }
        },
        "b18531b88b434d569397e185d7b69909": {
          "model_module": "@jupyter-widgets/controls",
          "model_module_version": "1.5.0",
          "model_name": "DescriptionStyleModel",
          "state": {
            "_model_module": "@jupyter-widgets/controls",
            "_model_module_version": "1.5.0",
            "_model_name": "DescriptionStyleModel",
            "_view_count": null,
            "_view_module": "@jupyter-widgets/base",
            "_view_module_version": "1.2.0",
            "_view_name": "StyleView",
            "description_width": ""
          }
        },
        "b2b808e5f24340a4abfa3c223c873497": {
          "model_module": "@jupyter-widgets/controls",
          "model_module_version": "1.5.0",
          "model_name": "ProgressStyleModel",
          "state": {
            "_model_module": "@jupyter-widgets/controls",
            "_model_module_version": "1.5.0",
            "_model_name": "ProgressStyleModel",
            "_view_count": null,
            "_view_module": "@jupyter-widgets/base",
            "_view_module_version": "1.2.0",
            "_view_name": "StyleView",
            "bar_color": null,
            "description_width": ""
          }
        },
        "c01f64db7ee34f6ea4139c572ac55c0e": {
          "model_module": "@jupyter-widgets/base",
          "model_module_version": "1.2.0",
          "model_name": "LayoutModel",
          "state": {
            "_model_module": "@jupyter-widgets/base",
            "_model_module_version": "1.2.0",
            "_model_name": "LayoutModel",
            "_view_count": null,
            "_view_module": "@jupyter-widgets/base",
            "_view_module_version": "1.2.0",
            "_view_name": "LayoutView",
            "align_content": null,
            "align_items": null,
            "align_self": null,
            "border": null,
            "bottom": null,
            "display": null,
            "flex": null,
            "flex_flow": null,
            "grid_area": null,
            "grid_auto_columns": null,
            "grid_auto_flow": null,
            "grid_auto_rows": null,
            "grid_column": null,
            "grid_gap": null,
            "grid_row": null,
            "grid_template_areas": null,
            "grid_template_columns": null,
            "grid_template_rows": null,
            "height": null,
            "justify_content": null,
            "justify_items": null,
            "left": null,
            "margin": null,
            "max_height": null,
            "max_width": null,
            "min_height": null,
            "min_width": null,
            "object_fit": null,
            "object_position": null,
            "order": null,
            "overflow": null,
            "overflow_x": null,
            "overflow_y": null,
            "padding": null,
            "right": null,
            "top": null,
            "visibility": null,
            "width": null
          }
        },
        "d92becfae8ed431e816f51f756ff8944": {
          "model_module": "@jupyter-widgets/controls",
          "model_module_version": "1.5.0",
          "model_name": "DescriptionStyleModel",
          "state": {
            "_model_module": "@jupyter-widgets/controls",
            "_model_module_version": "1.5.0",
            "_model_name": "DescriptionStyleModel",
            "_view_count": null,
            "_view_module": "@jupyter-widgets/base",
            "_view_module_version": "1.2.0",
            "_view_name": "StyleView",
            "description_width": ""
          }
        },
        "ddb534c6d41547c69abf8564767f0cea": {
          "model_module": "@jupyter-widgets/base",
          "model_module_version": "1.2.0",
          "model_name": "LayoutModel",
          "state": {
            "_model_module": "@jupyter-widgets/base",
            "_model_module_version": "1.2.0",
            "_model_name": "LayoutModel",
            "_view_count": null,
            "_view_module": "@jupyter-widgets/base",
            "_view_module_version": "1.2.0",
            "_view_name": "LayoutView",
            "align_content": null,
            "align_items": null,
            "align_self": null,
            "border": null,
            "bottom": null,
            "display": null,
            "flex": null,
            "flex_flow": null,
            "grid_area": null,
            "grid_auto_columns": null,
            "grid_auto_flow": null,
            "grid_auto_rows": null,
            "grid_column": null,
            "grid_gap": null,
            "grid_row": null,
            "grid_template_areas": null,
            "grid_template_columns": null,
            "grid_template_rows": null,
            "height": null,
            "justify_content": null,
            "justify_items": null,
            "left": null,
            "margin": null,
            "max_height": null,
            "max_width": null,
            "min_height": null,
            "min_width": null,
            "object_fit": null,
            "object_position": null,
            "order": null,
            "overflow": null,
            "overflow_x": null,
            "overflow_y": null,
            "padding": null,
            "right": null,
            "top": null,
            "visibility": null,
            "width": null
          }
        },
        "dfc6d6d0280c4ae7b43058d0a4db85e6": {
          "model_module": "@jupyter-widgets/controls",
          "model_module_version": "1.5.0",
          "model_name": "HBoxModel",
          "state": {
            "_dom_classes": [],
            "_model_module": "@jupyter-widgets/controls",
            "_model_module_version": "1.5.0",
            "_model_name": "HBoxModel",
            "_view_count": null,
            "_view_module": "@jupyter-widgets/controls",
            "_view_module_version": "1.5.0",
            "_view_name": "HBoxView",
            "box_style": "",
            "children": [
              "IPY_MODEL_7e517f4d365340f48a198134d430157c",
              "IPY_MODEL_0f24ac166cfc436a9c815dbedda77df4",
              "IPY_MODEL_0c0080c3a6c149e3ba9f463c42ff44a7"
            ],
            "layout": "IPY_MODEL_9e609362ae52415cac5a84fc464d7817"
          }
        },
        "e1c0089538754b8aa1b923d80da6cfdb": {
          "model_module": "@jupyter-widgets/controls",
          "model_module_version": "1.5.0",
          "model_name": "HTMLModel",
          "state": {
            "_dom_classes": [],
            "_model_module": "@jupyter-widgets/controls",
            "_model_module_version": "1.5.0",
            "_model_name": "HTMLModel",
            "_view_count": null,
            "_view_module": "@jupyter-widgets/controls",
            "_view_module_version": "1.5.0",
            "_view_name": "HTMLView",
            "description": "",
            "description_tooltip": null,
            "layout": "IPY_MODEL_0d0b3319656d463cb23351a460fff80c",
            "placeholder": "​",
            "style": "IPY_MODEL_0500d213330a4d94939106775e756d5a",
            "value": " 25612/25612 [00:10&lt;00:00, 2594.91it/s]"
          }
        },
        "e9b92a5323d041958695e6b5c0fbcb8a": {
          "model_module": "@jupyter-widgets/base",
          "model_module_version": "1.2.0",
          "model_name": "LayoutModel",
          "state": {
            "_model_module": "@jupyter-widgets/base",
            "_model_module_version": "1.2.0",
            "_model_name": "LayoutModel",
            "_view_count": null,
            "_view_module": "@jupyter-widgets/base",
            "_view_module_version": "1.2.0",
            "_view_name": "LayoutView",
            "align_content": null,
            "align_items": null,
            "align_self": null,
            "border": null,
            "bottom": null,
            "display": null,
            "flex": null,
            "flex_flow": null,
            "grid_area": null,
            "grid_auto_columns": null,
            "grid_auto_flow": null,
            "grid_auto_rows": null,
            "grid_column": null,
            "grid_gap": null,
            "grid_row": null,
            "grid_template_areas": null,
            "grid_template_columns": null,
            "grid_template_rows": null,
            "height": null,
            "justify_content": null,
            "justify_items": null,
            "left": null,
            "margin": null,
            "max_height": null,
            "max_width": null,
            "min_height": null,
            "min_width": null,
            "object_fit": null,
            "object_position": null,
            "order": null,
            "overflow": null,
            "overflow_x": null,
            "overflow_y": null,
            "padding": null,
            "right": null,
            "top": null,
            "visibility": null,
            "width": null
          }
        },
        "fad6b4968e3447929fff226f506588b8": {
          "model_module": "@jupyter-widgets/base",
          "model_module_version": "1.2.0",
          "model_name": "LayoutModel",
          "state": {
            "_model_module": "@jupyter-widgets/base",
            "_model_module_version": "1.2.0",
            "_model_name": "LayoutModel",
            "_view_count": null,
            "_view_module": "@jupyter-widgets/base",
            "_view_module_version": "1.2.0",
            "_view_name": "LayoutView",
            "align_content": null,
            "align_items": null,
            "align_self": null,
            "border": null,
            "bottom": null,
            "display": null,
            "flex": null,
            "flex_flow": null,
            "grid_area": null,
            "grid_auto_columns": null,
            "grid_auto_flow": null,
            "grid_auto_rows": null,
            "grid_column": null,
            "grid_gap": null,
            "grid_row": null,
            "grid_template_areas": null,
            "grid_template_columns": null,
            "grid_template_rows": null,
            "height": null,
            "justify_content": null,
            "justify_items": null,
            "left": null,
            "margin": null,
            "max_height": null,
            "max_width": null,
            "min_height": null,
            "min_width": null,
            "object_fit": null,
            "object_position": null,
            "order": null,
            "overflow": null,
            "overflow_x": null,
            "overflow_y": null,
            "padding": null,
            "right": null,
            "top": null,
            "visibility": null,
            "width": null
          }
        },
        "fda3eb13cae04983a075016770c72884": {
          "model_module": "@jupyter-widgets/controls",
          "model_module_version": "1.5.0",
          "model_name": "HBoxModel",
          "state": {
            "_dom_classes": [],
            "_model_module": "@jupyter-widgets/controls",
            "_model_module_version": "1.5.0",
            "_model_name": "HBoxModel",
            "_view_count": null,
            "_view_module": "@jupyter-widgets/controls",
            "_view_module_version": "1.5.0",
            "_view_name": "HBoxView",
            "box_style": "",
            "children": [
              "IPY_MODEL_36ec30928a2e4494b78c1981bc404699",
              "IPY_MODEL_033b30da8d0441999c1cf834c1a4531a",
              "IPY_MODEL_e1c0089538754b8aa1b923d80da6cfdb"
            ],
            "layout": "IPY_MODEL_9652b7c0b6a545b3be6ab951bff9c116"
          }
        }
      }
    }
  },
  "nbformat": 4,
  "nbformat_minor": 0
}
