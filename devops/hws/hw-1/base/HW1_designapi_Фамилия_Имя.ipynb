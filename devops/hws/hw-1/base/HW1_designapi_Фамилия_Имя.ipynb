{
  "cells": [
    {
      "cell_type": "markdown",
      "metadata": {
        "id": "0d1aef3d"
      },
      "source": [
        "## HW1. Проектирование API\n",
        "Автор: *ФИО*, группа, дата\n",
        "\n",
        "Это задание выполняется в рамках модуля 1 «Проектирование API». Вы закрепите навыки разработки API, используя подход сode-first, затем будете придерживаться подхода API-first\n",
        "\n",
        "> Чтобы получить максимальный балл, убедитесь, что ваш ноутбук запускается с нуля, структура понятна, а в выводах вы объясняете свои решения.  "
      ],
      "id": "0d1aef3d"
    },
    {
      "cell_type": "markdown",
      "metadata": {
        "id": "977cd6ff"
      },
      "source": [
        "## Подготовка окружения"
      ],
      "id": "977cd6ff"
    },
    {
      "cell_type": "code",
      "execution_count": null,
      "metadata": {
        "id": "debb5aa2"
      },
      "outputs": [],
      "source": [
        "!pip install fastapi[all] uvicorn[\"standard\"]"
      ],
      "id": "debb5aa2"
    },
    {
      "cell_type": "markdown",
      "source": [
        "Теперь, когда у нас установлены необходимые библиотеки, мы можем приступить к созданию нашего первого приложения FastAPI."
      ],
      "metadata": {
        "id": "syEj3l2Nh-Yd"
      },
      "id": "syEj3l2Nh-Yd"
    },
    {
      "cell_type": "markdown",
      "source": [
        "### Задание 1\n",
        "\n",
        "Вам необходимо самостоятельно создать веб-сервер на основе FastAPI.\n",
        "\n",
        "Задача: создать файл `main.py`, который будет содержать наш код API с четырьмя методами HTTP.\n",
        "\n"
      ],
      "metadata": {
        "id": "l-tnRM_vlUN3"
      },
      "id": "l-tnRM_vlUN3"
    },
    {
      "cell_type": "code",
      "source": [
        "app = FastAPI()\n",
        "\n",
        "@app.post(\"/1\")\n",
        "@app.get(\"/1\")\n",
        "def fgfhfh"
      ],
      "metadata": {
        "id": "rB7Lf9Kllz8X"
      },
      "id": "rB7Lf9Kllz8X",
      "execution_count": null,
      "outputs": []
    },
    {
      "cell_type": "markdown",
      "source": [
        "### Задание 2\n",
        "\n",
        "Сервер должен отвечать валидным JSON на эндпоинте /json_data.\n",
        "\n",
        "Задача: создать новый эндпоинт /json_data и подключить компонент JSONResponse на этом эндпоинте. Содержание JSONa не важно, главное, чтобы он был валидным.\n"
      ],
      "metadata": {
        "id": "rr0KQjEomEZq"
      },
      "id": "rr0KQjEomEZq"
    },
    {
      "cell_type": "code",
      "source": [],
      "metadata": {
        "id": "rfSNPyEDm651"
      },
      "id": "rfSNPyEDm651",
      "execution_count": null,
      "outputs": []
    },
    {
      "cell_type": "markdown",
      "source": [
        "### Задание 3\n",
        "\n",
        "Обработка ошибок с использованием простого HTTPException.\n",
        "\n",
        "Задачи:\n",
        "1. Изучите стандартные коды ошибок.\n",
        "2. Выберите любое случайное число в диапазоне 400—526.\n",
        "\n",
        "> Чтобы возвращать ошибки с соответствующими HTTP-статусами вам нужно:\n",
        "> 1. подключить класс `HTTPException` и просто выдать любой [код ошибки](https://ru.wikipedia.org/wiki/%D0%A1%D0%BF%D0%B8%D1%81%D0%BE%D0%BA_%D0%BA%D0%BE%D0%B4%D0%BE%D0%B2_%D1%81%D0%BE%D1%81%D1%82%D0%BE%D1%8F%D0%BD%D0%B8%D1%8F_HTTP) (от 400 до 526);\n",
        "> 2. создать маршрут /error, который будет генерировать ошибку с этим кодом в ответ на любой запрос.\n",
        "\n",
        "В комментариях напишите, как вы понимаете, что означает выбранный вами код ошибки."
      ],
      "metadata": {
        "id": "kECidjAWot55"
      },
      "id": "kECidjAWot55"
    },
    {
      "cell_type": "code",
      "source": [
        "import random;print(\"используйте и опишите код ошибки\", random.randint(400,526))"
      ],
      "metadata": {
        "colab": {
          "base_uri": "https://localhost:8080/"
        },
        "id": "4R6kpCgtpK_j",
        "outputId": "7578b895-f238-43c4-a83c-ce4f2ffa3bbe"
      },
      "id": "4R6kpCgtpK_j",
      "execution_count": null,
      "outputs": [
        {
          "output_type": "stream",
          "name": "stdout",
          "text": [
            "511\n"
          ]
        }
      ]
    },
    {
      "cell_type": "code",
      "source": [],
      "metadata": {
        "id": "bskDw3BbrH8R"
      },
      "id": "bskDw3BbrH8R",
      "execution_count": null,
      "outputs": []
    },
    {
      "cell_type": "markdown",
      "source": [
        "### Задание 4\n",
        "\n",
        "Создание автодокументации для API: FastAPI автоматически генерирует документацию API в формате OpenAPI и предоставляет интерфейс Swagger UI для ее просмотра\n",
        "\n",
        "*Поскольку код коллаба выполняется внутри виртуальной машины, у которой нет внешнего IP-адреса, вам потребуется создать тоннель, чтобы получить внешний IP-адрес.*\n",
        "\n",
        "*Зарегистрируйтесь в личном кабинете https://xtunnel.ru/ и скопируйте бесплатную лицензию (секретный ключ API)*\n",
        "\n",
        "Если возникают сложности, используйте локальную версию коллаба.\n",
        "```bash\n",
        "pip install notebook\n",
        "jupyter notebook\n",
        "```\n",
        "\n",
        "\n",
        "Задача. Чтобы проверить документацию, выполните следующие шаги:\n",
        "1. Запустите сервер FastAPI с помощью команды ниже.\n",
        "2. Откройте браузер и перейдите по адресу `http://127.0.0.1:8000/docs` для просмотра документации в Swagger UI.\n",
        "3. Для просмотра документации в формате OpenAPI перейдите по адресу `http://127.0.0.1:8000/openapi.json`"
      ],
      "metadata": {
        "id": "tRdyHK6hqBjx"
      },
      "id": "tRdyHK6hqBjx"
    },
    {
      "cell_type": "code",
      "source": [
        "\"\"\"\n",
        "\n",
        "вставьте сюда полученый JSON, который вы скопировали по адресу http://127.0.0.1:8000/openapi.json\n",
        "\n",
        "\"\"\""
      ],
      "metadata": {
        "id": "7uYkL_qAsM12"
      },
      "id": "7uYkL_qAsM12",
      "execution_count": null,
      "outputs": []
    },
    {
      "cell_type": "markdown",
      "source": [
        "### Задание 5\n",
        "\n",
        "Автодокументаци API хороша для маленьких проектов. Сейчас вам нужно полученый в задании 4 JSON вставить в редактор [Swagger](https://editor.swagger.io/), добавить проектируемый маршрут с ответом в формате XML и сохранить описание в YAML.\n",
        "\n",
        "Задачи:\n",
        "1. Откройте редактор Swagger, вставьте JSON (ответьте ОК на запрос Would you like to convert your JSON into YAML?)\n",
        "2. Добавьте 1 эндпоинт.\n",
        "3. Скопируйте получившееся описание в YAML и вставьте в ячейку ниже."
      ],
      "metadata": {
        "id": "O9ed3Ua4stEV"
      },
      "id": "O9ed3Ua4stEV"
    },
    {
      "cell_type": "code",
      "source": [
        "\"\"\"\n",
        "\n",
        "вставьте сюда полученый YAML, который вы скопировали из SWagger\n",
        "\n",
        "\"\"\""
      ],
      "metadata": {
        "id": "q9tPw_CMzWLi"
      },
      "id": "q9tPw_CMzWLi",
      "execution_count": null,
      "outputs": []
    },
    {
      "cell_type": "markdown",
      "metadata": {
        "id": "3dfa2f78"
      },
      "source": [
        "## Итоговое оформление\n",
        "\n",
        "\n",
        "1. Подготовьте ноутбук в логичной структуре: написание кода → работа с JSON → обработка ошибок → API в YAML → итоги.  \n",
        "2. В ячейках Markdown сформулируйте 5–8 предложений с выводами, когда стоит применять подход Code-first и почему стоит придерживаться подхода API-first.  \n",
        "\n"
      ],
      "id": "3dfa2f78"
    },
    {
      "cell_type": "code",
      "source": [],
      "metadata": {
        "id": "HCAshmbE0Iwe"
      },
      "id": "HCAshmbE0Iwe",
      "execution_count": null,
      "outputs": []
    }
  ],
  "metadata": {
    "colab": {
      "provenance": []
    },
    "language_info": {
      "name": "python"
    },
    "kernelspec": {
      "name": "python3",
      "display_name": "Python 3"
    }
  },
  "nbformat": 4,
  "nbformat_minor": 5
}